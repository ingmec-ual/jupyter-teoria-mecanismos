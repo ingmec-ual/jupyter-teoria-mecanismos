{
 "cells": [
  {
   "cell_type": "markdown",
   "metadata": {},
   "source": [
    "MECANISMO CUATRO BARRAS \n",
    "\n",
    "PROBLEMAS VELOCIDAD Y ACELERACIÓN"
   ]
  },
  {
   "cell_type": "markdown",
   "metadata": {},
   "source": [
    "PASO 1: MATRIZ JACOBIANA\n",
    "\n",
    "Para resolver el problema velocidad, necesitamos otra vez la matriz jacobiana. El método de construcción aparece detallado en el notebook Problema_Posición_4B, por lo que para este caso copiaremos el código de los pasos realizados para poder conseguirla."
   ]
  },
  {
   "cell_type": "code",
   "execution_count": 30,
   "metadata": {},
   "outputs": [
    {
     "name": "stdout",
     "output_type": "stream",
     "text": [
      "MECANISMO DE CUATRO BARRAS\n",
      "=============================\n",
      "Introduce longitud L1:1\n",
      "Introduce longitud L2:2\n",
      "Introduce longitud L3:3\n",
      "Introduce angulo inicial theta:1\n",
      "Introduce coordenada en x del punto B:2\n",
      "Jacob=\n",
      "array([[ 0.2       ,  2.        ,  0.        ,  0.        ,  0.        ],\n",
      "       [-1.8       ,  1.6       ,  1.8       , -1.6       ,  0.        ],\n",
      "       [ 0.        ,  0.        , -2.        ,  0.4       ,  0.        ],\n",
      "       [ 1.        ,  0.        ,  0.        ,  0.        ,  0.84147098],\n",
      "       [ 0.        ,  0.        ,  0.        ,  0.        ,  1.        ]])\n"
     ]
    }
   ],
   "source": [
    "#PASO 1\n",
    "import numpy as np\n",
    "import math as math\n",
    "#import array as arr\n",
    "import pprint  \n",
    "import matplotlib.pyplot as plt  \n",
    "import matplotlib.animation as animation\n",
    "import scipy.integrate as integrate \n",
    "import os\n",
    "from time import sleep\n",
    "%matplotlib inline  \n",
    "\n",
    "\n",
    "print ('MECANISMO DE CUATRO BARRAS')\n",
    "print ('=============================')\n",
    "# Lectura de datos por teclado\n",
    "\n",
    "meca = {} # dictionary vacio, con propiedades de mecanismo\n",
    "\n",
    "meca[\"L1\"] = float (input ('Introduce longitud L1:'))\n",
    "meca[\"L2\"] = float (input ('Introduce longitud L2:'))\n",
    "meca[\"L3\"] = float (input ('Introduce longitud L3:'))\n",
    "meca[\"theta\"] = float (input ('Introduce angulo inicial theta:')) #En rad\n",
    "meca[\"XB\"] = float (input ('Introduce coordenada en x del punto B:'))\n",
    "meca[\"XA\"] = 0\n",
    "meca[\"YA\"] = 0\n",
    "meca[\"YB\"] = 0\n",
    "\n",
    "# Defino posicion inicial:\n",
    "q = np.array ([[0.1], [meca[\"L1\"]], [1], [0.2], [meca[\"theta\"]]])\n",
    "#print('q: ' + str(q))\n",
    "\n",
    "# JACOBIANO\n",
    "def jacob_Phiq(q,meca):\n",
    "    #Inicializa a cero la matriz jacobiana\n",
    "    Jacob = np.zeros((5,5))\n",
    "\n",
    "    #Extraer coordenadas\n",
    "\n",
    "    X1 = q[0]\n",
    "    Y1 = q[1]\n",
    "    X2 = q[2]\n",
    "    Y2 = q[3]\n",
    "    theta = q[4]\n",
    "\n",
    "    #Montar matriz\n",
    "\n",
    "    Jacob[0,0] = 2*X1\n",
    "    Jacob[0,1] = 2*Y1\n",
    "    Jacob[1,0] = -2*(X2-X1)\n",
    "    Jacob[1,1] = -2*(Y2-Y1)\n",
    "    Jacob[1,2] = 2*(X2-X1)\n",
    "    Jacob[1,3] = 2*(Y2-Y1)\n",
    "    Jacob[2,2] = -2*(meca[\"XB\"]-X2)\n",
    "    Jacob[2,3] = -2*(0-Y2)\n",
    "\n",
    "    if (math.cos(theta) < (math.sqrt(2)/2) ):\n",
    "        Jacob[3,4] = meca[\"L1\"]*math.sin(theta)\n",
    "        Jacob[3,0] = 1\n",
    "    else:\n",
    "        Jacob[3,4] = -meca[\"L1\"]*math.cos(theta)\n",
    "        Jacob[3,1] = 1\n",
    "\n",
    "\n",
    "    Jacob[4,4] = 1\n",
    "\n",
    "    return Jacob\n",
    "\n",
    "\n",
    "def Phi (q,meca):\n",
    "    #Inicializa a cero Phi\n",
    "    Phi = np.zeros((5,1))\n",
    "\n",
    "    #Extraer coordenadas\n",
    "    X1 = q[0]\n",
    "    Y1 = q[1]\n",
    "    X2 = q[2]\n",
    "    Y2 = q[3]\n",
    "    theta = q[4]\n",
    "\n",
    "    Phi[0] = X1**2 + Y1**2 - meca[\"L1\"]**2\n",
    "    Phi[1] = (X2-X1)**2 + (Y2-Y1)**2 -meca[\"L2\"]**2\n",
    "    Phi[2] = (meca[\"XB\"]-X2)**2 + Y2**2 - meca[\"L3\"]**2\n",
    "\n",
    "    if (math.cos(theta) < (math.sqrt(2)/2) ):\n",
    "        Phi[3] = X1-meca[\"L1\"]*math.cos(theta)\n",
    "    else: \n",
    "        Phi[3] = Y1-meca[\"L1\"]*math.sin(theta)\n",
    "\n",
    "    return Phi\n",
    "\n",
    "\n",
    "\n",
    "def resuelve_prob_posicion(q_init, meca):\n",
    "    #Inicializacion de variables\n",
    "    error = 1e10\n",
    "    tolerancia = 1e-10\n",
    "\n",
    "    #Inicializacion en cero de deltaQ, fi y q\n",
    "    deltaQ = np.zeros ((5,1))\n",
    "    q = q_init\n",
    "    i=0\n",
    "\n",
    "    # Iteraciones hasta conseguir que el error sea menor que la tolerancia\n",
    "\n",
    "    while (error > tolerancia and i<=100):\n",
    "        #print(\"q=\")\n",
    "        #pprint.pprint(q)\n",
    "\n",
    "\n",
    "        #Extraer las coordenadas\n",
    "        X1 = q[0]\n",
    "        Y1 = q[1]\n",
    "        X2 = q[2]\n",
    "        Y2 = q[3]\n",
    "        theta = q[4]\n",
    "       \n",
    "        fi=Phi(q,meca)\n",
    "        #print (\"Phi\" + \"=\")\n",
    "        #pprint.pprint(fi)\n",
    "        J = jacob_Phiq(q,meca)\n",
    "        #print (\"jacob\" + \"=\")\n",
    "        #pprint.pprint(J)\n",
    "        #rango = np.linalg.matrix_rank(J, 1e-5)\n",
    "        #print(\"rango=\" + str(rango) + \"\\n\") #Si el rango es menor que el numero de filas no tiene solucion\n",
    "        \n",
    "        deltaQ = np.linalg.solve(J,-fi)\n",
    "        q = q + deltaQ\n",
    "        error = np.linalg.norm(deltaQ)  # El error es el modulo del vector\n",
    "        i=i+1\n",
    "\n",
    "        \n",
    "        #print(\"error iter\" + str(i) + \"=\")\n",
    "        #pprint.pprint(error)\n",
    "    #print(\"num iters:\" + str(i))\n",
    "    return q\n",
    "\n",
    "resuelve_prob_posicion (q,meca)\n",
    "J = jacob_Phiq(q,meca)\n",
    "print (\"Jacob=\")\n",
    "pprint.pprint(J)"
   ]
  },
  {
   "cell_type": "markdown",
   "metadata": {},
   "source": [
    "PASO 2: PROBLEMA VELOCIDAD\n",
    "\n",
    "Consiste en determinar las velocidades de todas las variables del mecanismmo una vez sabemos su posición q y la velocidad de los grados de libertad. \n",
    "\n",
    "Partimos de la ecuación:\n",
    "\n",
    "Jacob · qp = -Phip\n",
    "\n",
    "Siendo qp el vector velocidad, Jacob el jacobiano y Phip la derivada parcial de las ecuaciones de restricción respecto al tiempo. Para las ecuaciones de sólido rígido el valor de esta derivada es 0. Solo tendría un valor no nulo la correspondiente al ángulo, que en ese caso tendría la velocidad que nosotros le indiquemos. \n",
    "\n",
    "En este caso vamos a tomar un valor de 1. \n",
    "\n",
    "Por lo tanto, tendríamos:\n",
    "\n",
    "qp = Jacob/Phip "
   ]
  },
  {
   "cell_type": "code",
   "execution_count": 31,
   "metadata": {},
   "outputs": [
    {
     "data": {
      "text/plain": [
       "array([[-0.84147098],\n",
       "       [ 0.0841471 ],\n",
       "       [ 0.26601341],\n",
       "       [ 1.33006704],\n",
       "       [ 1.        ]])"
      ]
     },
     "execution_count": 31,
     "metadata": {},
     "output_type": "execute_result"
    }
   ],
   "source": [
    "#PASO 2\n",
    "\n",
    "def resuelve_prob_velocidad(q,meca):\n",
    "    \n",
    "    b = np.zeros ((5,1))\n",
    "    #Velocidad del gdl. En una vuelta completa del angulo se cumple angulo=2*Pi*t\n",
    "    b[4]=1\n",
    "    qp = np.linalg.solve(jacob_Phiq(q,meca),b)\n",
    "    #print (\"qp=\")\n",
    "    #pprint.pprint(qp)\n",
    " \n",
    "    return qp\n",
    "\n",
    "resuelve_prob_velocidad (q,meca)"
   ]
  },
  {
   "cell_type": "markdown",
   "metadata": {},
   "source": [
    "PASO 3: PROBLEMA ACELERACION\n",
    "\n",
    "El problema aceleración trata de determinar las aceleraciones de todas las variables del mecanismo, conociendo la posición q, la velocidad qp y las aceleraciones de los grados de libertad. \n",
    "\n",
    "La ecuación de la que partimos es:\n",
    "\n",
    "Jacob · qpp = -dev_Jacob · qp\n",
    "\n",
    "Siendo Jacob el jacobiano, qpp el vector aceleración, qp el vector velocidad y dev_Jacob la derivada del jacobiano respecto al tiempo. \n",
    "\n",
    "Es decir, si llamamos b al conjunto dev_Jacob·qp tendríamos como resultado:\n",
    "\n",
    "qpp = -Jacob/b"
   ]
  },
  {
   "cell_type": "code",
   "execution_count": 32,
   "metadata": {},
   "outputs": [
    {
     "data": {
      "text/plain": [
       "array([[ 0.30116868],\n",
       "       [-0.74527102],\n",
       "       [ 2.95452069],\n",
       "       [ 5.57339612],\n",
       "       [-1.        ]])"
      ]
     },
     "execution_count": 32,
     "metadata": {},
     "output_type": "execute_result"
    }
   ],
   "source": [
    "#PASO 3\n",
    "\n",
    "def resuelve_prob_aceleracion (q,meca):\n",
    "\n",
    "    b=np.zeros ((5,1))\n",
    "    qp = resuelve_prob_velocidad (q,meca)\n",
    "\n",
    "    #Extraer las posiciones\n",
    "    X1 = q[0]\n",
    "    Y1 = q[1]\n",
    "    X2 = q[2]\n",
    "    Y2 = q[3]\n",
    "    theta = q[4]\n",
    "    #Extraer las velocidades\n",
    "    X1q = qp[0]\n",
    "    Y1q = qp[1]\n",
    "    X2q = qp[2]\n",
    "    Y2q = qp[3]\n",
    "    thetaq = qp[4]\n",
    "    \n",
    "    b[0] = 2*(X1q)**2 + 2*(Y1q)**2\n",
    "    b[1] = 2*(X1q**2+X2q**2) + 2*(Y1q**2 + Y2q**2) - 2*X1q*X2q - 2*Y1q*Y2q\n",
    "    b[2] = 2*X2q**2 + 2*Y2q**2\n",
    "    \n",
    "    if (math.cos(theta) < (math.sqrt(2)/2) ):\n",
    "        b[3] = thetaq * (meca[\"L1\"] * math.cos(theta))\n",
    "    else: \n",
    "        b[3] =  thetaq * (meca[\"L1\"] * math.sin(theta))\n",
    "    \n",
    "    b[4] = 1 #Aceleracion conocida \n",
    "    qpp = np.linalg.solve(-jacob_Phiq(q,meca),b)\n",
    "    #print (\"qpp=\")\n",
    "    #pprint.pprint(qpp)\t\n",
    "     \n",
    "    return qpp\n",
    "\n",
    "resuelve_prob_aceleracion(q, meca)"
   ]
  },
  {
   "cell_type": "markdown",
   "metadata": {},
   "source": [
    "PASO 4: GRÁFICAS DE VELOCIDADES\n",
    "\n",
    "Vamos a representar por separado la gráfica de la velocidad en cada coordenada (X1, Y1, X2 e Y2).\n"
   ]
  },
  {
   "cell_type": "code",
   "execution_count": 33,
   "metadata": {},
   "outputs": [
    {
     "name": "stdout",
     "output_type": "stream",
     "text": [
      "VX1=\n",
      "array([-10.        ,  -9.91789975,  -9.67294711,  -9.2691642 ,\n",
      "        -8.71318116,  -8.01412725,  -7.18348098,  -0.78183279,\n",
      "        -0.85514401,  -0.91441372,  -0.95866871,  -0.98718231,\n",
      "        -0.99948633,  -0.99537874,  -0.97492698,  -0.93846687,\n",
      "        -0.88659709,  -0.82016934,  -0.74027437,  -0.64822406,\n",
      "        -0.54552988,  -0.43387807,  -0.31510196,  -0.19115186,\n",
      "        -0.06406304,   0.0640777 ,   0.19116628,   0.3151159 ,\n",
      "         0.4338913 ,   0.54554219,   0.64823524,   0.74028425,\n",
      "         0.82017774,   0.88660388,   0.93847194,   0.97493025,\n",
      "         0.99538015,   0.99948586,   0.98717996,   0.95866453,\n",
      "         0.91440777,   0.85513639,   0.78182363,  -7.1835832 ,\n",
      "        -8.01421513,  -8.71325325,  -9.26921933,  -9.67298438,\n",
      "        -9.91791854, -10.        ])\n"
     ]
    },
    {
     "data": {
      "image/png": "[encoded data removed]",
      "text/plain": [
       "<Figure size 432x288 with 1 Axes>"
      ]
     },
     "metadata": {
      "needs_background": "light"
     },
     "output_type": "display_data"
    }
   ],
   "source": [
    "#PASO 4: VELOCIDAD DE X1\n",
    "def grafica_velocidad(q,meca):\n",
    "    \n",
    "    th = np.linspace(0,2*3.1416,50)\n",
    "    #print (\"th=\")\n",
    "    #pprint.pprint(th)\n",
    "    VX1 = np.zeros((50,0))\n",
    "    VY1 = np.zeros((50,0))\n",
    "    VX2 = np.zeros((50,0)) \n",
    "    VY2 = np.zeros((50,0))\n",
    "    \n",
    "    i=0\n",
    "    for t in th:\n",
    "\n",
    "        q[4] = t\n",
    "        \n",
    "        resuelve_prob_posicion (q,meca)\n",
    "        qp = resuelve_prob_velocidad (q,meca)\n",
    "\n",
    "        qp[4] = 1  #inicializar qp en 0 con qp[4] = 1 rad/s\n",
    "\n",
    "        resuelve_prob_velocidad(q,meca)\n",
    "        \n",
    "        #VX1[0,i] = qp[0]\n",
    "        VX1 = np.append(VX1, qp[0])\n",
    "        VY1 = np.append(VY1, qp[1])\n",
    "        VX2 = np.append(VX2, qp[2])\n",
    "        VY2 = np.append(VY2, qp[3])\n",
    "        i=i+1\n",
    "      \n",
    "    print (\"VX1=\")\n",
    "    pprint.pprint(VX1)\n",
    " \n",
    "    plt.plot(th,VX1)\n",
    "    plt.xlabel ('Angulo')\n",
    "    plt.ylabel ('Velocidad')\n",
    "    plt.title ('Velocidad de X1')\n",
    "\n",
    "    plt.show()\n",
    "    return \n",
    "\n",
    "grafica_velocidad (q,meca)\n"
   ]
  },
  {
   "cell_type": "code",
   "execution_count": 34,
   "metadata": {},
   "outputs": [
    {
     "name": "stdout",
     "output_type": "stream",
     "text": [
      "VY1=\n",
      "array([ 1.        ,  0.99178998,  0.96729471,  0.92691642,  0.87131812,\n",
      "        0.80141273,  0.7183481 ,  0.07818328,  0.0855144 ,  0.09144137,\n",
      "        0.09586687,  0.09871823,  0.09994863,  0.09953787,  0.0974927 ,\n",
      "        0.09384669,  0.08865971,  0.08201693,  0.07402744,  0.06482241,\n",
      "        0.05455299,  0.04338781,  0.0315102 ,  0.01911519,  0.0064063 ,\n",
      "       -0.00640777, -0.01911663, -0.03151159, -0.04338913, -0.05455422,\n",
      "       -0.06482352, -0.07402842, -0.08201777, -0.08866039, -0.09384719,\n",
      "       -0.09749302, -0.09953801, -0.09994859, -0.098718  , -0.09586645,\n",
      "       -0.09144078, -0.08551364, -0.07818236,  0.71835832,  0.80142151,\n",
      "        0.87132533,  0.92692193,  0.96729844,  0.99179185,  1.        ])\n"
     ]
    },
    {
     "data": {
      "image/png": "[encoded data removed]",
      "text/plain": [
       "<Figure size 432x288 with 1 Axes>"
      ]
     },
     "metadata": {
      "needs_background": "light"
     },
     "output_type": "display_data"
    }
   ],
   "source": [
    "#PASO 4: VELOCIDAD DE Y1\n",
    "def grafica_velocidad(q,meca):\n",
    "    \n",
    "    th = np.linspace(0,2*3.1416,50)\n",
    "    #print (\"th=\")\n",
    "    #pprint.pprint(th)\n",
    "\n",
    "    VY1 = np.zeros((50,0))\n",
    "\n",
    "    \n",
    "    i=0\n",
    "    for t in th:\n",
    "\n",
    "        q[4] = t\n",
    "        \n",
    "        resuelve_prob_posicion (q,meca)\n",
    "        qp = resuelve_prob_velocidad (q,meca)\n",
    "\n",
    "        qp[4] = 1  #inicializar qp en 0 con qp[4] = 1 rad/s\n",
    "\n",
    "        resuelve_prob_velocidad(q,meca)\n",
    "\n",
    "\n",
    "        VY1 = np.append(VY1, qp[1])\n",
    "\n",
    "        i=i+1\n",
    "      \n",
    "    print (\"VY1=\")\n",
    "    pprint.pprint(VY1)\n",
    " \n",
    "    plt.plot(th,VY1)\n",
    "    plt.xlabel ('Angulo')\n",
    "    plt.ylabel ('Velocidad')\n",
    "    plt.title ('Velocidad de Y1')\n",
    "\n",
    "    plt.show()\n",
    "    return \n",
    "\n",
    "grafica_velocidad (q,meca)"
   ]
  },
  {
   "cell_type": "code",
   "execution_count": 21,
   "metadata": {},
   "outputs": [
    {
     "name": "stdout",
     "output_type": "stream",
     "text": [
      "VX2=\n",
      "array([ 3.16129032,  3.13533605,  3.05789941,  2.93025191,  2.75448953,\n",
      "        2.53349829,  2.27090689,  0.24716004,  0.27033585,  0.28907272,\n",
      "        0.30306301,  0.31207699,  0.31596665,  0.31466812,  0.30820272,\n",
      "        0.29667662,  0.28027908,  0.25927934,  0.23402222,  0.20492244,\n",
      "        0.17245783,  0.13716145,  0.09961288,  0.06042865,  0.02025219,\n",
      "       -0.02025682, -0.06043321, -0.09961729, -0.13716564, -0.17246172,\n",
      "       -0.20492598, -0.23402534, -0.259282  , -0.28028123, -0.29667823,\n",
      "       -0.30820376, -0.31466856, -0.3159665 , -0.31207625, -0.30306169,\n",
      "       -0.28907084, -0.27033344, -0.24715715,  2.27093921,  2.53352607,\n",
      "        2.75451232,  2.93026934,  3.05791119,  3.13534199,  3.16129032])\n"
     ]
    },
    {
     "data": {
      "image/png": "[encoded data removed]",
      "text/plain": [
       "<Figure size 432x288 with 1 Axes>"
      ]
     },
     "metadata": {
      "needs_background": "light"
     },
     "output_type": "display_data"
    }
   ],
   "source": [
    "#PASO 4: VELOCIDAD DE X2\n",
    "def grafica_velocidad(q,meca):\n",
    "    \n",
    "    th = np.linspace(0,2*3.1416,50)\n",
    "    #print (\"th=\")\n",
    "    #pprint.pprint(th)\n",
    "\n",
    "    VX2 = np.zeros((50,0)) \n",
    "    \n",
    "    i=0\n",
    "    for t in th:\n",
    "\n",
    "        q[4] = t\n",
    "        \n",
    "        resuelve_prob_posicion (q,meca)\n",
    "        qp = resuelve_prob_velocidad (q,meca)\n",
    "\n",
    "        qp[4] = 1  #inicializar qp en 0 con qp[4] = 1 rad/s\n",
    "\n",
    "        resuelve_prob_velocidad(q,meca)\n",
    "\n",
    "\n",
    "        VX2 = np.append(VX2, qp[2])\n",
    "\n",
    "        i=i+1\n",
    "      \n",
    "    print (\"VX2=\")\n",
    "    pprint.pprint(VX2)\n",
    " \n",
    "    plt.plot(th,VX2)\n",
    "    plt.xlabel ('Angulo')\n",
    "    plt.ylabel ('Velocidad')\n",
    "    plt.title ('Velocidad de X2')\n",
    "\n",
    "    plt.show()\n",
    "    return \n",
    "\n",
    "grafica_velocidad (q,meca)"
   ]
  },
  {
   "cell_type": "code",
   "execution_count": 22,
   "metadata": {},
   "outputs": [
    {
     "name": "stdout",
     "output_type": "stream",
     "text": [
      "VY2=\n",
      "array([15.80645161, 15.67668026, 15.28949704, 14.65125954, 13.77244763,\n",
      "       12.66749146, 11.35453446,  1.23580022,  1.35167924,  1.44536361,\n",
      "        1.51531505,  1.56038494,  1.57983323,  1.57334059,  1.54101361,\n",
      "        1.48338311,  1.4013954 ,  1.2963967 ,  1.1701111 ,  1.02461222,\n",
      "        0.86228916,  0.68580727,  0.49806438,  0.30214326,  0.10126093,\n",
      "       -0.10128411, -0.30216606, -0.49808643, -0.68582819, -0.86230862,\n",
      "       -1.0246299 , -1.17012671, -1.29640998, -1.40140614, -1.48339114,\n",
      "       -1.54101878, -1.57334282, -1.57983249, -1.56038123, -1.51530844,\n",
      "       -1.44535421, -1.3516672 , -1.23578574, 11.35469603, 12.66763037,\n",
      "       13.7725616 , 14.65134669, 15.28955595, 15.67670995, 15.80645161])\n"
     ]
    },
    {
     "data": {
      "image/png": "[encoded data removed]",
      "text/plain": [
       "<Figure size 432x288 with 1 Axes>"
      ]
     },
     "metadata": {
      "needs_background": "light"
     },
     "output_type": "display_data"
    }
   ],
   "source": [
    "#PASO 4: VELOCIDAD DE Y2\n",
    "def grafica_velocidad(q,meca):\n",
    "    \n",
    "    th = np.linspace(0,2*3.1416,50)\n",
    "    #print (\"th=\")\n",
    "    #pprint.pprint(th)\n",
    "\n",
    "    VY2 = np.zeros((50,0))\n",
    "    \n",
    "    i=0\n",
    "    for t in th:\n",
    "\n",
    "        q[4] = t\n",
    "        \n",
    "        resuelve_prob_posicion (q,meca)\n",
    "        qp = resuelve_prob_velocidad (q,meca)\n",
    "\n",
    "        qp[4] = 1  #inicializar qp en 0 con qp[4] = 1 rad/s\n",
    "\n",
    "        resuelve_prob_velocidad(q,meca)\n",
    "        \n",
    "        #VX1[0,i] = qp[0]\n",
    "\n",
    "        VY2 = np.append(VY2, qp[3])\n",
    "        i=i+1\n",
    "      \n",
    "    print (\"VY2=\")\n",
    "    pprint.pprint(VY2)\n",
    " \n",
    "    plt.plot(th,VY2)\n",
    "    plt.xlabel ('Angulo')\n",
    "    plt.ylabel ('Velocidad')\n",
    "    plt.title ('Velocidad de Y2')\n",
    "\n",
    "    plt.show()\n",
    "    return \n",
    "\n",
    "grafica_velocidad (q,meca)"
   ]
  },
  {
   "cell_type": "markdown",
   "metadata": {},
   "source": [
    "PASO 5: GRÁFICA ACELERACIÓN\n",
    "\n",
    "Haremos el mismo procedimiento que para la velocidad, representando en celdas separadas la aceleración de cada coordenada."
   ]
  },
  {
   "cell_type": "code",
   "execution_count": 35,
   "metadata": {},
   "outputs": [
    {
     "name": "stdout",
     "output_type": "stream",
     "text": [
      "th=\n",
      "array([0.        , 0.12822857, 0.25645714, 0.38468571, 0.51291429,\n",
      "       0.64114286, 0.76937143, 0.8976    , 1.02582857, 1.15405714,\n",
      "       1.28228571, 1.41051429, 1.53874286, 1.66697143, 1.7952    ,\n",
      "       1.92342857, 2.05165714, 2.17988571, 2.30811429, 2.43634286,\n",
      "       2.56457143, 2.6928    , 2.82102857, 2.94925714, 3.07748571,\n",
      "       3.20571429, 3.33394286, 3.46217143, 3.5904    , 3.71862857,\n",
      "       3.84685714, 3.97508571, 4.10331429, 4.23154286, 4.35977143,\n",
      "       4.488     , 4.61622857, 4.74445714, 4.87268571, 5.00091429,\n",
      "       5.12914286, 5.25737143, 5.3856    , 5.51382857, 5.64205714,\n",
      "       5.77028571, 5.89851429, 6.02674286, 6.15497143, 6.2832    ])\n",
      "AX1=\n",
      "array([-1.00000000e+03, -9.82287155e+02, -9.32806150e+02, -8.54743947e+02,\n",
      "       -7.53166844e+02, -6.34689735e+02, -5.07043911e+02,  1.58344630e-01,\n",
      "        3.36753490e-01,  5.09632840e-01,  6.74143994e-01,  8.27585671e-01,\n",
      "        9.67438350e-01,  1.09140564e+00,  1.19745200e+00,  1.28383614e+00,\n",
      "        1.34913963e+00,  1.39229018e+00,  1.41257925e+00,  1.40967371e+00,\n",
      "        1.38362125e+00,  1.33484967e+00,  1.26415978e+00,  1.17271233e+00,\n",
      "        1.06200889e+00,  9.33867212e-01,  7.90391386e-01,  6.33937294e-01,\n",
      "        4.67073921e-01,  2.92541172e-01,  1.13204882e-01, -6.79902374e-02,\n",
      "       -2.48068954e-01, -4.24074366e-01, -5.93116456e-01, -7.52419545e-01,\n",
      "       -8.99367868e-01, -1.03154853e+00, -1.14679111e+00, -1.24320332e+00,\n",
      "       -1.31920208e+00, -1.37353947e+00, -1.40532328e+00, -5.20972212e+02,\n",
      "       -6.46665990e+02, -7.62993706e+02, -8.62259436e+02, -9.37886355e+02,\n",
      "       -9.84848303e+02, -9.99999853e+02])\n"
     ]
    },
    {
     "data": {
      "image/png": "[encoded data removed]",
      "text/plain": [
       "<Figure size 432x288 with 1 Axes>"
      ]
     },
     "metadata": {
      "needs_background": "light"
     },
     "output_type": "display_data"
    }
   ],
   "source": [
    "#PASO 5: ACELERACION DE X1\n",
    "\n",
    "def grafica_aceleracion(q,meca):\n",
    "    \n",
    "    th = np.linspace(0,2*3.1416,50)\n",
    "    print (\"th=\")\n",
    "    pprint.pprint(th)\n",
    "    AX1 = np.zeros((50,0))\n",
    "    AY1 = np.zeros((50,0))\n",
    "    AX2 = np.zeros((50,0))\n",
    "    AY2 = np.zeros((50,0))\n",
    "    \n",
    "    i=0\n",
    "    for t in th:\n",
    "\n",
    "        q[4] = t\n",
    "        \n",
    "        resuelve_prob_posicion (q,meca)\n",
    "        qpp = resuelve_prob_aceleracion(q,meca)\n",
    "\n",
    "        qpp[4] = 1  #inicializar qp en 0 con qpp[4] = 1 rad/s**2\n",
    "\n",
    "        resuelve_prob_aceleracion(q,meca)\n",
    "        \n",
    "        \n",
    "        AX1 = np.append(AX1, qpp[0])\n",
    "        AY1 = np.append(AY1, qpp[1])\n",
    "        AX2 = np.append(AX2, qpp[2])\n",
    "        AY2 = np.append(AY2, qpp[3])\n",
    "        i=i+1\n",
    "      \n",
    "    print (\"AX1=\")\n",
    "    pprint.pprint(AX1)\t\n",
    " \n",
    "    plt.plot(th,AX1)\n",
    "    plt.xlabel ('Angulo')\n",
    "    plt.ylabel ('Aceleracion')\n",
    "    plt.title ('Aceleracion (X1)')\t\n",
    "\n",
    "    plt.show()\n",
    "    return \n",
    "\n",
    "grafica_aceleracion (q,meca)\n"
   ]
  },
  {
   "cell_type": "code",
   "execution_count": 36,
   "metadata": {},
   "outputs": [
    {
     "name": "stdout",
     "output_type": "stream",
     "text": [
      "th=\n",
      "array([0.        , 0.12822857, 0.25645714, 0.38468571, 0.51291429,\n",
      "       0.64114286, 0.76937143, 0.8976    , 1.02582857, 1.15405714,\n",
      "       1.28228571, 1.41051429, 1.53874286, 1.66697143, 1.7952    ,\n",
      "       1.92342857, 2.05165714, 2.17988571, 2.30811429, 2.43634286,\n",
      "       2.56457143, 2.6928    , 2.82102857, 2.94925714, 3.07748571,\n",
      "       3.20571429, 3.33394286, 3.46217143, 3.5904    , 3.71862857,\n",
      "       3.84685714, 3.97508571, 4.10331429, 4.23154286, 4.35977143,\n",
      "       4.488     , 4.61622857, 4.74445714, 4.87268571, 5.00091429,\n",
      "       5.12914286, 5.25737143, 5.3856    , 5.51382857, 5.64205714,\n",
      "       5.77028571, 5.89851429, 6.02674286, 6.15497143, 6.2832    ])\n",
      "AY1=\n",
      "array([-1.        , -1.11966743, -1.22094987, -1.30218426, -1.36203671,\n",
      "       -1.39952446, -1.41403194, -0.6332096 , -0.77225933, -0.89547725,\n",
      "       -0.99565054, -1.06703277, -1.10570649, -1.10982719, -1.07973264,\n",
      "       -1.01791088, -0.9288289 , -0.81863354, -0.69474413, -0.56536374,\n",
      "       -0.438941  , -0.32361764, -0.22669811, -0.15417566, -0.110346  ,\n",
      "       -0.09753373, -0.11594913, -0.16368474, -0.23685167, -0.32984656,\n",
      "       -0.43573151, -0.54670195, -0.65461155, -0.75151967, -0.83022524,\n",
      "       -0.88475192, -0.91075267, -0.90580685, -0.86959041, -0.80390772,\n",
      "       -0.71258277, -0.60121688, -0.47682834, -0.02268503, -0.20332156,\n",
      "       -0.38061953, -0.55166771, -0.71365749, -0.86392897, -1.00001469])\n"
     ]
    },
    {
     "data": {
      "image/png": "[encoded data removed]",
      "text/plain": [
       "<Figure size 432x288 with 1 Axes>"
      ]
     },
     "metadata": {
      "needs_background": "light"
     },
     "output_type": "display_data"
    }
   ],
   "source": [
    "#PASO 5: ACELERACION DE Y1\n",
    "\n",
    "def grafica_aceleracion(q,meca):\n",
    "    \n",
    "    th = np.linspace(0,2*3.1416,50)\n",
    "    print (\"th=\")\n",
    "    pprint.pprint(th)\n",
    "\n",
    "    AY1 = np.zeros((50,0))\n",
    "\n",
    "    \n",
    "    i=0\n",
    "    for t in th:\n",
    "\n",
    "        q[4] = t\n",
    "        \n",
    "        resuelve_prob_posicion (q,meca)\n",
    "        qpp = resuelve_prob_aceleracion(q,meca)\n",
    "\n",
    "        qpp[4] = 1  #inicializar qp en 0 con qpp[4] = 1 rad/s**2\n",
    "\n",
    "        resuelve_prob_aceleracion(q,meca)\n",
    "        \n",
    "\n",
    "        AY1 = np.append(AY1, qpp[1])\n",
    "\n",
    "        i=i+1\n",
    "      \n",
    "    print (\"AY1=\")\n",
    "    pprint.pprint(AY1)\n",
    " \n",
    "    plt.plot(th,AY1)\n",
    "    plt.xlabel ('Angulo')\n",
    "    plt.ylabel ('Aceleracion')\n",
    "    plt.title ('Aceleracion (AY1)')\n",
    "\n",
    "    plt.show()\n",
    "    return \n",
    "\n",
    "grafica_aceleracion (q,meca)\n"
   ]
  },
  {
   "cell_type": "code",
   "execution_count": 28,
   "metadata": {},
   "outputs": [
    {
     "name": "stdout",
     "output_type": "stream",
     "text": [
      "th=\n",
      "array([0.        , 0.12822857, 0.25645714, 0.38468571, 0.51291429,\n",
      "       0.64114286, 0.76937143, 0.8976    , 1.02582857, 1.15405714,\n",
      "       1.28228571, 1.41051429, 1.53874286, 1.66697143, 1.7952    ,\n",
      "       1.92342857, 2.05165714, 2.17988571, 2.30811429, 2.43634286,\n",
      "       2.56457143, 2.6928    , 2.82102857, 2.94925714, 3.07748571,\n",
      "       3.20571429, 3.33394286, 3.46217143, 3.5904    , 3.71862857,\n",
      "       3.84685714, 3.97508571, 4.10331429, 4.23154286, 4.35977143,\n",
      "       4.488     , 4.61622857, 4.74445714, 4.87268571, 5.00091429,\n",
      "       5.12914286, 5.25737143, 5.3856    , 5.51382857, 5.64205714,\n",
      "       5.77028571, 5.89851429, 6.02674286, 6.15497143, 6.2832    ])\n",
      "AX1=\n",
      "array([ 7.46837031e+02,  7.34194272e+02,  6.97882946e+02,  6.40262512e+02,\n",
      "        5.65089376e+02,  4.77271386e+02,  3.82546961e+02,  2.58269921e+00,\n",
      "        3.04318631e+00,  3.44026572e+00,  3.74528681e+00,  3.93575012e+00,\n",
      "        3.99682096e+00,  3.92233868e+00,  3.71525530e+00,  3.38747389e+00,\n",
      "        2.95909695e+00,  2.45713350e+00,  1.91374897e+00,  1.36417223e+00,\n",
      "        8.44396410e-01,  3.88823833e-01,  2.80091051e-02, -2.13351876e-01,\n",
      "       -3.18055273e-01, -2.77537875e-01, -9.24653765e-02,  2.27278581e-01,\n",
      "        6.63202416e-01,  1.18937637e+00,  1.77408614e+00,  2.38186296e+00,\n",
      "        2.97575804e+00,  3.51971328e+00,  3.98087412e+00,  4.33169376e+00,\n",
      "        4.55169208e+00,  4.62875469e+00,  4.55988800e+00,  4.35138143e+00,\n",
      "        4.01836668e+00,  3.58380346e+00,  3.07695833e+00,  3.86956427e+02,\n",
      "        4.81063495e+02,  5.68201344e+02,  6.42642779e+02,  6.99492052e+02,\n",
      "        7.35005530e+02,  7.46836985e+02])\n"
     ]
    },
    {
     "data": {
      "image/png": "[encoded data removed]",
      "text/plain": [
       "<Figure size 432x288 with 1 Axes>"
      ]
     },
     "metadata": {
      "needs_background": "light"
     },
     "output_type": "display_data"
    }
   ],
   "source": [
    "#PASO 5: ACELERACION DE X2\n",
    "\n",
    "def grafica_aceleracion(q,meca):\n",
    "    \n",
    "    th = np.linspace(0,2*3.1416,50)\n",
    "    print (\"th=\")\n",
    "    pprint.pprint(th)\n",
    "\n",
    "    AX2 = np.zeros((50,0))\n",
    "\n",
    "    \n",
    "    i=0\n",
    "    for t in th:\n",
    "\n",
    "        q[4] = t\n",
    "        \n",
    "        resuelve_prob_posicion (q,meca)\n",
    "        qpp = resuelve_prob_aceleracion(q,meca)\n",
    "\n",
    "        qpp[4] = 1  #inicializar qp en 0 con qpp[4] = 1 rad/s**2\n",
    "\n",
    "        resuelve_prob_aceleracion(q,meca)\n",
    "        \n",
    "\n",
    "        AX2 = np.append(AX2, qpp[2])\n",
    "\n",
    "        i=i+1\n",
    "      \n",
    "    print (\"AX1=\")\n",
    "    pprint.pprint(AX2)\n",
    " \n",
    "    plt.plot(th,AX2)\n",
    "    plt.xlabel ('Angulo')\n",
    "    plt.ylabel ('Aceleracion')\n",
    "    plt.title ('Aceleracion (X2)')\t\n",
    "\n",
    "    plt.show()\n",
    "    return \n",
    "\n",
    "grafica_aceleracion (q,meca)\n"
   ]
  },
  {
   "cell_type": "code",
   "execution_count": 29,
   "metadata": {},
   "outputs": [
    {
     "name": "stdout",
     "output_type": "stream",
     "text": [
      "th=\n",
      "array([0.        , 0.12822857, 0.25645714, 0.38468571, 0.51291429,\n",
      "       0.64114286, 0.76937143, 0.8976    , 1.02582857, 1.15405714,\n",
      "       1.28228571, 1.41051429, 1.53874286, 1.66697143, 1.7952    ,\n",
      "       1.92342857, 2.05165714, 2.17988571, 2.30811429, 2.43634286,\n",
      "       2.56457143, 2.6928    , 2.82102857, 2.94925714, 3.07748571,\n",
      "       3.20571429, 3.33394286, 3.46217143, 3.5904    , 3.71862857,\n",
      "       3.84685714, 3.97508571, 4.10331429, 4.23154286, 4.35977143,\n",
      "       4.488     , 4.61622857, 4.74445714, 4.87268571, 5.00091429,\n",
      "       5.12914286, 5.25737143, 5.3856    , 5.51382857, 5.64205714,\n",
      "       5.77028571, 5.89851429, 6.02674286, 6.15497143, 6.2832    ])\n",
      "AY2=\n",
      "array([ 2.43499681e+03,  2.39302818e+03,  2.27381739e+03,  2.08508365e+03,\n",
      "        1.83910925e+03,  1.55193716e+03,  1.24232245e+03,  4.97204469e+00,\n",
      "        5.71534040e+00,  6.33813351e+00,  6.78629956e+00,  7.01778456e+00,\n",
      "        7.00556493e+00,  6.73961026e+00,  6.22771716e+00,  5.49515700e+00,\n",
      "        4.58315766e+00,  3.54631666e+00,  2.44911294e+00,  1.36174410e+00,\n",
      "        3.55560577e-01, -5.01605181e-01, -1.14990875e+00, -1.54147024e+00,\n",
      "       -1.64359600e+00, -1.44103342e+00, -9.37109379e-01, -1.53675547e-01,\n",
      "        8.70138492e-01,  2.08028581e+00,  3.41112520e+00,  4.78949289e+00,\n",
      "        6.13926019e+00,  7.38608274e+00,  8.46203442e+00,  9.30982666e+00,\n",
      "        9.88634077e+00,  1.01652458e+01,  1.01385341e+01,  9.81687684e+00,\n",
      "        9.22877965e+00,  8.41859540e+00,  7.44352643e+00,  1.26435070e+03,\n",
      "        1.57087941e+03,  1.85465277e+03,  2.09697170e+03,  2.28185355e+03,\n",
      "        2.39707963e+03,  2.43499658e+03])\n"
     ]
    },
    {
     "data": {
      "image/png": "[encoded data removed]",
      "text/plain": [
       "<Figure size 432x288 with 1 Axes>"
      ]
     },
     "metadata": {
      "needs_background": "light"
     },
     "output_type": "display_data"
    }
   ],
   "source": [
    "#PASO 5: ACELERACION DE Y2\n",
    "\n",
    "def grafica_aceleracion(q,meca):\n",
    "    \n",
    "    th = np.linspace(0,2*3.1416,50)\n",
    "    print (\"th=\")\n",
    "    pprint.pprint(th)\n",
    "\n",
    "    AY2 = np.zeros((50,0))\n",
    "    \n",
    "    i=0\n",
    "    for t in th:\n",
    "\n",
    "        q[4] = t\n",
    "        \n",
    "        resuelve_prob_posicion (q,meca)\n",
    "        qpp = resuelve_prob_aceleracion(q,meca)\n",
    "\n",
    "        qpp[4] = 1  #inicializar qp en 0 con qpp[4] = 1 rad/s**2\n",
    "\n",
    "        resuelve_prob_aceleracion(q,meca)\n",
    "        \n",
    "\n",
    "        AY2 = np.append(AY2, qpp[3])\n",
    "        i=i+1\n",
    "      \n",
    "    print (\"AY2=\")\n",
    "    pprint.pprint(AY2)\t\n",
    " \n",
    "    plt.plot(th,AY2)\n",
    "    plt.xlabel ('Angulo')\n",
    "    plt.ylabel ('Aceleracion')\n",
    "    plt.title ('Aceleracion (Y2)')\t\n",
    "\n",
    "    plt.show()\n",
    "    return \n",
    "\n",
    "grafica_aceleracion (q,meca)\n"
   ]
  }
 ],
 "metadata": {
  "kernelspec": {
   "display_name": "Python 3",
   "language": "python",
   "name": "python3"
  },
  "language_info": {
   "codemirror_mode": {
    "name": "ipython",
    "version": 3
   },
   "file_extension": ".py",
   "mimetype": "text/x-python",
   "name": "python",
   "nbconvert_exporter": "python",
   "pygments_lexer": "ipython3",
   "version": "3.7.0"
  }
 },
 "nbformat": 4,
 "nbformat_minor": 2
}
