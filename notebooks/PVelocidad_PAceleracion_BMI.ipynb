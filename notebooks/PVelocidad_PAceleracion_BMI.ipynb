{
 "cells": [
  {
   "cell_type": "markdown",
   "metadata": {},
   "source": [
    "# MECANISMO BIELA-MANIVELA INVERTIDA\n",
    "\n",
    "## PROBLEMAS VELOCIDAD Y ACELERACIÓN"
   ]
  },
  {
   "cell_type": "markdown",
   "metadata": {},
   "source": [
    "### PASO 1: MATRIZ JACOBIANA \n",
    "\n",
    "Para resolver el problema velocidad, necesitamos otra vez la matriz jacobiana. El método de construcción aparece detallado en el notebook Problema_Posición_5B, por lo que para este caso copiaremos el código de los pasos realizados para poder conseguirla."
   ]
  },
  {
   "cell_type": "code",
   "execution_count": 1,
   "metadata": {},
   "outputs": [
    {
     "name": "stdout",
     "output_type": "stream",
     "text": [
      "BIELA-MANIVELA INVERTIDA\n",
      "=============================\n",
      "Introduce longitud L1:1\n",
      "Introduce longitud L2:2\n",
      "Introduce longitud L3: 1.5\n",
      "Introduce angulo inicial theta:0.5\n",
      "Introduce angulo inicial beta: 0.5\n",
      "Introduce coordenada en x del punto B:2\n",
      "Introduce coordenada en y del punto B:0\n",
      "q: [[0.1       ]\n",
      " [0.2       ]\n",
      " [1.        ]\n",
      " [0.2       ]\n",
      " [3.31637384]\n",
      " [0.71913831]\n",
      " [0.5       ]\n",
      " [0.5       ]]\n"
     ]
    }
   ],
   "source": [
    "import numpy as np\n",
    "import math as math\n",
    "import array as arr\n",
    "import pprint  # para depurar\n",
    "import matplotlib.pyplot as plt  #Para graficas\n",
    "import matplotlib.animation as animation\n",
    "import scipy.integrate as integrate \n",
    "import os\n",
    "from time import sleep\n",
    "#%matplotlib inline (Para notebook)\n",
    "\n",
    "\n",
    "\n",
    "print ('BIELA-MANIVELA INVERTIDA')\n",
    "print ('=============================')\n",
    "# Lectura de datos por teclado\n",
    "\n",
    "meca = {} # dictionary vacio, con propiedades de mecanismo\n",
    "\n",
    "meca[\"L1\"] = float (input ('Introduce longitud L1:'))\n",
    "meca[\"L2\"] = float (input ('Introduce longitud L2:'))\n",
    "meca[\"L3\"] = float (input ('Introduce longitud L3: '))\n",
    "meca[\"theta\"] = float (input ('Introduce angulo inicial theta:')) #En rad\n",
    "meca[\"beta\"] = float (input ('Introduce angulo inicial beta: '))\n",
    "meca[\"XB\"] = float (input ('Introduce coordenada en x del punto B:'))\n",
    "meca[\"YB\"] = float (input ('Introduce coordenada en y del punto B:'))\n",
    "meca[\"XA\"] = 0\n",
    "meca[\"YA\"] = 0\n",
    "\n",
    "# Defino posicion inicial:\n",
    "q = np.array ([[0.1], [0.2], [1], [0.2], [meca[\"XB\"]+meca[\"L3\"]*math.cos(meca[\"beta\"])], [meca[\"YB\"]+meca[\"L3\"]*math.sin(meca[\"beta\"])], [meca[\"theta\"]], [meca[\"beta\"]]])\n",
    "print('q: ' + str(q))\n",
    "\n",
    "# JACOBIANO\n",
    "def jacob_Phiq(q,meca):\n",
    "    #Inicializa a cero la matriz jacobiana\n",
    "    Jacob = np.zeros((8,8))\n",
    "\n",
    "    #Extraer coordenadas\n",
    "\n",
    "    X1 = q[0]\n",
    "    Y1 = q[1]\n",
    "    X2 = q[2]\n",
    "    Y2 = q[3]\n",
    "    X3 = q[4]\n",
    "    Y3 = q[5]\n",
    "    theta = q[6]\n",
    "    beta = q[7]\n",
    "\n",
    "    #Montar matriz\n",
    "\n",
    "    Jacob[0,0] = 2*X1\n",
    "    Jacob[0,1] = 2*Y1\n",
    "    Jacob[1,0] = -2*(X2-X1)\n",
    "    Jacob[1,1] = -2*(Y2-Y1)\n",
    "    Jacob[1,2] = 2*(X2-X1)\n",
    "    Jacob[1,3] = 2*(Y2-Y1)\n",
    "    Jacob[2,4] = -2*(meca[\"XB\"]-X3)\n",
    "    Jacob[2,5] = -2*(meca[\"YB\"]-Y3)\n",
    "    Jacob[3,0] = -(Y2-Y1) + (Y3-Y1)\n",
    "    Jacob[3,1] = (X2-X1) - (X3-X1)\n",
    "    Jacob[3,2] = -(Y3-Y1)\n",
    "    Jacob[3,3] = X3-X1\n",
    "    Jacob[3,4] = (Y2-Y1)\n",
    "    Jacob[3,5] = -(X2-X1)\n",
    "\t\n",
    "    if (abs(math.cos(theta)) < 0.95 ):\n",
    "        Jacob[4,6] = meca[\"L1\"]*math.sin(theta)\n",
    "        Jacob[4,0] = 1\n",
    "    else:\n",
    "        Jacob[4,6] = -meca[\"L1\"]*math.cos(theta)\n",
    "        Jacob[4,1] = 1\n",
    "\n",
    "\n",
    "    if (abs(math.cos(beta)) < 0.95 ):\n",
    "        Jacob[5,7] = meca[\"L3\"]*math.sin(beta)\n",
    "        Jacob[5,4] = 1\n",
    "    else:\n",
    "        Jacob[5,7] = -meca[\"L3\"]*math.cos(beta)\n",
    "        Jacob[5,5] = 1\n",
    "\t\t\n",
    "\n",
    "    Jacob[6,6] = 1\n",
    "    Jacob[7,7] = 1\n",
    "\n",
    "    return Jacob\n",
    "\n",
    "\n",
    "def Phi (q,meca):\n",
    "    #Inicializa a cero Phi\n",
    "    Phi = np.zeros((8,1))\n",
    "\n",
    "    #Extraer coordenadas\n",
    "    X1 = q[0]\n",
    "    Y1 = q[1]\n",
    "    X2 = q[2]\n",
    "    Y2 = q[3]\n",
    "    X3 = q[4]\n",
    "    Y3 = q[5]\n",
    "    theta = q[6]\n",
    "    beta = q[7]\n",
    "\n",
    "\t\t\t\t\t\t\n",
    "    Phi[0] = X1**2 + Y1**2 - meca[\"L1\"]**2\n",
    "    Phi[1] = (X2-X1)**2 + (Y2-Y1)**2 - meca[\"L2\"]**2\n",
    "    Phi[2] = (meca[\"XB\"]-X3)**2 + (meca[\"YB\"]-Y3)**2 - meca[\"L3\"]**2\n",
    "    Phi[3] = (X3-X1)*(Y2-Y1) - (X2-X1)*(Y3-Y1)\n",
    "     \n",
    "    if (abs(math.cos(theta)) < 0.95):\n",
    "        Phi[4] = X1-meca[\"L1\"]*math.cos(theta)\n",
    "    else: \n",
    "        Phi[4] = Y1-meca[\"L1\"]*math.sin(theta)\n",
    "\t\t\n",
    "\n",
    "    if (abs(math.cos(beta)) < 0.95):\n",
    "        Phi[5] = (X3-meca[\"XB\"])-meca[\"L3\"]*math.cos(beta)\n",
    "    else: \n",
    "        Phi[5] = (Y3-meca[\"YB\"])-meca[\"L3\"]*math.sin(beta)\n",
    "\n",
    "\n",
    "    return Phi\n",
    "\n",
    "\n",
    "\n",
    "def resuelve_prob_posicion(q_init, meca):\n",
    "    #Inicializacion de variables\n",
    "    error = 1e10\n",
    "    tolerancia = 1e-10\n",
    "\n",
    "    #Inicializacion en cero de deltaQ, fi y q\n",
    "    deltaQ = np.zeros ((8,1))\n",
    "    q = q_init\n",
    "    i=0\n",
    "\n",
    "    # Iteraciones hasta conseguir que el error sea menor que la tolerancia\n",
    "\n",
    "    while (error > tolerancia and i<=100):\n",
    "        #print(\"q=\")\n",
    "        #pprint.pprint(q)\n",
    "\n",
    "\n",
    "        #Extraer las coordenadas\n",
    "        X1 = q[0]\n",
    "        Y1 = q[1]\n",
    "        X2 = q[2]\n",
    "        Y2 = q[3]\n",
    "        X3 = q[4]\n",
    "        Y3 = q[5]\n",
    "        theta = q[6]\n",
    "        beta = q[7]\n",
    "       \n",
    "        fi=Phi(q,meca)\n",
    "\n",
    "        J = jacob_Phiq(q,meca)\n",
    "    \n",
    "        rango = np.linalg.matrix_rank(J, 1e-5)\n",
    "        \n",
    "        deltaQ = np.linalg.solve(J,-fi)\n",
    "        q = q + deltaQ\n",
    "        error = np.linalg.norm(deltaQ)  # El error es el modulo del vector\n",
    "        i=i+1\n",
    "\n",
    "    return q\n",
    "\n",
    "q = resuelve_prob_posicion(q,meca)"
   ]
  },
  {
   "cell_type": "markdown",
   "metadata": {},
   "source": [
    "### PASO 2: PROBLEMA VELOCIDAD\n",
    "\n",
    "Consiste en determinar las velocidades de todas las variables del mecanismo una vez sabemos su posición $q$ y la velocidad de los grados de libertad. \n",
    "\n",
    "Partimos de la ecuación:\n",
    "\n",
    "$\\Phi_q  =0 $\n",
    "\n",
    "Derivando se obtiene:\n",
    "\n",
    "$\\Phi_q \\dot{q} + \\Phi_t = 0 $\n",
    "\n",
    "Siendo $\\dot{q}$ el vector velocidad, $\\Phi_q$ el jacobiano y $\\Phi_t$ la derivada parcial de las ecuaciones de restricción respecto al tiempo. Para las ecuaciones de sólido rígido el valor de esta derivada es $0$. Solo tendría un valor no nulo la correspondiente al ángulo, que en ese caso tendría la velocidad que nosotros le indiquemos. \n",
    "\n",
    "En este caso vamos a tomar un valor de $1$. De este modo la expresión quedaría:\n",
    "\n",
    "$\\Phi_q \\dot{q} = -\\Phi_t$\n",
    "\n",
    "Habría que multiplicar en ambas partes de la igualdad por la inversa del jacobiano en el lado izquierdo, del mismo modo que se hizo en el problema de posición. De esta manera tendríamos:\n",
    "\n",
    "$\\Phi_q^{-1}  \\Phi_q  \\dot{q} = \\Phi_q^{-1}  (-\\Phi_t)$\n",
    "\n",
    "\n",
    "$ \\underbrace{( \\Phi_q^{-1}  \\Phi_q)}_{= \\mathbf{I_n}}  \\dot{q} = \\Phi_q^{-1} (-\\Phi_t)$\n",
    "\n",
    "$\\dot{q} = \\Phi_q^{-1} (-\\Phi_t)$"
   ]
  },
  {
   "cell_type": "code",
   "execution_count": 2,
   "metadata": {},
   "outputs": [
    {
     "data": {
      "text/plain": [
       "array([[-0.47942554],\n",
       "       [ 0.87758256],\n",
       "       [-0.51616071],\n",
       "       [ 1.25131909],\n",
       "       [-0.71913831],\n",
       "       [ 1.31637384],\n",
       "       [ 1.        ],\n",
       "       [ 1.        ]])"
      ]
     },
     "execution_count": 2,
     "metadata": {},
     "output_type": "execute_result"
    }
   ],
   "source": [
    "\n",
    "#PASO 2\n",
    "\n",
    "def resuelve_prob_velocidad(q,meca):\n",
    "    \n",
    "    b = np.zeros ((8,1))\n",
    "    #Velocidad del gdl. En una vuelta completa del angulo se cumple angulo=2*Pi*t\n",
    "    b[6]=1\n",
    "    b[7] = 1\n",
    "    qp = np.linalg.solve(jacob_Phiq(q,meca),b)\n",
    "    #print (\"qp=\")\n",
    "    #pprint.pprint(qp)\n",
    " \n",
    "    return qp\n",
    "\n",
    "resuelve_prob_velocidad (q,meca)"
   ]
  },
  {
   "cell_type": "markdown",
   "metadata": {},
   "source": [
    "### PASO 3: PROBLEMA ACELERACIÓN\n",
    "\n",
    "El problema aceleración trata de determinar las aceleraciones de todas las variables del mecanismo, conociendo la posición$q$, la velocidad $q_p$ y las aceleraciones de los grados de libertad. \n",
    "\n",
    "La ecuación de la que partimos es:\n",
    "\n",
    "$Фq · q_pp = -∂_Фq · q_p$\n",
    "\n",
    "Siendo $Фq$ el jacobiano, $q_pp$ el vector aceleración, $q_p$ el vector velocidad y $∂_Фq$ la derivada del jacobiano respecto al tiempo. \n",
    "\n",
    "Es decir, si llamamos &b& al conjunto $∂_Фq · q_p$ tendríamos como resultado:\n",
    "\n",
    "$q_pp = -Фq/b$\n",
    "\n",
    "El vector velocidad será:\n",
    "\n",
    "\\begin{equation}\n",
    "\\mathbf{q_p} = \n",
    "\\begin{bmatrix}\n",
    "\\dot{X}_1 \\\\\n",
    "\\dot{Y}_1 \\\\\n",
    "\\dot{X}_2 \\\\\n",
    "\\dot{Y}_2 \\\\\n",
    "\\dot{X}_3 \\\\\n",
    "\\dot{Y}_3 \\\\\n",
    "\\dot{\\theta}\\\\\n",
    "\\dot{\\beta} \\\\\n",
    "\\end{bmatrix}\n",
    "\\end{equation}\n",
    "\n",
    "Por otro lado, para calcular la derivada del jacobiano solo tenemos en cuenta las filas que hacen referencia a las ecuaciones de las coordenadas independientes, ya que la última que añadimos para poder realizar los cálculos era adicional. Teniendo en cuenta esto, la derivada del jacobiano sería:\n",
    "\n",
    "\\begin{equation}\n",
    "\\mathbf{\\dot{\\Phi}_q} = \n",
    "\\begin{bmatrix}\n",
    "2 \\dot{X}_1 & 2 \\dot{Y}_1 & 0 & 0 & 0 & 0 & 0 & 0  \\\\\n",
    "-2( \\dot{X}_2 - \\dot{X}_1) & -2( \\dot{Y}_2 - \\dot{Y}_1) & 2( \\dot{X}_2 - \\dot{X}_1) & 2( \\dot{Y}_2 - \\dot{Y}_1) & 0 & 0 & 0 & 0\\\\\n",
    "0 & 0 & 0 & 0 & 2X_3q & 2Y_3q & 0 & 0   \\\\\n",
    "-( \\dot{Y}_2 - \\dot{Y}_1) + ( \\dot{Y}_3 - \\dot{Y}_1) & (\\dot{X}_2 - \\dot{X}_1) - (\\dot{X}_3 - \\dot{X}_1) & -\\dot{Y}_3 - \\dot{Y}_1& \\dot{X}_3 - \\dot{X}_1q & \\dot{Y}_2 - \\dot{Y}_1 & -(\\dot{X}_2 - \\dot{X}_1) & 0 & 0\\\\\n",
    "\\dot{\\theta}_q(4) \\\\\n",
    "\\dot{\\theta}_q(5)\\\\\n",
    "\\end{bmatrix}\n",
    "\\end{equation}\n",
    "\n",
    "Siendo:\n",
    "\n",
    "1. $Si ~~ \\cos (\\theta) < {0.95} \\rightarrow \\dot{\\Phi}_q(4) = \\dot{\\theta} · L_1 · \\cos(\\theta)$\n",
    "\n",
    "2. $Si ~~ \\cos (\\theta) > {0.95} \\rightarrow \\dot{\\Phi}_q(4) =  \\dot{\\theta} · L_1 · \\sin(\\theta)$\n",
    "\n",
    "3. $Si ~~ \\cos (\\beta) < {0.95} \\rightarrow \\dot{\\Phi}_q(5) = \\dot{\\beta} · L_3 · \\cos(\\beta)$\n",
    "\n",
    "4. $Si ~~ \\cos (\\beta) > {0.95} \\rightarrow \\dot{\\Phi}_q(5) = \\dot{\\beta} · L_3 · \\sin(\\beta)$\n",
    "\n",
    "\n",
    "Como ya tenemos $\\dot{\\Phi}_q$ y $\\dot{q}$, podemos calcular $b$. Las dos  últimas filas que añadimos son los valores de las aceleraciones angulares, datos que sabemos de antemano. \n",
    "\n",
    "\\begin{equation}\n",
    "\\mathbf{b} = \n",
    "\\begin{bmatrix}\n",
    "2\\dot{X}_1^2 & 2\\dot{Y}_1^2 & 0 & 0 & 0 & 0 & 0 & 0  \\\\\n",
    "-2\\dot{X}_1 (\\dot{X}_2-\\dot{X}_1) & -2\\dot{Y}_1 (\\dot{Y}_2-\\dot{Y}_1) & 2\\dot{X}_2(\\dot{X}_2-\\dot{X}_1) & 2\\dot{Y}_2(\\dot{Y}_2-\\dot{Y}_1) & 0 & 0 & 0 & 0\\\\\n",
    "0 & 0 & 0 & 0 & 2X_3q^2 & 2Y_3q^2 & 0 & 0   \\\\\n",
    "-\\dot{X}_1((\\dot{Y}_2-\\dot{Y}_1)+(\\dot{Y}_3-\\dot{Y}_1)) & \\dot{Y}_1((\\dot{X}_2-\\dot{X}_1)-(\\dot{X}_3-\\dot{X}_1)) & \\dot{X}_2(-\\dot{Y}_3-\\dot{Y}_1) & \\dot{Y}_2(\\dot{X}_3-\\dot{X}_1) & \\dot{X}_3(\\dot{Y}_2-\\dot{Y}_1) & \\dot{Y}_3(-(\\dot{X}_2-\\dot{X}_1)) & 0 & 0\\\\\n",
    "b(4) \\\\\n",
    "b(5)\\\\\n",
    "1\\\\\n",
    "1\\\\\n",
    "\\end{bmatrix}\n",
    "\\end{equation}\n",
    "\n",
    "1. $Si ~~ \\cos (\\theta) < {0.95} \\rightarrow b(4) = \\dot{\\theta}^2 · L_1 · \\cos(\\theta)$\n",
    "\n",
    "2. $Si ~~ \\cos (\\theta) > {0.95} \\rightarrow b(4) =  \\dot{\\theta}^2 · L_1 · \\sin(\\theta)$\n",
    "\n",
    "3. $Si ~~ \\cos (\\beta) < {0.95} \\rightarrow b(5) = \\dot{\\beta}^2 · L_3 · \\cos(\\beta)$\n",
    "\n",
    "4. $Si ~~ \\cos (\\beta) > {0.95} \\rightarrow b(5) = \\dot{\\beta}^2 · L_3 · \\sin(\\beta)$\n"
   ]
  },
  {
   "cell_type": "code",
   "execution_count": 3,
   "metadata": {},
   "outputs": [
    {
     "data": {
      "text/plain": [
       "array([[-0.22984885],\n",
       "       [-1.66509415],\n",
       "       [-0.87264858],\n",
       "       [ 0.27030019],\n",
       "       [-0.51715991],\n",
       "       [ 1.54389039],\n",
       "       [-1.        ],\n",
       "       [-1.        ]])"
      ]
     },
     "execution_count": 3,
     "metadata": {},
     "output_type": "execute_result"
    }
   ],
   "source": [
    "#PASO 3\n",
    "\n",
    "def resuelve_prob_aceleracion (q,meca):\n",
    "\n",
    "    b=np.zeros ((8,1))\n",
    "    qp = resuelve_prob_velocidad (q,meca)\n",
    "\n",
    "    #Extraer las posiciones\n",
    "    X1 = q[0]\n",
    "    Y1 = q[1]\n",
    "    X2 = q[2]\n",
    "    Y2 = q[3]\n",
    "    X3 = q[4]\n",
    "    Y3 = q[5]\n",
    "    theta = q[6]\n",
    "    beta = q[7]\n",
    "    #Extraer las velocidades\n",
    "    X1q = qp[0]\n",
    "    Y1q = qp[1]\n",
    "    X2q = qp[2]\n",
    "    Y2q = qp[3]\n",
    "    X3q = qp[4]\n",
    "    Y3q = qp[5]\n",
    "    thetaq = qp[6]\n",
    "    betaq = qp[7]\n",
    "    \n",
    "    b[0] = 2*(X1q)**2 + 2*(Y1q)**2\n",
    "    b[1] = -2*X1q*(X2q-X1q) - 2*Y1q*(Y2q-Y1q) + 2*X2q*(X2q*X1q) + 2*Y2q*(Y2q*Y1q)\n",
    "    b[2] = -2*X3q*(-X3q) + 2*X3q*Y3q \n",
    "    b[3] = -2*X1q*((Y2q-Y1q)+(Y3q-Y1q)) + Y1q*((X2q-X1q)-(X3q-X1q)) + X2q*(-Y3q-Y1q) + Y2q*(X3q-X1q) + X3q*(Y2q-Y1q) -Y3q*(X2q-X1q)\n",
    "    \n",
    "    if (abs(math.cos(theta)) < 0.95 ):\n",
    "        b[4] = thetaq**2 * (meca[\"L1\"] * math.cos(theta))\n",
    "    else: \n",
    "        b[4] = thetaq**2 * (meca[\"L1\"] * math.sin(theta))\n",
    "    \n",
    "    if (abs(math.cos(beta)) < 0.95 ):\n",
    "        b[5] = betaq**2 * (meca[\"L3\"] * math.cos(beta))\n",
    "    else: \n",
    "        b[5] = betaq**2 * (meca[\"L3\"] * math.sin(beta))\n",
    "    b[6] = 1 #Aceleracion conocida \n",
    "    b[7] = 1\n",
    "    qpp = np.linalg.solve(-jacob_Phiq(q,meca),b)\n",
    "\n",
    "     \n",
    "    return qpp\n",
    "\n",
    "resuelve_prob_aceleracion(q, meca)"
   ]
  },
  {
   "cell_type": "markdown",
   "metadata": {},
   "source": [
    "### PASO 4: GRÁFICAS DE VELOCIDADES\n",
    "\n",
    "Vamos a representar por separado la gráfica de la velocidad en cada coordenada $(X_1, ~ Y_1, ~ X_2, ~ Y_2, ~ X_3 ~ e ~ Y_3)$."
   ]
  },
  {
   "cell_type": "code",
   "execution_count": 4,
   "metadata": {},
   "outputs": [
    {
     "name": "stdout",
     "output_type": "stream",
     "text": [
      "VX1=\n",
      "array([-0.54630249, -0.54181733, -0.52843551, -0.37526784, -0.4907186 ,\n",
      "       -0.59811173, -0.69568384, -0.78183279, -0.85514401, -0.91441372,\n",
      "       -0.95866871, -0.98718231, -0.99948633, -0.99537874, -0.97492698,\n",
      "       -0.93846687, -0.88659709, -0.82016934, -0.74027437, -0.64822406,\n",
      "       -0.54552988, -0.43387807, -0.31510196,  0.53622893,  0.5451803 ,\n",
      "        0.54517979,  0.5362274 ,  0.3151159 ,  0.4338913 ,  0.54554219,\n",
      "        0.64823524,  0.74028425,  0.82017774,  0.88660388,  0.93847194,\n",
      "        0.97493025,  0.99538015,  0.99948586,  0.98717996,  0.95866453,\n",
      "        0.91440777,  0.85513639,  0.78182363,  0.69567329,  0.59809996,\n",
      "        0.49070579,  0.37525422, -0.52843754, -0.54181836, -0.54630249])\n"
     ]
    },
    {
     "data": {
      "image/png": "[encoded data removed]",
      "text/plain": [
       "<Figure size 432x288 with 1 Axes>"
      ]
     },
     "metadata": {
      "needs_background": "light"
     },
     "output_type": "display_data"
    }
   ],
   "source": [
    "#PASO 4: VELOCIDAD DE X1\n",
    "\n",
    "def grafica_velocidad(q,meca):\n",
    "    \n",
    "    th = np.linspace(0,2*3.1416,50)\n",
    "\n",
    "    VX1 = np.zeros((50,0))\n",
    "\n",
    "    \n",
    "    i=0\n",
    "    for t in th:\n",
    "\n",
    "        q[6] = t\n",
    "        q[7] = t\n",
    "        \n",
    "        resuelve_prob_posicion (q,meca)\n",
    "        qp = resuelve_prob_velocidad (q,meca)\n",
    "\n",
    "        qp[6] = 1  #inicializar qp en 0 con qp[4] = 1 rad/s\n",
    "        qp[7] = 1\n",
    "\n",
    "        resuelve_prob_velocidad(q,meca)\n",
    "    \n",
    "        VX1 = np.append(VX1, qp[0])\n",
    "\n",
    "        i=i+1\n",
    "      \n",
    "    print (\"VX1=\")\n",
    "    pprint.pprint(VX1)\n",
    " \n",
    "    plt.plot(th,VX1)\n",
    "    plt.xlabel ('Angulo')\n",
    "    plt.ylabel ('Velocidad')\n",
    "    plt.title ('Velocidad de X1')\n",
    "\n",
    "    plt.show()\n",
    "    return \n",
    "\n",
    "grafica_velocidad (q,meca)"
   ]
  },
  {
   "cell_type": "code",
   "execution_count": 5,
   "metadata": {},
   "outputs": [
    {
     "name": "stdout",
     "output_type": "stream",
     "text": [
      "VY1=\n",
      "array([ 1.        ,  0.99178998,  0.96729471,  0.68692317,  0.89825437,\n",
      "        1.09483618,  1.27344073,  1.43113532,  1.5653306 ,  1.67382308,\n",
      "        1.7548313 ,  1.8070251 ,  1.82954746,  1.82202856,  1.78459186,\n",
      "        1.71785208,  1.62290508,  1.5013099 ,  1.35506314,  1.18656618,\n",
      "        0.99858574,  0.79420847,  0.57679026, -0.98156048, -0.99794585,\n",
      "       -0.99794491, -0.98155767, -0.57681579, -0.7942327 , -0.99860828,\n",
      "       -1.18658666, -1.35508122, -1.50132529, -1.62291752, -1.71786137,\n",
      "       -1.78459785, -1.82203114, -1.8295466 , -1.8070208 , -1.75482364,\n",
      "       -1.67381219, -1.56531666, -1.43111856, -1.27342141, -1.09481463,\n",
      "       -0.89823093, -0.68689824,  0.96729844,  0.99179185,  1.        ])\n"
     ]
    },
    {
     "data": {
      "image/png": "[encoded data removed]",
      "text/plain": [
       "<Figure size 432x288 with 1 Axes>"
      ]
     },
     "metadata": {
      "needs_background": "light"
     },
     "output_type": "display_data"
    }
   ],
   "source": [
    "#PASO 4: VELOCIDAD DE Y1\n",
    "\n",
    "def grafica_velocidad(q,meca):\n",
    "    \n",
    "    th = np.linspace(0,2*3.1416,50)\n",
    "\n",
    "    VY1 = np.zeros((50,0))\n",
    "\n",
    "    \n",
    "    i=0\n",
    "    for t in th:\n",
    "\n",
    "        q[6] = t\n",
    "        q[7] = t\n",
    "        \n",
    "        resuelve_prob_posicion (q,meca)\n",
    "        qp = resuelve_prob_velocidad (q,meca)\n",
    "\n",
    "        qp[6] = 1  #inicializar qp en 0 con qp[4] = 1 rad/s\n",
    "        qp[7] = 1\n",
    "\n",
    "        resuelve_prob_velocidad(q,meca)\n",
    "    \n",
    "        VY1 = np.append(VY1, qp[1])\n",
    "\n",
    "        i=i+1\n",
    "      \n",
    "    print (\"VY1=\")\n",
    "    pprint.pprint(VY1)\n",
    " \n",
    "    plt.plot(th,VY1)\n",
    "    plt.xlabel ('Angulo')\n",
    "    plt.ylabel ('Velocidad')\n",
    "    plt.title ('Velocidad de Y1')\n",
    "\n",
    "    plt.show()\n",
    "    return \n",
    "\n",
    "grafica_velocidad (q,meca)"
   ]
  },
  {
   "cell_type": "code",
   "execution_count": 6,
   "metadata": {},
   "outputs": [
    {
     "name": "stdout",
     "output_type": "stream",
     "text": [
      "VX2=\n",
      "array([-0.588162  , -0.58333317, -0.56892599, -0.4040221 , -0.52831908,\n",
      "       -0.64394103, -0.74898944, -0.84173941, -0.92066797, -0.98447912,\n",
      "       -1.03212508, -1.06282349, -1.07607028, -1.07164795, -1.04962911,\n",
      "       -1.01037531, -0.95453109, -0.88301343, -0.79699664, -0.69789313,\n",
      "       -0.58733018, -0.46712324, -0.33924611,  0.57731657,  0.58695383,\n",
      "        0.58695327,  0.57731492,  0.33926113,  0.46713749,  0.58734344,\n",
      "        0.69790518,  0.79700728,  0.88302248,  0.95453841,  1.01038077,\n",
      "        1.04963263,  1.07164947,  1.07606978,  1.06282096,  1.03212058,\n",
      "        0.98447272,  0.92065977,  0.84172955,  0.74897808,  0.64392836,\n",
      "        0.5283053 ,  0.40400744, -0.56892818, -0.58333428, -0.588162  ])\n"
     ]
    },
    {
     "data": {
      "image/png": "[encoded data removed]",
      "text/plain": [
       "<Figure size 432x288 with 1 Axes>"
      ]
     },
     "metadata": {
      "needs_background": "light"
     },
     "output_type": "display_data"
    }
   ],
   "source": [
    "#PASO 4: VELOCIDAD DE X2\n",
    "\n",
    "def grafica_velocidad(q,meca):\n",
    "    \n",
    "    th = np.linspace(0,2*3.1416,50)\n",
    "\n",
    "    VX2 = np.zeros((50,0))\n",
    "\n",
    "    \n",
    "    i=0\n",
    "    for t in th:\n",
    "\n",
    "        q[6] = t\n",
    "        q[7] = t\n",
    "        \n",
    "        resuelve_prob_posicion (q,meca)\n",
    "        qp = resuelve_prob_velocidad (q,meca)\n",
    "\n",
    "        qp[6] = 1  #inicializar qp en 0 con qp[4] = 1 rad/s\n",
    "        qp[7] = 1\n",
    "\n",
    "        resuelve_prob_velocidad(q,meca)\n",
    "    \n",
    "        VX2 = np.append(VX2, qp[2])\n",
    "\n",
    "        i=i+1\n",
    "      \n",
    "    print (\"VX2=\")\n",
    "    pprint.pprint(VX2)\n",
    " \n",
    "    plt.plot(th,VX2)\n",
    "    plt.xlabel ('Angulo')\n",
    "    plt.ylabel ('Velocidad')\n",
    "    plt.title ('Velocidad de X2')\n",
    "\n",
    "    plt.show()\n",
    "    return \n",
    "\n",
    "grafica_velocidad (q,meca)"
   ]
  },
  {
   "cell_type": "code",
   "execution_count": 7,
   "metadata": {},
   "outputs": [
    {
     "name": "stdout",
     "output_type": "stream",
     "text": [
      "VY2=\n",
      "array([ 1.42587051,  1.41416408,  1.379237  ,  0.97946349,  1.28079441,\n",
      "        1.56109462,  1.81576158,  2.04061365,  2.23195874,  2.38665496,\n",
      "        2.50216219,  2.57658379,  2.60869776,  2.59797679,  2.5445969 ,\n",
      "        2.44943462,  2.31405249,  2.14067351,  1.93214457,  1.69188972,\n",
      "        1.42385395,  1.13243844,  0.82242823, -1.39957813, -1.42294156,\n",
      "       -1.42294022, -1.39957413, -0.82246462, -1.13247299, -1.42388609,\n",
      "       -1.69191892, -1.93217035, -2.14069545, -2.31407023, -2.44944786,\n",
      "       -2.54460544, -2.59798047, -2.60869653, -2.57657767, -2.50215128,\n",
      "       -2.38663944, -2.23193886, -2.04058974, -1.81573404, -1.56106389,\n",
      "       -1.280761  , -0.97942794,  1.37924231,  1.41416675,  1.42587051])\n"
     ]
    },
    {
     "data": {
      "image/png": "[encoded data removed]",
      "text/plain": [
       "<Figure size 432x288 with 1 Axes>"
      ]
     },
     "metadata": {
      "needs_background": "light"
     },
     "output_type": "display_data"
    }
   ],
   "source": [
    "#PASO 4: VELOCIDAD DE Y2\n",
    "\n",
    "def grafica_velocidad(q,meca):\n",
    "    \n",
    "    th = np.linspace(0,2*3.1416,50)\n",
    "\n",
    "    VY2 = np.zeros((50,0))\n",
    "\n",
    "    \n",
    "    i=0\n",
    "    for t in th:\n",
    "\n",
    "        q[6] = t\n",
    "        q[7] = t\n",
    "        \n",
    "        resuelve_prob_posicion (q,meca)\n",
    "        qp = resuelve_prob_velocidad (q,meca)\n",
    "\n",
    "        qp[6] = 1  #inicializar qp en 0 con qp[4] = 1 rad/s\n",
    "        qp[7] = 1\n",
    "\n",
    "        resuelve_prob_velocidad(q,meca)\n",
    "    \n",
    "        VY2 = np.append(VY2, qp[3])\n",
    "\n",
    "        i=i+1\n",
    "      \n",
    "    print (\"VY2=\")\n",
    "    pprint.pprint(VY2)\n",
    " \n",
    "    plt.plot(th,VY2)\n",
    "    plt.xlabel ('Angulo')\n",
    "    plt.ylabel ('Velocidad')\n",
    "    plt.title ('Velocidad de Y2')\n",
    "\n",
    "    plt.show()\n",
    "    return \n",
    "\n",
    "grafica_velocidad (q,meca)"
   ]
  },
  {
   "cell_type": "code",
   "execution_count": 8,
   "metadata": {},
   "outputs": [
    {
     "name": "stdout",
     "output_type": "stream",
     "text": [
      "VX3=\n",
      "array([-0.81945373, -0.812726  , -0.79265326, -0.56290176, -0.7360779 ,\n",
      "       -0.8971676 , -1.04352576, -1.17274919, -1.28271601, -1.37162057,\n",
      "       -1.43800306, -1.48077346, -1.4992295 , -1.49306811, -1.46239047,\n",
      "       -1.4077003 , -1.32989563, -1.23025401, -1.11041155, -0.97233609,\n",
      "       -0.81829481, -0.6508171 , -0.47265294,  0.8043434 ,  0.81777046,\n",
      "        0.81776969,  0.8043411 ,  0.47267385,  0.65083696,  0.81831328,\n",
      "        0.97235287,  1.11042637,  1.23026662,  1.32990582,  1.40770791,\n",
      "        1.46239537,  1.49307022,  1.49922879,  1.48076995,  1.43799679,\n",
      "        1.37161165,  1.28270458,  1.17273545,  1.04350993,  0.89714994,\n",
      "        0.73605869,  0.56288133, -0.79265632, -0.81272754, -0.81945373])\n"
     ]
    },
    {
     "data": {
      "image/png": "[encoded data removed]",
      "text/plain": [
       "<Figure size 432x288 with 1 Axes>"
      ]
     },
     "metadata": {
      "needs_background": "light"
     },
     "output_type": "display_data"
    }
   ],
   "source": [
    "#PASO 4: VELOCIDAD DE X3\n",
    "\n",
    "def grafica_velocidad(q,meca):\n",
    "    \n",
    "    th = np.linspace(0,2*3.1416,50)\n",
    "\n",
    "    VX3 = np.zeros((50,0))\n",
    "\n",
    "    \n",
    "    i=0\n",
    "    for t in th:\n",
    "\n",
    "        q[6] = t\n",
    "        q[7] = t\n",
    "        \n",
    "        resuelve_prob_posicion (q,meca)\n",
    "        qp = resuelve_prob_velocidad (q,meca)\n",
    "\n",
    "        qp[6] = 1  #inicializar qp en 0 con qp[4] = 1 rad/s\n",
    "        qp[7] = 1\n",
    "\n",
    "        resuelve_prob_velocidad(q,meca)\n",
    "    \n",
    "        VX3 = np.append(VX3, qp[4])\n",
    "\n",
    "        i=i+1\n",
    "      \n",
    "    print (\"VX3=\")\n",
    "    pprint.pprint(VX3)\n",
    " \n",
    "    plt.plot(th,VX3)\n",
    "    plt.xlabel ('Angulo')\n",
    "    plt.ylabel ('Velocidad')\n",
    "    plt.title ('Velocidad de X3')\n",
    "\n",
    "    plt.show()\n",
    "    return \n",
    "\n",
    "grafica_velocidad (q,meca)"
   ]
  },
  {
   "cell_type": "code",
   "execution_count": 9,
   "metadata": {},
   "outputs": [
    {
     "name": "stdout",
     "output_type": "stream",
     "text": [
      "VY3=\n",
      "array([ 1.5       ,  1.48768496,  1.45094207,  1.03038476,  1.34738155,\n",
      "        1.64225427,  1.9101611 ,  2.14670299,  2.34799591,  2.51073462,\n",
      "        2.63224694,  2.71053765,  2.74432119,  2.73304284,  2.67688779,\n",
      "        2.57677812,  2.43435762,  2.25196485,  2.03259471,  1.77984927,\n",
      "        1.49787861,  1.19131271,  0.8651854 , -1.47234071, -1.49691878,\n",
      "       -1.49691737, -1.4723365 , -0.86522368, -1.19134906, -1.49791242,\n",
      "       -1.77987998, -2.03262184, -2.25198794, -2.43437628, -2.57679205,\n",
      "       -2.67689677, -2.73304671, -2.74431989, -2.71053121, -2.63223547,\n",
      "       -2.51071829, -2.34797499, -2.14667783, -1.91013212, -1.64222194,\n",
      "       -1.3473464 , -1.03034736,  1.45094766,  1.48768778,  1.5       ])\n"
     ]
    },
    {
     "data": {
      "image/png": "[encoded data removed]",
      "text/plain": [
       "<Figure size 432x288 with 1 Axes>"
      ]
     },
     "metadata": {
      "needs_background": "light"
     },
     "output_type": "display_data"
    }
   ],
   "source": [
    "#PASO 4: VELOCIDAD DE Y3\n",
    "\n",
    "def grafica_velocidad(q,meca):\n",
    "    \n",
    "    th = np.linspace(0,2*3.1416,50)\n",
    "\n",
    "    VY3 = np.zeros((50,0))\n",
    "\n",
    "    \n",
    "    i=0\n",
    "    for t in th:\n",
    "\n",
    "        q[6] = t\n",
    "        q[7] = t\n",
    "        \n",
    "        resuelve_prob_posicion (q,meca)\n",
    "        qp = resuelve_prob_velocidad (q,meca)\n",
    "\n",
    "        qp[6] = 1  #inicializar qp en 0 con qp[4] = 1 rad/s\n",
    "        qp[7] = 1\n",
    "\n",
    "        resuelve_prob_velocidad(q,meca)\n",
    "    \n",
    "        VY3 = np.append(VY3, qp[5])\n",
    "\n",
    "        i=i+1\n",
    "      \n",
    "    print (\"VY3=\")\n",
    "    pprint.pprint(VY3)\n",
    " \n",
    "    plt.plot(th,VY3)\n",
    "    plt.xlabel ('Angulo')\n",
    "    plt.ylabel ('Velocidad')\n",
    "    plt.title ('Velocidad de Y3')\n",
    "\n",
    "    plt.show()\n",
    "    return \n",
    "\n",
    "grafica_velocidad (q,meca)"
   ]
  },
  {
   "cell_type": "markdown",
   "metadata": {},
   "source": [
    "### PASO 5: GRÁFICAS ACELERACIONES\n",
    "\n",
    "Haremos el mismo procedimiento que para la velocidad, representando en celdas separadas la aceleración de cada coordenada."
   ]
  },
  {
   "cell_type": "code",
   "execution_count": 10,
   "metadata": {},
   "outputs": [
    {
     "name": "stdout",
     "output_type": "stream",
     "text": [
      "AX1=\n",
      "array([-0.93326931, -0.91800789, -0.87322188, -0.14082595, -0.24080474,\n",
      "       -0.35773764, -0.48397601, -0.61126251, -0.73127127, -0.83615244,\n",
      "       -0.91904569, -0.97452891, -0.99897293, -0.99077883, -0.95048261,\n",
      "       -0.88072006, -0.7860544 , -0.67267774, -0.54800614, -0.42019443,\n",
      "       -0.29760284, -0.18825018, -0.09928924, -0.89916855, -0.9294391 ,\n",
      "       -0.92943735, -0.89916341, -0.09929803, -0.18826166, -0.29761628,\n",
      "       -0.42020893, -0.54802077, -0.67269153, -0.78606645, -0.88072959,\n",
      "       -0.95048899, -0.99078164, -0.99897199, -0.97452428, -0.91903767,\n",
      "       -0.83614157, -0.73125825, -0.61124819, -0.48396132, -0.35772356,\n",
      "       -0.24079218, -0.14081573, -0.87322861, -0.91801137, -0.93326931])\n"
     ]
    },
    {
     "data": {
      "image/png": "[encoded data removed]",
      "text/plain": [
       "<Figure size 432x288 with 1 Axes>"
      ]
     },
     "metadata": {
      "needs_background": "light"
     },
     "output_type": "display_data"
    }
   ],
   "source": [
    "#PASO 5: ACELERACION DE X1\n",
    "\n",
    "def grafica_aceleracion(q,meca):\n",
    "    \n",
    "    th = np.linspace(0,2*3.1416,50)\n",
    "    AX1 = np.zeros((50,0))\n",
    "\n",
    "    \n",
    "    i=0\n",
    "    for t in th:\n",
    "\n",
    "        q[6] = t\n",
    "        q[7] = t\n",
    "        \n",
    "        resuelve_prob_posicion (q,meca)\n",
    "        qpp = resuelve_prob_aceleracion(q,meca)\n",
    "\n",
    "        qpp[6] = 1  #inicializar qp en 0 con qpp[6] = 1 rad/s**2\n",
    "        qpp[7] = 1\n",
    "\n",
    "        resuelve_prob_aceleracion(q,meca)\n",
    "        \n",
    "        \n",
    "        AX1 = np.append(AX1, qpp[0])\n",
    "\n",
    "        i=i+1\n",
    "      \n",
    "    print (\"AX1=\")\n",
    "    pprint.pprint(AX1)\t\n",
    " \n",
    "    plt.plot(th,AX1)\n",
    "    plt.xlabel ('Angulo')\n",
    "    plt.ylabel ('Aceleracion')\n",
    "    plt.title ('Aceleracion (X1)')\t\n",
    "\n",
    "    plt.show()\n",
    "    return \n",
    "\n",
    "grafica_aceleracion (q,meca)"
   ]
  },
  {
   "cell_type": "code",
   "execution_count": 11,
   "metadata": {},
   "outputs": [
    {
     "name": "stdout",
     "output_type": "stream",
     "text": [
      "AY1=\n",
      "array([-1.        , -0.98364736, -0.93565906, -1.02018553, -1.74446194,\n",
      "       -2.59155904, -3.50606772, -4.42816942, -5.29754895, -6.05733968,\n",
      "       -6.65784327, -7.05978043, -7.23686022, -7.17749974, -6.8855818 ,\n",
      "       -6.38020092, -5.69441436, -4.87307981, -3.96992124, -3.04401477,\n",
      "       -2.15592448, -1.36374087, -0.71928113, -0.96346097, -0.99589593,\n",
      "       -0.99589405, -0.96345545, -0.71934479, -1.36382409, -2.15602181,\n",
      "       -3.04411984, -3.97002718, -4.8731797 , -5.69450166, -6.38026992,\n",
      "       -6.88562798, -7.17752009, -7.2368534 , -7.05974689, -6.6577852 ,\n",
      "       -6.05726088, -5.29745458, -4.42806565, -3.50596133, -2.591457  ,\n",
      "       -1.74437092, -1.02011148, -0.93566627, -0.98365108, -1.        ])\n"
     ]
    },
    {
     "data": {
      "image/png": "[encoded data removed]",
      "text/plain": [
       "<Figure size 432x288 with 1 Axes>"
      ]
     },
     "metadata": {
      "needs_background": "light"
     },
     "output_type": "display_data"
    }
   ],
   "source": [
    "#PASO 5: ACELERACION DE Y1\n",
    "\n",
    "def grafica_aceleracion(q,meca):\n",
    "    \n",
    "    th = np.linspace(0,2*3.1416,50)\n",
    "    \n",
    "    AY1 = np.zeros((50,0))\n",
    "\n",
    "    \n",
    "    i=0\n",
    "    for t in th:\n",
    "\n",
    "        q[6] = t\n",
    "        q[7] = t\n",
    "        \n",
    "        resuelve_prob_posicion (q,meca)\n",
    "        qpp = resuelve_prob_aceleracion(q,meca)\n",
    "\n",
    "        qpp[6] = 1  #inicializar qp en 0 con qpp[6] = 1 rad/s**2\n",
    "        qpp[7] = 1\n",
    "\n",
    "        resuelve_prob_aceleracion(q,meca)\n",
    "        \n",
    "        \n",
    "        AY1 = np.append(AY1, qpp[1])\n",
    "\n",
    "        i=i+1\n",
    "      \n",
    "    print (\"AY1=\")\n",
    "    pprint.pprint(AY1)\t\n",
    " \n",
    "    plt.plot(th,AY1)\n",
    "    plt.xlabel ('Angulo')\n",
    "    plt.ylabel ('Aceleracion')\n",
    "    plt.title ('Aceleracion (Y1)')\t\n",
    "\n",
    "    plt.show()\n",
    "    return \n",
    "\n",
    "grafica_aceleracion (q,meca)"
   ]
  },
  {
   "cell_type": "code",
   "execution_count": 12,
   "metadata": {},
   "outputs": [
    {
     "name": "stdout",
     "output_type": "stream",
     "text": [
      "AX2=\n",
      "array([-1.426765  , -1.39602298, -1.30688493, -0.45210698, -0.92954949,\n",
      "       -1.59716019, -2.42654533, -3.36111156, -4.32272819, -5.22163409,\n",
      "       -5.96820233, -6.48489916, -6.71673806, -6.63873858, -6.25932523,\n",
      "       -5.61918059, -4.78571653, -3.84395343, -2.88510869, -1.99451887,\n",
      "       -1.24060808, -0.66645598, -0.28513564,  0.37728338,  0.40495879,\n",
      "        0.40495717,  0.37727873,  0.06705066,  0.25297519,  0.58694094,\n",
      "        1.07158344,  1.68143401,  2.36643016,  3.0591468 ,  3.68465633,\n",
      "        4.17154106,  4.4624148 ,  4.52238771,  4.34421593,  3.94937095,\n",
      "        3.38487002,  2.71633833,  2.01833381,  1.36337375,  0.81129821,\n",
      "        0.40055966,  0.14274761, -1.3068982 , -1.39602997, -1.426765  ])\n"
     ]
    },
    {
     "data": {
      "image/png": "[encoded data removed]",
      "text/plain": [
       "<Figure size 432x288 with 1 Axes>"
      ]
     },
     "metadata": {
      "needs_background": "light"
     },
     "output_type": "display_data"
    }
   ],
   "source": [
    "#PASO 5: ACELERACION DE X2\n",
    "\n",
    "def grafica_aceleracion(q,meca):\n",
    "    \n",
    "    th = np.linspace(0,2*3.1416,50)\n",
    "    \n",
    "    AX2 = np.zeros((50,0))\n",
    "\n",
    "    \n",
    "    i=0\n",
    "    for t in th:\n",
    "\n",
    "        q[6] = t\n",
    "        q[7] = t\n",
    "        \n",
    "        resuelve_prob_posicion (q,meca)\n",
    "        qpp = resuelve_prob_aceleracion(q,meca)\n",
    "\n",
    "        qpp[6] = 1  #inicializar qp en 0 con qpp[6] = 1 rad/s**2\n",
    "        qpp[7] = 1\n",
    "\n",
    "        resuelve_prob_aceleracion(q,meca)\n",
    "        \n",
    "        \n",
    "        AX2 = np.append(AX2, qpp[2])\n",
    "\n",
    "        i=i+1\n",
    "      \n",
    "    print (\"AX2=\")\n",
    "    pprint.pprint(AX2)\t\n",
    " \n",
    "    plt.plot(th,AX2)\n",
    "    plt.xlabel ('Angulo')\n",
    "    plt.ylabel ('Aceleracion')\n",
    "    plt.title ('Aceleracion (X2)')\t\n",
    "\n",
    "    plt.show()\n",
    "    return \n",
    "\n",
    "grafica_aceleracion (q,meca)"
   ]
  },
  {
   "cell_type": "code",
   "execution_count": 13,
   "metadata": {},
   "outputs": [
    {
     "name": "stdout",
     "output_type": "stream",
     "text": [
      "AY2=\n",
      "array([-3.11165658, -3.06004436, -2.90868957,  0.17372458,  0.28167982,\n",
      "        0.39720787,  0.51125056,  0.61657857,  0.70797331,  0.78209684,\n",
      "        0.83713091,  0.87229671,  0.88737675,  0.88234943,  0.85721701,\n",
      "        0.81206403,  0.74733364,  0.66426171,  0.56537099,  0.45490683,\n",
      "        0.33909511,  0.22612391,  0.12578917, -2.825761  , -2.91941855,\n",
      "       -2.91941313, -2.82574508,  0.16041975,  0.3165141 ,  0.5187487 ,\n",
      "        0.75630149,  1.01424657,  1.27471179,  1.51843671,  1.72656808,\n",
      "        1.88249373,  1.97350423,  1.99208728,  1.93670091,  1.81193293,\n",
      "        1.6280273 ,  1.39983445,  1.14531083,  0.88374513,  0.63391735,\n",
      "        0.41239895,  0.23217797, -2.9087123 , -3.06005612, -3.11165658])\n"
     ]
    },
    {
     "data": {
      "image/png": "[encoded data removed]",
      "text/plain": [
       "<Figure size 432x288 with 1 Axes>"
      ]
     },
     "metadata": {
      "needs_background": "light"
     },
     "output_type": "display_data"
    }
   ],
   "source": [
    "#PASO 5: ACELERACION DE Y2\n",
    "\n",
    "def grafica_aceleracion(q,meca):\n",
    "    \n",
    "    th = np.linspace(0,2*3.1416,50)\n",
    "    \n",
    "    AY2 = np.zeros((50,0))\n",
    "\n",
    "    \n",
    "    i=0\n",
    "    for t in th:\n",
    "\n",
    "        q[6] = t\n",
    "        q[7] = t\n",
    "        \n",
    "        resuelve_prob_posicion (q,meca)\n",
    "        qpp = resuelve_prob_aceleracion(q,meca)\n",
    "\n",
    "        qpp[6] = 1  #inicializar qp en 0 con qpp[6] = 1 rad/s**2\n",
    "        qpp[7] = 1\n",
    "\n",
    "        resuelve_prob_aceleracion(q,meca)\n",
    "        \n",
    "        \n",
    "        AY2 = np.append(AY2, qpp[3])\n",
    "\n",
    "        i=i+1\n",
    "      \n",
    "    print (\"AY2=\")\n",
    "    pprint.pprint(AY2)\t\n",
    " \n",
    "    plt.plot(th,AY2)\n",
    "    plt.xlabel ('Angulo')\n",
    "    plt.ylabel ('Aceleracion')\n",
    "    plt.title ('Aceleracion (Y2)')\t\n",
    "\n",
    "    plt.show()\n",
    "    return \n",
    "\n",
    "grafica_aceleracion (q,meca)"
   ]
  },
  {
   "cell_type": "code",
   "execution_count": 14,
   "metadata": {},
   "outputs": [
    {
     "name": "stdout",
     "output_type": "stream",
     "text": [
      "AX3=\n",
      "array([ 1.65282635,  1.62579827,  1.54648194, -0.31685839, -0.54181067,\n",
      "       -0.8049097 , -1.08894602, -1.37534065, -1.64536036, -1.881343  ,\n",
      "       -2.0678528 , -2.19269005, -2.24768909, -2.22925237, -2.13858588,\n",
      "       -1.98162014, -1.76862239, -1.51352492, -1.23301382, -0.94543746,\n",
      "       -0.6696064 , -0.4235629 , -0.2234008 ,  1.59243367,  1.64604303,\n",
      "        1.64603992,  1.59242456, -0.22342057, -0.42358874, -0.66963663,\n",
      "       -0.9454701 , -1.23304672, -1.51355595, -1.7686495 , -1.98164157,\n",
      "       -2.13860022, -2.22925869, -2.24768697, -2.19267964, -2.06783476,\n",
      "       -1.88131852, -1.64533105, -1.37530842, -1.08891298, -0.80487801,\n",
      "       -0.5417824 , -0.31683539,  1.54649386,  1.62580443,  1.65282635])\n"
     ]
    },
    {
     "data": {
      "image/png": "[encoded data removed]",
      "text/plain": [
       "<Figure size 432x288 with 1 Axes>"
      ]
     },
     "metadata": {
      "needs_background": "light"
     },
     "output_type": "display_data"
    }
   ],
   "source": [
    "#PASO 5: ACELERACION DE X3\n",
    "\n",
    "def grafica_aceleracion(q,meca):\n",
    "    \n",
    "    th = np.linspace(0,2*3.1416,50)\n",
    "    \n",
    "    AX3 = np.zeros((50,0))\n",
    "\n",
    "    \n",
    "    i=0\n",
    "    for t in th:\n",
    "\n",
    "        q[6] = t\n",
    "        q[7] = t\n",
    "        \n",
    "        resuelve_prob_posicion (q,meca)\n",
    "        qpp = resuelve_prob_aceleracion(q,meca)\n",
    "\n",
    "        qpp[6] = 1  #inicializar qp en 0 con qpp[6] = 1 rad/s**2\n",
    "        qpp[7] = 1\n",
    "\n",
    "        resuelve_prob_aceleracion(q,meca)\n",
    "        \n",
    "        \n",
    "        AX3 = np.append(AX3, qpp[4])\n",
    "\n",
    "        i=i+1\n",
    "      \n",
    "    print (\"AX3=\")\n",
    "    pprint.pprint(AX3)\t\n",
    " \n",
    "    plt.plot(th,AX3)\n",
    "    plt.xlabel ('Angulo')\n",
    "    plt.ylabel ('Aceleracion')\n",
    "    plt.title ('Aceleracion (X3)')\t\n",
    "\n",
    "    plt.show()\n",
    "    return \n",
    "\n",
    "grafica_aceleracion (q,meca)"
   ]
  },
  {
   "cell_type": "code",
   "execution_count": 15,
   "metadata": {},
   "outputs": [
    {
     "name": "stdout",
     "output_type": "stream",
     "text": [
      "AY3=\n",
      "array([-2.25      , -2.21320655, -2.10523288,  0.94592527,  1.61748093,\n",
      "        2.40291704,  3.25085777,  4.10583883,  4.91193541,  5.61642027,\n",
      "        6.17321264,  6.54589242,  6.71008241,  6.65504283,  6.38437387,\n",
      "        5.91578014,  5.27991262,  4.51836378,  3.68094696,  2.82243809,\n",
      "        1.99899272,  1.2644729 ,  0.66692399, -2.16778718, -2.24076584,\n",
      "       -2.24076161, -2.16777477,  0.66698301,  1.26455006,  1.99908297,\n",
      "        2.82253552,  3.6810452 ,  4.5184564 ,  5.27999357,  5.91584412,\n",
      "        6.38441669,  6.6550617 ,  6.71007608,  6.54586132,  6.1731588 ,\n",
      "        5.61634721,  4.91184791,  4.10574261,  3.25075913,  2.40282243,\n",
      "        1.61739654,  0.94585661, -2.1052491 , -2.21321493, -2.25      ])\n"
     ]
    },
    {
     "data": {
      "image/png": "[encoded data removed]",
      "text/plain": [
       "<Figure size 432x288 with 1 Axes>"
      ]
     },
     "metadata": {
      "needs_background": "light"
     },
     "output_type": "display_data"
    }
   ],
   "source": [
    "#PASO 5: ACELERACION DE Y3\n",
    "\n",
    "def grafica_aceleracion(q,meca):\n",
    "    \n",
    "    th = np.linspace(0,2*3.1416,50)\n",
    "    \n",
    "    AY3 = np.zeros((50,0))\n",
    "\n",
    "    \n",
    "    i=0\n",
    "    for t in th:\n",
    "\n",
    "        q[6] = t\n",
    "        q[7] = t\n",
    "        \n",
    "        resuelve_prob_posicion (q,meca)\n",
    "        qpp = resuelve_prob_aceleracion(q,meca)\n",
    "\n",
    "        qpp[6] = 1  #inicializar qp en 0 con qpp[6] = 1 rad/s**2\n",
    "        qpp[7] = 1\n",
    "\n",
    "        resuelve_prob_aceleracion(q,meca)\n",
    "        \n",
    "        \n",
    "        AY3 = np.append(AY3, qpp[5])\n",
    "\n",
    "        i=i+1\n",
    "      \n",
    "    print (\"AY3=\")\n",
    "    pprint.pprint(AY3)\t\n",
    " \n",
    "    plt.plot(th,AY3)\n",
    "    plt.xlabel ('Angulo')\n",
    "    plt.ylabel ('Aceleracion')\n",
    "    plt.title ('Aceleracion (Y3)')\t\n",
    "\n",
    "    plt.show()\n",
    "    return \n",
    "\n",
    "grafica_aceleracion (q,meca)"
   ]
  }
 ],
 "metadata": {
  "kernelspec": {
   "display_name": "Python 3",
   "language": "python",
   "name": "python3"
  },
  "language_info": {
   "codemirror_mode": {
    "name": "ipython",
    "version": 3
   },
   "file_extension": ".py",
   "mimetype": "text/x-python",
   "name": "python",
   "nbconvert_exporter": "python",
   "pygments_lexer": "ipython3",
   "version": "3.7.0"
  }
 },
 "nbformat": 4,
 "nbformat_minor": 2
}
