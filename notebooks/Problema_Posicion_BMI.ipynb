{
 "cells": [
  {
   "cell_type": "markdown",
   "metadata": {},
   "source": [
    "\n",
    "# MECANISMO BIELA-MANIVELA INVERTIDA \n",
    "\n",
    "## PROBLEMA POSICIÓN"
   ]
  },
  {
   "attachments": {
    "Biela-Manivela-Invertida.png": {
     "image/png": "[encoded data removed]"
    }
   },
   "cell_type": "markdown",
   "metadata": {},
   "source": [
    "### PASO 1: MODELADO DEL MECANISMO\n",
    "\n",
    "El mecanismo de partida es el conocido como biela-manivela invertida. Podemos ver todas las variables en la figura.\n",
    "\n",
    "![Biela-Manivela-Invertida.png](attachment:Biela-Manivela-Invertida.png)"
   ]
  },
  {
   "cell_type": "markdown",
   "metadata": {},
   "source": [
    "### PASO 2: GRADOS DE LIBERTAD\n",
    "\n",
    "Los grados de libertad se calculan:\n",
    "\n",
    "$G = 3·(n-1) - 2·PI - PII$\n",
    "\n",
    "Siendo:\n",
    "\n",
    "PI -> Numero de pares binarios de un grado de libertad \n",
    "\n",
    "PII -> Número de pares binarios de dos grados de libertad.\n",
    "En este caso tendríamos:\n",
    "\n",
    "\\begin{eqnarray}\n",
    "n &=& 5  \\\\\n",
    "P_{I} &=& 5    \\\\\n",
    "P_{II} &=& 0 \n",
    "\\end{eqnarray}\n",
    "\n",
    "Por lo tanto:\n",
    "\n",
    "$G = 3·(5-1) - 2·5 - 0 = 2$ "
   ]
  },
  {
   "cell_type": "markdown",
   "metadata": {},
   "source": [
    "### PASO 3: DEFINICIÓN DEL VECTOR q\n",
    "\n",
    "El vector $\\mathbf{q}$ de dimensión $N \\times 1$ contiene las coordenadas dependientes del mecanismo. Es decir, contiene las coordenadas que no se mantienen fijas ya que varían con el tiempo. \n",
    "\n",
    "Lo hemos modelizado enpleando las $8$ coordenadas:\n",
    "\n",
    "\\begin{equation}\n",
    "\\mathbf{q} = \n",
    " \\begin{bmatrix}\n",
    " x_1 \\\\ y_1 \\\\ x_2 \\\\ y_2 \\\\ x_3 \\\\ y_3 \\\\ \\theta \\\\ \\beta\n",
    " \\end{bmatrix}\n",
    "\\end{equation}"
   ]
  },
  {
   "cell_type": "markdown",
   "metadata": {},
   "source": [
    "### PASO 4: IMPLEMENTACIÓN EN PYTHON\n",
    "\n",
    "Al igual que en otros entornos de programación, necesitamos añadir librerías que contengan las funciones que vamos a utilizar. Esto es necesario hacerlo al principio del código. Las que vamos a usar son las siguientes: \n",
    "\n",
    "1. numpy -> Sirve para trabajar con arrays y matrices, ofreciendo una interfaz similar a los comandos en MATLAB. \n",
    "2. math -> La utilizaremos para usar funciones matemáticas.\n",
    "3. pprint -> \"pretty print\", su función es ayudar a depurar el código.\n",
    "4. matplotlib.pyplot -> Es necesaria para dibujar gráficas."
   ]
  },
  {
   "cell_type": "code",
   "execution_count": null,
   "metadata": {},
   "outputs": [],
   "source": [
    "#PASO 4\n",
    "\n",
    "import numpy as np\n",
    "import math as math\n",
    "import pprint  \n",
    "import matplotlib.pyplot as plt  \n",
    "import scipy.integrate as integrate "
   ]
  },
  {
   "cell_type": "markdown",
   "metadata": {},
   "source": [
    "### PASO 5: LECTURA DE DATOS\n",
    "\n",
    "Los datos iniciales de los que partiremos para resolver este mecanismo mediante análisis cinemático por métodos numéricos son los parámetros constantes que definen el mecanismo, es decir, las variables que no cambian con el tiempo. En este caso serían las longitudes de las barras y las posiciones de los apoyos.\n",
    "\n",
    "Además, como el mecanismo tiene dos grados de libertad, tenemos que escoger las **variables independientes** entre las componentes del vector q. En este caso hemos escogido los ángulos, por lo que también será un dato de partida.\n",
    "\n",
    "1. Longitudes de las barras: $L_1, ~ L_2 ~ L_3 ~ y ~ L_4$.\n",
    "2. Posición de los dos apoyos: $X_A, ~ Y_A, ~ X_B ~ e ~ Y_B$.\n",
    "3. Ángulo que forma la primera barra respecto a la horizontal en radianes: $θ(t=0)$.\n",
    "4. Ángulo que forma la cuarta barra respecto a la horizontal en radianes: $\\beta(t=0)$\n",
    "\n",
    "Una vez tengamos esos datos, definiremos una posición inicial."
   ]
  },
  {
   "cell_type": "code",
   "execution_count": null,
   "metadata": {},
   "outputs": [],
   "source": [
    "\n",
    "print ('BIELA-MANIVELA INVERTIDA')\n",
    "print ('=============================')\n",
    "# Lectura de datos por teclado\n",
    "\n",
    "meca = {} # dictionary vacio, con propiedades de mecanismo\n",
    "\n",
    "meca[\"L1\"] = float (input ('Introduce longitud L1:'))\n",
    "meca[\"L2\"] = float (input ('Introduce longitud L2:'))\n",
    "meca[\"L3\"] = float (input ('Introduce longitud L3: '))\n",
    "meca[\"theta\"] = float (input ('Introduce angulo inicial theta:')) #En rad\n",
    "meca[\"beta\"] = float (input ('Introduce angulo inicial beta: '))\n",
    "meca[\"XB\"] = float (input ('Introduce coordenada en x del punto B:'))\n",
    "meca[\"YB\"] = float (input ('Introduce coordenada en y del punto B:'))\n",
    "meca[\"XA\"] = 0\n",
    "meca[\"YA\"] = 0\n",
    "\n",
    "# Defino posicion inicial:\n",
    "q = np.array ([[0.1], [0.2], [1], [0.2], [meca[\"XB\"]+meca[\"L3\"]*math.cos(meca[\"beta\"])], [meca[\"YB\"]+meca[\"L3\"]*math.sin(meca[\"beta\"])], [meca[\"theta\"]], [meca[\"beta\"]]])\n",
    "print('q: ' + str(q))"
   ]
  },
  {
   "cell_type": "markdown",
   "metadata": {},
   "source": [
    "### PASO 6: MATRIZ DE RESTRICCIONES $\\Phi(q)$\n",
    "\n"
   ]
  }
 ],
 "metadata": {
  "kernelspec": {
   "display_name": "Python 3",
   "language": "python",
   "name": "python3"
  },
  "language_info": {
   "codemirror_mode": {
    "name": "ipython",
    "version": 3
   },
   "file_extension": ".py",
   "mimetype": "text/x-python",
   "name": "python",
   "nbconvert_exporter": "python",
   "pygments_lexer": "ipython3",
   "version": "3.7.0"
  }
 },
 "nbformat": 4,
 "nbformat_minor": 2
}
