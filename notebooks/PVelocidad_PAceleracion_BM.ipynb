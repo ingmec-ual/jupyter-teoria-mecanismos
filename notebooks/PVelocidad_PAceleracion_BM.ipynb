{
 "cells": [
  {
   "cell_type": "markdown",
   "metadata": {},
   "source": [
    "# MECANISMO BIELA-MANIVELA\n",
    "\n",
    "## PROBLEMAS VELOCIDAD Y ACELERACIÓN"
   ]
  },
  {
   "cell_type": "markdown",
   "metadata": {},
   "source": [
    "### PASO 1: MATRIZ JACOBIANA \n",
    "\n",
    "Para resolver el problema velocidad, necesitamos otra vez la matriz jacobiana. El método de construcción aparece detallado en el notebook Problema_Posición_4B, por lo que para este caso copiaremos el código de los pasos realizados para poder conseguirla."
   ]
  },
  {
   "cell_type": "code",
   "execution_count": 1,
   "metadata": {},
   "outputs": [
    {
     "name": "stdout",
     "output_type": "stream",
     "text": [
      "BIELA-MANIVELA\n",
      "=============================\n",
      "Introduce longitud L1:1\n",
      "Introduce longitud L2:2\n",
      "Introduce angulo inicial theta:0.5\n",
      "Introduce coordenada en x del punto B:2\n",
      "Introduce coordenada en x del punto C:3\n",
      "Introduce coordenada en y del punto B:0\n",
      "Introduce coordenada en y del punto c: 0\n",
      "q: [[0.1]\n",
      " [0.2]\n",
      " [1. ]\n",
      " [0.2]\n",
      " [0.5]]\n"
     ]
    }
   ],
   "source": [
    "import numpy as np\n",
    "import math as math\n",
    "import array as arr\n",
    "import pprint  # para depurar\n",
    "import matplotlib.pyplot as plt  #Para graficas\n",
    "import matplotlib.animation as animation\n",
    "import scipy.integrate as integrate \n",
    "import os\n",
    "from time import sleep\n",
    "#%matplotlib inline (Para notebook)\n",
    "\n",
    "\n",
    "\n",
    "print ('BIELA-MANIVELA')\n",
    "print ('=============================')\n",
    "# Lectura de datos por teclado\n",
    "\n",
    "meca = {} # dictionary vacio, con propiedades de mecanismo\n",
    "\n",
    "meca[\"L1\"] = float (input ('Introduce longitud L1:'))\n",
    "meca[\"L2\"] = float (input ('Introduce longitud L2:'))\n",
    "meca[\"theta\"] = float (input ('Introduce angulo inicial theta:')) #En rad\n",
    "meca[\"XB\"] = float (input ('Introduce coordenada en x del punto B:'))\n",
    "meca[\"XC\"] = float (input ('Introduce coordenada en x del punto C:'))\n",
    "meca[\"XA\"] = 0\n",
    "meca[\"YA\"] = 0\n",
    "meca[\"YB\"] = float (input ('Introduce coordenada en y del punto B:'))\n",
    "meca[\"YC\"] = float (input ('Introduce coordenada en y del punto c: '))\n",
    "\n",
    "# Defino posicion inicial:\n",
    "q = np.array ([[0.1], [0.2], [1], [0.2], [meca[\"theta\"]]])\n",
    "print('q: ' + str(q))\n",
    "\n",
    "# JACOBIANO\n",
    "def jacob_Phiq(q,meca):\n",
    "    #Inicializa a cero la matriz jacobiana\n",
    "    Jacob = np.zeros((5,5))\n",
    "\n",
    "    #Extraer coordenadas\n",
    "\n",
    "    X1 = q[0]\n",
    "    Y1 = q[1]\n",
    "    X2 = q[2]\n",
    "    Y2 = q[3]\n",
    "    theta = q[4]\n",
    "\n",
    "    #Montar matriz\n",
    "\n",
    "    Jacob[0,0] = 2*X1\n",
    "    Jacob[0,1] = 2*Y1\n",
    "    Jacob[1,0] = -2*(X2-X1)\n",
    "    Jacob[1,1] = -2*(Y2-Y1)\n",
    "    Jacob[1,2] = 2*(X2-X1)\n",
    "    Jacob[1,3] = 2*(Y2-Y1)\n",
    "    Jacob[2,2] = meca[\"YB\"] - meca[\"YC\"]\n",
    "    Jacob[2,3] = meca[\"XC\"] - meca[\"XB\"]\n",
    "\n",
    "    if (abs(math.cos(theta)) < (math.sqrt(2)/2) ):\n",
    "        Jacob[3,4] = -meca[\"L1\"]*math.sin(theta)\n",
    "        Jacob[3,0] = 1\n",
    "    else:\n",
    "        Jacob[3,4] = meca[\"L1\"]*math.cos(theta)\n",
    "        Jacob[3,1] = 1\n",
    "\n",
    " \n",
    "    Jacob[4,4] = 1\n",
    "\n",
    "    return Jacob\n",
    "\n",
    "\n",
    "def Phi (q,meca):\n",
    "    #Inicializa a cero Phi\n",
    "    Phi = np.zeros((5,1))\n",
    "\n",
    "    #Extraer coordenadas\n",
    "    X1 = q[0]\n",
    "    Y1 = q[1]\n",
    "    X2 = q[2]\n",
    "    Y2 = q[3]\n",
    "    theta = q[4]\n",
    "\n",
    "    Phi[0] = X1**2 + Y1**2 - meca[\"L1\"]**2\n",
    "    Phi[1] = (X2-X1)**2 + (Y2-Y1)**2 -meca[\"L2\"]**2\n",
    "    Phi[2] = (meca[\"XC\"] - meca[\"XB\"])*(Y2-meca[\"YB\"]) - (meca[\"YC\"]-meca[\"YB\"])*(X2-meca[\"XB\"])\n",
    "\n",
    "\n",
    "    if (abs(math.cos(theta)) < (math.sqrt(2)/2) ):\n",
    "        Phi[3] = X1-meca[\"L1\"]*math.cos(theta)\n",
    "    else: \n",
    "        Phi[3] = Y1-meca[\"L1\"]*math.sin(theta)\n",
    "    \n",
    "    \n",
    "    \n",
    "    return Phi\n",
    "\n",
    "\n",
    "\n",
    "def resuelve_prob_posicion(q_init, meca):\n",
    "    #Inicializacion de variables\n",
    "    error = 1e10\n",
    "    tolerancia = 1e-10\n",
    "\n",
    "    #Inicializacion en cero de deltaQ, fi y q\n",
    "    deltaQ = np.zeros ((5,1))\n",
    "    q = q_init\n",
    "    i=0\n",
    "\n",
    "    # Iteraciones hasta conseguir que el error sea menor que la tolerancia\n",
    "\n",
    "    while (error > tolerancia and i<=100):\n",
    "        #print(\"q=\")\n",
    "        #pprint.pprint(q)\n",
    "\n",
    "\n",
    "        #Extraer las coordenadas\n",
    "        X1 = q[0]\n",
    "        Y1 = q[1]\n",
    "        X2 = q[2]\n",
    "        Y2 = q[3]\n",
    "        theta = q[4]\n",
    "       \n",
    "        fi=Phi(q,meca)\n",
    "      \n",
    "        J = jacob_Phiq(q,meca)\n",
    "\n",
    "        \n",
    "        deltaQ = np.linalg.solve(J,-fi)\n",
    "        q = q + deltaQ\n",
    "        error = np.linalg.norm(deltaQ)  # El error es el modulo del vector\n",
    "        i=i+1\n",
    "        \n",
    "    if (error > tolerancia):\n",
    "        raise Exception ('No se puede alcanzar la posición')\n",
    "        \n",
    "    return q\n",
    "\n",
    "q = resuelve_prob_posicion(q,meca)\n"
   ]
  },
  {
   "cell_type": "markdown",
   "metadata": {},
   "source": [
    "### PASO 2: PROBLEMA VELOCIDAD\n",
    "\n",
    "Consiste en determinar las velocidades de todas las variables del mecanismo una vez sabemos su posición $q$ y la velocidad de los grados de libertad. \n",
    "\n",
    "Partimos de la ecuación:\n",
    "\n",
    "$\\Phi_q  =0 $\n",
    "\n",
    "Derivando se obtiene:\n",
    "\n",
    "$\\Phi_q \\dot{q} + \\Phi_t = 0$\n",
    "\n",
    "Siendo $\\dot{q}$ el vector velocidad, $\\Phi_q$ el jacobiano y $\\Phi_t$ la derivada parcial de las ecuaciones de restricción respecto al tiempo. Para las ecuaciones de sólido rígido el valor de esta derivada es $0$. Solo tendría un valor no nulo la correspondiente al ángulo, que en ese caso tendría la velocidad que nosotros le indiquemos. \n",
    "\n",
    "De este modo la expresión quedaría:\n",
    "\n",
    "$\\Phi_q \\dot{q} = -\\Phi_t$\n",
    "\n",
    "Este sistema de ecuaciones tiene infinitas soluciones y por tanto hay que ampliar añadiendo un dato conocido de velocidad, lo que se hace añadiendo una fila a la matriz de coeficientes del lado izquierdo y un dato a la columna del lado derecho de la ecuación por cada grado de libertad.\n",
    "\n",
    "De esta forma llegamos a un sistema de ecuaciones lineal matricial de la forma:\n",
    "\n",
    "$\\mathbf{A} \\mathbf{x} = \\mathbf{b}$\n",
    "\n",
    "Habría que multiplicar en ambas partes de la igualdad por la $A$ invertida en el lado izquierdo, del mismo modo que se hizo en el problema de posición. De esta manera quedaría:\n",
    "\n",
    "\n",
    "\n",
    "$x = -A^{-1} b$"
   ]
  },
  {
   "cell_type": "code",
   "execution_count": 2,
   "metadata": {},
   "outputs": [
    {
     "data": {
      "text/plain": [
       "array([[ 0.47942554],\n",
       "       [-0.87758256],\n",
       "       [ 0.696111  ],\n",
       "       [ 0.        ],\n",
       "       [ 1.        ]])"
      ]
     },
     "execution_count": 2,
     "metadata": {},
     "output_type": "execute_result"
    }
   ],
   "source": [
    "#PASO 2\n",
    "\n",
    "def resuelve_prob_velocidad(q,qp,meca):\n",
    "    qp = np.linalg.solve(jacob_Phiq(q,meca),qp)\n",
    "    #print (\"qp=\")\n",
    "    #pprint.pprint(qp)\n",
    " \n",
    "    return qp\n",
    "\n",
    "qp = np.zeros ((5,1))\n",
    "#Velocidad del gdl. En una vuelta completa del angulo se cumple angulo=2*Pi*t\n",
    "qp[4]=1\n",
    "\n",
    "resuelve_prob_velocidad (q,qp, meca)"
   ]
  },
  {
   "cell_type": "markdown",
   "metadata": {},
   "source": [
    "### PASO 3: PROBLEMA ACELERACIÓN\n",
    "\n",
    "El problema aceleración trata de determinar las aceleraciones de todas las variables del mecanismo, conociendo la posición$q$, la velocidad $\\dot{q}$ y las aceleraciones de los grados de libertad. \n",
    "\n",
    "Partimos la ecuación que se obtiene tras derivar la ecuación inicial para el problema de velocidad, es decir:\n",
    "\n",
    "$\\Phi_q \\dot{q} + \\Phi_t = 0$\n",
    "\n",
    "Se deriva por segunda vez:\n",
    "\n",
    "$\\dot{\\Phi}_q \\dot{q} + \\Phi_q \\ddot{q} + \\dot{\\Phi}_t = 0$\n",
    "\n",
    "Despejamos $\\Phi_q \\ddot{q}$:\n",
    "\n",
    "$\\Phi_q \\ddot{q} = -\\dot{\\Phi}_t - \\dot{\\Phi}_q  \\dot{q}$\n",
    "\n",
    "\n",
    "Siendo $\\Phi_q$ el jacobiano, $\\ddot{q}$ el vector aceleración, $\\dot{q}$ el vector velocidad, $\\dot{\\Phi}_q$ la derivada del jacobiano respecto al tiempo y $\\dot{\\Phi}_t$ es la derivada de las ecuaciones de restricción con respecto al tiempo, cuyo valor es nulo. Es decir, tendríamos:\n",
    "\n",
    "$\\Phi_q \\ddot{q} = - \\dot{\\Phi}_q  \\dot{q}$\n",
    "\n",
    "Del mismo modo que en el problema velocidad, llamando $b$ al conjunto formado por $\\dot{\\Phi}_q  \\dot{q}$  llegamos a un sistema de ecuaciones lineal matricial:\n",
    "\n",
    "$ \\mathbf{A} \\mathbf{x} = \\mathbf{b}$\n",
    "\n",
    "Y despejando la $x$:\n",
    "\n",
    "$\\mathbf{x} = \\mathbf{A}^{-1} \\mathbf{b}$\n",
    "\n",
    "\n",
    "El vector velocidad será:\n",
    "\n",
    "\\begin{equation}\n",
    "\\mathbf{q_p} = \n",
    "\\begin{bmatrix}\n",
    "\\dot{X}_1 \\\\\n",
    "\\dot{Y}_1 \\\\\n",
    "\\dot{X}_2 \\\\\n",
    "\\dot{Y}_2 \\\\\n",
    "\\dot{\\theta}\\\\\n",
    "\\end{bmatrix}\n",
    "\\end{equation}\n",
    "\n",
    "Por otro lado, para calcular la derivada del jacobiano solo tenemos en cuenta las filas que hacen referencia a las ecuaciones de las coordenadas independientes, ya que la última que añadimos para poder realizar los cálculos era adicional. Teniendo en cuenta esto, la derivada del jacobiano sería:\n",
    "\n",
    "1. $Si ~~ \\cos (θ) < \\frac{1}{\\sqrt{2}}$\n",
    "\n",
    "\\begin{equation}\n",
    "\\mathbf{\\dot{\\Phi}_q} = \n",
    "\\begin{bmatrix}\n",
    "2\\dot{X}_1 & 2\\dot{Y}_1 & 0 & 0 & 0  \\\\\n",
    "-2(\\dot{X}_2-\\dot{X}_1) & -2(\\dot{Y}_2-\\dot{Y}_1) & 2(\\dot{X}_2-\\dot{X}_1) & 2(\\dot{Y}_2-\\dot{Y}_1) & 0\\\\\n",
    "0 & 0 & \\dot{Y}_C-\\dot{Y}_B & \\dot{X}_B-\\dot{X}_C & 0  \\\\\n",
    "1 & 0 & 0 & 0 & \\dot{\\theta}L_1\\cos(\\theta)\\\n",
    "\\end{bmatrix}\n",
    "\\end{equation}\n",
    "\n",
    "\n",
    "2. $Si ~~ \\cos (θ) > \\frac{1}{\\sqrt{2}}$\n",
    "\n",
    "\\begin{equation}\n",
    "\\mathbf{\\dot{\\Phi}_q} = \n",
    "\\begin{bmatrix}\n",
    "2\\dot{X}_1 & 2\\dot{Y}_1 & 0 & 0 & 0  \\\\\n",
    "-2(\\dot{X}_2-\\dot{X}_1) & -2(\\dot{Y}_2-\\dot{Y}_1) & 2(\\dot{X}_2-\\dot{X}_1) & 2(\\dot{Y}_2-\\dot{Y}_1) & 0\\\\\n",
    "0 & 0 & \\dot{Y}_C-\\dot{Y}_B & \\dot{X}_B-\\dot{X}_C & 0  \\\\\n",
    "0 & 1 & 0 & 0 & \\dot{\\theta}L_1\\sin(theta)\\\\\n",
    "\\end{bmatrix}\n",
    "\\end{equation}\n",
    "\n",
    "\n",
    "\n",
    "Como ya tenemos $\\dot{\\Phi}_q$ y $\\dot{q}$, podemos calcular $b$. La última fila que añadimos es el valor de la aceleración angular, dato que sabemos de antemano. \n",
    "\n",
    "\n",
    "1. $Si ~~ \\cos (\\theta) < \\frac{1}{\\sqrt{2}}$\n",
    "\n",
    "\\begin{equation}\n",
    "\\mathbf{b} = \n",
    "\\begin{bmatrix}\n",
    "2\\dot{X}_1^2 + 2\\dot{Y}_1^2 \\\\\n",
    "-2\\dot{X}_1(\\dot{X}_2-\\dot{X}_1) & -2\\dot{Y}_1(\\dot{Y}_2-\\dot{Y}_1) & 2\\dot{X}_2(\\dot{X}_2-\\dot{X}_1) & 2\\dot{Y}_2(\\dot{Y}_2-\\dot{Y}_1) & 0\\\\\n",
    "2\\dot{X}_2^2 + 2\\dot{Y}_2^2  \\\\\n",
    "\\dot{\\theta}^2L_1\\cos(\\theta)\\\\\n",
    "1\\\\\n",
    "\\end{bmatrix}\n",
    "\\end{equation}\n",
    "\n",
    "2. $Si ~~ \\cos (\\theta) > \\frac{1}{\\sqrt{2}}$\n",
    "\n",
    "\\begin{equation}\n",
    "\\mathbf{b} = \n",
    "\\begin{bmatrix}\n",
    "2\\dot{X}_1^2 + 2\\dot{Y}_1^2 \\\\\n",
    "-2\\dot{X}_1(\\dot{X}_2-\\dot{X}_1) & -2\\dot{Y}_1(\\dot{Y}_2-\\dot{Y}_1) & 2\\dot{X}_2(\\dot{X}_2-\\dot{X}_1) & 2\\dot{Y}_2(\\dot{Y}_2-\\dot{Y}_1) & 0\\\\\n",
    "2\\dot{X}_2^2 + 2\\dot{Y}_2^2  \\\\\n",
    "\\dot{\\theta}^2L_1\\sin(\\theta)\\\\\n",
    "1\\\\\n",
    "\\end{bmatrix}\n",
    "\\end{equation}"
   ]
  },
  {
   "cell_type": "code",
   "execution_count": 3,
   "metadata": {},
   "outputs": [
    {
     "data": {
      "text/plain": [
       "array([[-0.21751417],\n",
       "       [ 0.39815702],\n",
       "       [-0.31582383],\n",
       "       [-0.        ],\n",
       "       [-1.        ]])"
      ]
     },
     "execution_count": 3,
     "metadata": {},
     "output_type": "execute_result"
    }
   ],
   "source": [
    "#PASO 3\n",
    "\n",
    "def resuelve_prob_aceleracion (q,qp, qpp, meca):\n",
    "    \n",
    "    #Extraer las posiciones\n",
    "    X1 = q[0]\n",
    "    Y1 = q[1]\n",
    "    X2 = q[2]\n",
    "    Y2 = q[3]\n",
    "    theta = q[4]\n",
    "    #Extraer las velocidades\n",
    "    X1q = qp[0]\n",
    "    Y1q = qp[1]\n",
    "    X2q = qp[2]\n",
    "    Y2q = qp[3]\n",
    "    thetaq = qp[4]\n",
    "    b=qpp\n",
    "    \n",
    "    b[0] = 2*(X1q)**2 + 2*(Y1q)**2\n",
    "    b[1] = -2*X1q*(X2q-X1q) - 2*Y1q*(Y2q-Y1q) + 2*X2q*(X2q-X1q) + 2*Y2q*(Y2q-Y1q)\n",
    "    if (abs(math.cos(theta)) < (math.sqrt(2)/2) ):\n",
    "        b[3] = thetaq**2 * (meca[\"L1\"] * math.cos(theta))\n",
    "    else: \n",
    "        b[3] =  thetaq**2 * (meca[\"L1\"] * math.sin(theta))\n",
    "    \n",
    "    b[4] = 1 #Aceleracion conocida \n",
    "    qpp = np.linalg.solve(-jacob_Phiq(q,meca),b)\n",
    "\n",
    "     \n",
    "    return qpp\n",
    "\n",
    "\n",
    "qpp=np.zeros((5,1))\n",
    "qpp=resuelve_prob_aceleracion(q,qp,qpp,meca)\n",
    "qpp"
   ]
  },
  {
   "cell_type": "markdown",
   "metadata": {},
   "source": [
    "### PASO 4: GRÁFICAS DE VELOCIDADES\n",
    "\n",
    "Vamos a representar por separado la gráfica de la velocidad en cada coordenada $(X_1, ~ Y_1, ~ X_2 ~ e ~ Y_2)$.\n"
   ]
  },
  {
   "cell_type": "code",
   "execution_count": 4,
   "metadata": {},
   "outputs": [
    {
     "name": "stdout",
     "output_type": "stream",
     "text": [
      "VX1=\n",
      "array([-0.00000000e+00,  1.27877459e-01,  2.53655164e-01,  3.75267839e-01,\n",
      "        4.90718597e-01,  5.98111732e-01,  6.95683843e-01,  7.81832791e-01,\n",
      "        8.55144007e-01,  9.14413715e-01,  9.58668706e-01,  9.87182310e-01,\n",
      "        9.99486332e-01,  9.95378739e-01,  9.74926978e-01,  9.38466869e-01,\n",
      "        8.86597087e-01,  8.20169338e-01,  7.40274368e-01,  6.48224057e-01,\n",
      "        5.45529875e-01,  4.33878066e-01,  3.15101957e-01,  1.91151859e-01,\n",
      "        6.40630383e-02, -6.40777009e-02, -1.91166281e-01, -3.15115902e-01,\n",
      "       -4.33891304e-01, -5.45542189e-01, -6.48235245e-01, -7.40284246e-01,\n",
      "       -8.20177744e-01, -8.86603883e-01, -9.38471943e-01, -9.74930247e-01,\n",
      "       -9.95380149e-01, -9.99485861e-01, -9.87179965e-01, -9.58664526e-01,\n",
      "       -9.14407768e-01, -8.55136390e-01, -7.81823630e-01, -6.95673288e-01,\n",
      "       -5.98099957e-01, -4.90705795e-01, -3.75254220e-01, -2.53640952e-01,\n",
      "       -1.27862887e-01,  1.46928204e-05])\n"
     ]
    },
    {
     "data": {
      "image/png": "[encoded data removed]",
      "text/plain": [
       "<Figure size 432x288 with 1 Axes>"
      ]
     },
     "metadata": {
      "needs_background": "light"
     },
     "output_type": "display_data"
    }
   ],
   "source": [
    "#PASO 4: VELOCIDAD DE X1\n",
    "def grafica_velocidad(q,meca):\n",
    "    \n",
    "    th = np.linspace(0,2*3.1416,50)\n",
    "    #print (\"th=\")\n",
    "    #pprint.pprint(th)\n",
    "    VX1 = np.zeros((50,0))\n",
    "    VY1 = np.zeros((50,0))\n",
    "    VX2 = np.zeros((50,0))\n",
    "    VY2 = np.zeros((50,0))\n",
    "    i=0\n",
    "    for t in th:\n",
    "\n",
    "        q[4] = t\n",
    "        \n",
    "        q = resuelve_prob_posicion (q, meca)\n",
    "        qp = np.zeros ((5,1))\n",
    "        #Velocidad del gdl. En una vuelta completa del angulo se cumple angulo=2*Pi*t\n",
    "        qp[4]=1\n",
    "        qp = resuelve_prob_velocidad (q,qp, meca)\n",
    "\n",
    "\n",
    "        VX1 = np.append(VX1, qp[0])\n",
    "        VY1 = np.append(VY1, qp[1])\n",
    "        VX2 = np.append(VX2, qp[2])\n",
    "        VY2 = np.append(VY1, qp[3])\n",
    "        i=i+1\n",
    "      \n",
    "    print (\"VX1=\")\n",
    "    pprint.pprint(VX1)\n",
    " \n",
    "    plt.plot(th,VX1)\n",
    "    plt.xlabel ('Angulo')\n",
    "    plt.ylabel ('Velocidad')\n",
    "    plt.title ('Velocidad de X1')\n",
    "\n",
    "    plt.show()\n",
    "    return \n",
    "\n",
    "grafica_velocidad (q,meca)"
   ]
  },
  {
   "cell_type": "code",
   "execution_count": 7,
   "metadata": {},
   "outputs": [
    {
     "name": "stdout",
     "output_type": "stream",
     "text": [
      "VY1=\n",
      "array([-1.        , -0.99178998, -0.96729471, -0.92691642, -0.87131812,\n",
      "       -0.80141273, -0.7183481 , -0.62348816, -0.51839052, -0.40478088,\n",
      "       -0.28452471, -0.15959664, -0.03204798,  0.09602691,  0.22252503,\n",
      "        0.34536928,  0.46254254,  0.57212084,  0.67230489,  0.76144965,\n",
      "        0.83809138,  0.9009716 ,  0.94905783,  0.98156048,  0.99794585,\n",
      "        0.99794491,  0.98155767,  0.9490532 ,  0.90096523,  0.83808336,\n",
      "        0.76144013,  0.67229401,  0.57210879,  0.46252952,  0.34535549,\n",
      "        0.2225107 ,  0.09601228, -0.03206267, -0.15961114, -0.2845388 ,\n",
      "       -0.40479431, -0.51840308, -0.62349965, -0.71835832, -0.80142151,\n",
      "       -0.87132533, -0.92692193, -0.96729844, -0.99179185, -1.        ])\n"
     ]
    },
    {
     "data": {
      "image/png": "[encoded data removed]",
      "text/plain": [
       "<Figure size 432x288 with 1 Axes>"
      ]
     },
     "metadata": {
      "needs_background": "light"
     },
     "output_type": "display_data"
    }
   ],
   "source": [
    "#PASO 4: VELOCIDAD DE Y1\n",
    "def grafica_velocidad(q,meca):\n",
    "    \n",
    "    th = np.linspace(0,2*3.1416,50)\n",
    "    #print (\"th=\")\n",
    "    #pprint.pprint(th)\n",
    "\n",
    "    VY1 = np.zeros((50,0))\n",
    "\n",
    "    \n",
    "    i=0\n",
    "    for t in th:\n",
    "\n",
    "        q[4] = t\n",
    "        \n",
    "        q=resuelve_prob_posicion (q,meca)\n",
    "        qp = np.zeros((5,1))\n",
    "\n",
    "        qp[4] = 1  #inicializar qp en 0 con qp[4] = 1 rad/s\n",
    "\n",
    "        qp = resuelve_prob_velocidad(q,qp, meca)\n",
    "\n",
    "\n",
    "        VY1 = np.append(VY1, qp[1])\n",
    "\n",
    "        i=i+1\n",
    "      \n",
    "    print (\"VY1=\")\n",
    "    pprint.pprint(VY1)\n",
    " \n",
    "    plt.plot(th,VY1)\n",
    "    plt.xlabel ('Angulo')\n",
    "    plt.ylabel ('Velocidad')\n",
    "    plt.title ('Velocidad de Y1')\n",
    "\n",
    "    plt.show()\n",
    "    return \n",
    "\n",
    "grafica_velocidad (q,meca)"
   ]
  },
  {
   "cell_type": "code",
   "execution_count": 8,
   "metadata": {},
   "outputs": [
    {
     "name": "stdout",
     "output_type": "stream",
     "text": [
      "VX2=\n",
      "array([ 0.00000000e+00,  1.91421272e-01,  3.77333544e-01,  5.52333660e-01,\n",
      "        7.11245622e-01,  8.49273159e-01,  9.62198408e-01,  1.04663593e+00,\n",
      "        1.10033633e+00,  1.12250550e+00,  1.11406688e+00,  1.07776070e+00,\n",
      "        1.01797657e+00,  9.40278403e-01,  8.50694430e-01,  7.54950220e-01,\n",
      "        6.57848340e-01,  5.62926161e-01,  4.72404433e-01,  3.87346561e-01,\n",
      "        3.07917854e-01,  2.33653849e-01,  1.63685911e-01,  9.69068642e-02,\n",
      "        3.20809052e-02, -3.20882705e-02, -9.69143797e-02, -1.63693723e-01,\n",
      "       -2.33662093e-01, -3.07926645e-01, -3.87355981e-01, -4.72414503e-01,\n",
      "       -5.62936816e-01, -6.57859396e-01, -7.54961349e-01, -8.50705150e-01,\n",
      "       -9.40288102e-01, -1.01798456e+00, -1.07776630e+00, -1.11406951e+00,\n",
      "       -1.12250475e+00, -1.10033198e+00, -1.04662799e+00, -9.62187046e-01,\n",
      "       -8.49258708e-01, -7.11228523e-01, -5.52314434e-01, -3.77312765e-01,\n",
      "       -1.91399549e-01,  2.20392306e-05])\n"
     ]
    },
    {
     "data": {
      "image/png": "[encoded data removed]",
      "text/plain": [
       "<Figure size 432x288 with 1 Axes>"
      ]
     },
     "metadata": {
      "needs_background": "light"
     },
     "output_type": "display_data"
    }
   ],
   "source": [
    "#PASO 4: VELOCIDAD DE X2\n",
    "def grafica_velocidad(q,meca):\n",
    "    \n",
    "    th = np.linspace(0,2*3.1416,50)\n",
    "    #print (\"th=\")\n",
    "    #pprint.pprint(th)\n",
    "\n",
    "    VX2 = np.zeros((50,0))\n",
    "\n",
    "    \n",
    "    i=0\n",
    "    for t in th:\n",
    "\n",
    "        q[4] = t\n",
    "        \n",
    "        q = resuelve_prob_posicion (q,meca)\n",
    "        qp = np.zeros((5,1))\n",
    "\n",
    "        qp[4] = 1  #inicializar qp en 0 con qp[4] = 1 rad/s\n",
    "\n",
    "        qp = resuelve_prob_velocidad(q,qp,meca)\n",
    "\n",
    "\n",
    "        VX2 = np.append(VX2, qp[2])\n",
    "\n",
    "        i=i+1\n",
    "      \n",
    "    print (\"VX2=\")\n",
    "    pprint.pprint(VX2)\n",
    " \n",
    "    plt.plot(th,VX2)\n",
    "    plt.xlabel ('Angulo')\n",
    "    plt.ylabel ('Velocidad')\n",
    "    plt.title ('Velocidad de X2')\n",
    "\n",
    "    plt.show()\n",
    "    return \n",
    "\n",
    "grafica_velocidad (q,meca)"
   ]
  },
  {
   "cell_type": "code",
   "execution_count": 9,
   "metadata": {},
   "outputs": [
    {
     "name": "stdout",
     "output_type": "stream",
     "text": [
      "VY2=\n",
      "array([0., 0., 0., 0., 0., 0., 0., 0., 0., 0., 0., 0., 0., 0., 0., 0., 0.,\n",
      "       0., 0., 0., 0., 0., 0., 0., 0., 0., 0., 0., 0., 0., 0., 0., 0., 0.,\n",
      "       0., 0., 0., 0., 0., 0., 0., 0., 0., 0., 0., 0., 0., 0., 0., 0.])\n"
     ]
    },
    {
     "data": {
      "image/png": "[encoded data removed]",
      "text/plain": [
       "<Figure size 432x288 with 1 Axes>"
      ]
     },
     "metadata": {
      "needs_background": "light"
     },
     "output_type": "display_data"
    }
   ],
   "source": [
    "#PASO 4: VELOCIDAD DE Y2\n",
    "def grafica_velocidad(q,meca):\n",
    "    \n",
    "    th = np.linspace(0,2*3.1416,50)\n",
    "    #print (\"th=\")\n",
    "    #pprint.pprint(th)\n",
    "\n",
    "    VY2 = np.zeros((50,0))\n",
    "\n",
    "    \n",
    "    i=0\n",
    "    for t in th:\n",
    "\n",
    "        q[4] = t\n",
    "        \n",
    "        q = resuelve_prob_posicion (q,meca)\n",
    "        qp = np.zeros((5,1))\n",
    "\n",
    "        qp[4] = 1  #inicializar qp en 0 con qp[4] = 1 rad/s\n",
    "\n",
    "        qp = resuelve_prob_velocidad(q,qp, meca)\n",
    "\n",
    "\n",
    "        VY2 = np.append(VY2, qp[3])\n",
    "\n",
    "        i=i+1\n",
    "      \n",
    "    print (\"VY2=\")\n",
    "    pprint.pprint(VY2)\n",
    " \n",
    "    plt.plot(th,VY2)\n",
    "    plt.xlabel ('Angulo')\n",
    "    plt.ylabel ('Velocidad')\n",
    "    plt.title ('Velocidad de Y2')\n",
    "\n",
    "    plt.show()\n",
    "    return \n",
    "\n",
    "grafica_velocidad (q,meca)"
   ]
  },
  {
   "cell_type": "markdown",
   "metadata": {},
   "source": [
    "### PASO 5: GRÁFICAS ACELERACIONES\n",
    "\n",
    "Haremos el mismo procedimiento que para la velocidad, representando en celdas separadas la aceleración de cada coordenada."
   ]
  },
  {
   "cell_type": "code",
   "execution_count": 14,
   "metadata": {},
   "outputs": [
    {
     "name": "stdout",
     "output_type": "stream",
     "text": [
      "AX1=\n",
      "array([-1.        , -1.11966743, -1.22094987, -1.30218426, -1.36203671,\n",
      "       -1.39952446, -1.41403194, -1.40532095, -1.37353452, -1.31919459,\n",
      "       -1.24319342, -1.14677895, -1.03153431, -0.89935183, -0.75240195,\n",
      "       -0.59309759, -0.42405454, -0.2480485 , -0.06796948,  0.11322559,\n",
      "        0.2925615 ,  0.46709353,  0.63395587,  0.79040862,  0.93388282,\n",
      "        1.06202261,  1.17272395,  1.2641691 ,  1.33485653,  1.38362555,\n",
      "        1.40967537,  1.41257826,  1.39228653,  1.3491334 ,  1.28382743,\n",
      "        1.19744095,  1.09139243,  0.96742319,  0.82756882,  0.67412573,\n",
      "        0.50961346,  0.33673331,  0.15832398, -0.02268503, -0.20332156,\n",
      "       -0.38061953, -0.55166771, -0.71365749, -0.86392897, -1.00001469])\n"
     ]
    },
    {
     "data": {
      "image/png": "[encoded data removed]",
      "text/plain": [
       "<Figure size 432x288 with 1 Axes>"
      ]
     },
     "metadata": {
      "needs_background": "light"
     },
     "output_type": "display_data"
    }
   ],
   "source": [
    "#PASO 5: ACELERACION DE X1\n",
    "\n",
    "def grafica_aceleracion(q,meca):\n",
    "    \n",
    "    th = np.linspace(0,2*3.1416,50)\n",
    " \n",
    "    \n",
    "    AX1 = np.zeros((50,0))\n",
    "\n",
    "    i=0\n",
    "    for t in th:\n",
    "\n",
    "        \n",
    "        q[4] = t\n",
    "        q = resuelve_prob_posicion (q,meca)\n",
    "        \n",
    "        qp = np.zeros((5,1))\n",
    "        qp[4] = 1  #inicializar qp en 0 con qp[4] = 1 rad/s\n",
    "        qp = resuelve_prob_velocidad(q, qp, meca)\n",
    "        \n",
    "        qpp = np.zeros((5,1))\n",
    "        qpp[4] = 1  #inicializar qp en 0 con qpp[4] = 1 rad/s**2\n",
    "        qpp = resuelve_prob_aceleracion(q,qp, qpp, meca)\n",
    "        \n",
    "        \n",
    "        AX1 = np.append(AX1, qpp[0])\n",
    "\n",
    "        i=i+1\n",
    "      \n",
    "    print (\"AX1=\")\n",
    "    pprint.pprint(AX1)\t\n",
    " \n",
    "    plt.plot(th,AX1)\n",
    "    plt.xlabel ('Angulo')\n",
    "    plt.ylabel ('Aceleracion')\n",
    "    plt.title ('Aceleracion (X1)')\t\n",
    "\n",
    "    plt.show()\n",
    "    return \n",
    "\n",
    "grafica_aceleracion (q,meca)\n"
   ]
  },
  {
   "cell_type": "code",
   "execution_count": 15,
   "metadata": {},
   "outputs": [
    {
     "name": "stdout",
     "output_type": "stream",
     "text": [
      "AY1=\n",
      "array([ 1.        ,  0.86391252,  0.71363955,  0.55164858,  0.38059952,\n",
      "        0.20330099,  0.02266426, -0.15834463, -0.33675349, -0.50963284,\n",
      "       -0.67414399, -0.82758567, -0.96743835, -1.09140564, -1.197452  ,\n",
      "       -1.28383614, -1.34913963, -1.39229018, -1.41257925, -1.40967371,\n",
      "       -1.38362125, -1.33484967, -1.26415978, -1.17271233, -1.06200889,\n",
      "       -0.93386721, -0.79039139, -0.63393729, -0.46707392, -0.29254117,\n",
      "       -0.11320488,  0.06799024,  0.24806895,  0.42407437,  0.59311646,\n",
      "        0.75241955,  0.89936787,  1.03154853,  1.14679111,  1.24320332,\n",
      "        1.31920208,  1.37353947,  1.40532328,  1.41403161,  1.39952147,\n",
      "        1.36203112,  1.30217615,  1.22093939,  1.11965474,  0.99998531])\n"
     ]
    },
    {
     "data": {
      "image/png": "[encoded data removed]",
      "text/plain": [
       "<Figure size 432x288 with 1 Axes>"
      ]
     },
     "metadata": {
      "needs_background": "light"
     },
     "output_type": "display_data"
    }
   ],
   "source": [
    "#PASO 5: ACELERACION DE Y1\n",
    "\n",
    "def grafica_aceleracion(q,meca):\n",
    "    \n",
    "    th = np.linspace(0,2*3.1416,50)\n",
    " \n",
    "    \n",
    "    AY1 = np.zeros((50,0))\n",
    "\n",
    "    i=0\n",
    "    for t in th:\n",
    "\n",
    "        q[4] = t\n",
    "        q = resuelve_prob_posicion (q,meca)\n",
    "        \n",
    "        qp = np.zeros((5,1))\n",
    "        qp[4] = 1  #inicializar qp en 0 con qp[4] = 1 rad/s\n",
    "        qp = resuelve_prob_velocidad(q, qp, meca)\n",
    "        \n",
    "        qpp = np.zeros((5,1))\n",
    "        qpp[4] = 1  #inicializar qp en 0 con qpp[4] = 1 rad/s**2\n",
    "        qpp = resuelve_prob_aceleracion(q,qp, qpp, meca)\n",
    "        \n",
    "        \n",
    "        AY1 = np.append(AY1, qpp[1])\n",
    "\n",
    "        i=i+1\n",
    "      \n",
    "    print (\"AY1=\")\n",
    "    pprint.pprint(AY1)\t\n",
    " \n",
    "    plt.plot(th,AY1)\n",
    "    plt.xlabel ('Angulo')\n",
    "    plt.ylabel ('Aceleracion')\n",
    "    plt.title ('Aceleracion (Y1)')\t\n",
    "\n",
    "    plt.show()\n",
    "    return \n",
    "\n",
    "grafica_aceleracion (q,meca)"
   ]
  },
  {
   "cell_type": "code",
   "execution_count": 16,
   "metadata": {},
   "outputs": [
    {
     "name": "stdout",
     "output_type": "stream",
     "text": [
      "AX2=\n",
      "array([-1.5       , -1.66987331, -1.79154443, -1.86087837, -1.87501466,\n",
      "       -1.83282475, -1.73551832, -1.58733401, -1.396143  , -1.17365994,\n",
      "       -0.93487648, -0.6964468 , -0.4741562 , -0.28016803, -0.12107542,\n",
      "        0.00248058,  0.09463054,  0.16224671,  0.21295674,  0.25377343,\n",
      "        0.29045674,  0.32742865,  0.36798494,  0.41459975,  0.46920274,\n",
      "        0.5333725 ,  0.60842274,  0.69536744,  0.79474845,  0.90630588,\n",
      "        1.02848105,  1.15778062,  1.28811371,  1.41034032,  1.51239103,\n",
      "        1.58031873,  1.60038788,  1.56178889,  1.45905914,  1.29323488,\n",
      "        1.07132283,  0.80449701,  0.50590233,  0.1888416 , -0.13431537,\n",
      "       -0.45255922, -0.75624468, -1.03690789, -1.28705742, -1.50002204])\n"
     ]
    },
    {
     "data": {
      "image/png": "[encoded data removed]",
      "text/plain": [
       "<Figure size 432x288 with 1 Axes>"
      ]
     },
     "metadata": {
      "needs_background": "light"
     },
     "output_type": "display_data"
    }
   ],
   "source": [
    "#PASO 5: ACELERACION DE X2\n",
    "\n",
    "def grafica_aceleracion(q,meca):\n",
    "    \n",
    "    th = np.linspace(0,2*3.1416,50)\n",
    " \n",
    "    \n",
    "    AX2 = np.zeros((50,0))\n",
    "\n",
    "    i=0\n",
    "    for t in th:\n",
    "\n",
    "        \n",
    "        q[4] = t\n",
    "        q = resuelve_prob_posicion (q,meca)\n",
    "        \n",
    "        qp = np.zeros((5,1))\n",
    "        qp[4] = 1  #inicializar qp en 0 con qp[4] = 1 rad/s\n",
    "        qp = resuelve_prob_velocidad(q, qp, meca)\n",
    "        \n",
    "        qpp = np.zeros((5,1))\n",
    "        qpp[4] = 1  #inicializar qp en 0 con qpp[4] = 1 rad/s**2\n",
    "        qpp = resuelve_prob_aceleracion(q,qp, qpp, meca)\n",
    "        \n",
    "        \n",
    "        AX2 = np.append(AX2, qpp[2])\n",
    "\n",
    "        i=i+1\n",
    "      \n",
    "    print (\"AX2=\")\n",
    "    pprint.pprint(AX2)\t\n",
    " \n",
    "    plt.plot(th,AX2)\n",
    "    plt.xlabel ('Angulo')\n",
    "    plt.ylabel ('Aceleracion')\n",
    "    plt.title ('Aceleracion (X2)')\t\n",
    "\n",
    "    plt.show()\n",
    "    return \n",
    "\n",
    "grafica_aceleracion (q,meca)"
   ]
  },
  {
   "cell_type": "code",
   "execution_count": 17,
   "metadata": {},
   "outputs": [
    {
     "name": "stdout",
     "output_type": "stream",
     "text": [
      "AY2=\n",
      "array([-0., -0., -0., -0., -0., -0., -0., -0., -0., -0., -0., -0., -0.,\n",
      "       -0., -0., -0., -0., -0., -0., -0., -0., -0., -0., -0., -0., -0.,\n",
      "       -0., -0., -0., -0., -0., -0., -0., -0., -0., -0., -0., -0., -0.,\n",
      "       -0., -0., -0., -0., -0., -0., -0., -0., -0., -0., -0.])\n"
     ]
    },
    {
     "data": {
      "image/png": "[encoded data removed]",
      "text/plain": [
       "<Figure size 432x288 with 1 Axes>"
      ]
     },
     "metadata": {
      "needs_background": "light"
     },
     "output_type": "display_data"
    }
   ],
   "source": [
    "#PASO 5: ACELERACION DE Y2\n",
    "\n",
    "def grafica_aceleracion(q,meca):\n",
    "    \n",
    "    th = np.linspace(0,2*3.1416,50)\n",
    " \n",
    "    \n",
    "    AY2 = np.zeros((50,0))\n",
    "\n",
    "    i=0\n",
    "    for t in th:\n",
    "\n",
    "        q[4] = t\n",
    "        q = resuelve_prob_posicion (q,meca)\n",
    "        \n",
    "        qp = np.zeros((5,1))\n",
    "        qp[4] = 1  #inicializar qp en 0 con qp[4] = 1 rad/s\n",
    "        qp = resuelve_prob_velocidad(q, qp, meca)\n",
    "        \n",
    "        qpp = np.zeros((5,1))\n",
    "        qpp[4] = 1  #inicializar qp en 0 con qpp[4] = 1 rad/s**2\n",
    "        qpp = resuelve_prob_aceleracion(q,qp, qpp, meca)\n",
    "        \n",
    "        AY2 = np.append(AY2, qpp[3])\n",
    "\n",
    "        i=i+1\n",
    "      \n",
    "    print (\"AY2=\")\n",
    "    pprint.pprint(AY2)\t\n",
    " \n",
    "    plt.plot(th,AY2)\n",
    "    plt.xlabel ('Angulo')\n",
    "    plt.ylabel ('Aceleracion')\n",
    "    plt.title ('Aceleracion (Y2)')\t\n",
    "\n",
    "    plt.show()\n",
    "    return \n",
    "\n",
    "grafica_aceleracion (q,meca)"
   ]
  }
 ],
 "metadata": {
  "kernelspec": {
   "display_name": "Python 3",
   "language": "python",
   "name": "python3"
  },
  "language_info": {
   "codemirror_mode": {
    "name": "ipython",
    "version": 3
   },
   "file_extension": ".py",
   "mimetype": "text/x-python",
   "name": "python",
   "nbconvert_exporter": "python",
   "pygments_lexer": "ipython3",
   "version": "3.7.0"
  }
 },
 "nbformat": 4,
 "nbformat_minor": 2
}
