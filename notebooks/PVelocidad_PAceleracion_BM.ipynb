{
 "cells": [
  {
   "cell_type": "markdown",
   "metadata": {},
   "source": [
    "# MECANISMO BIELA-MANIVELA\n",
    "\n",
    "## PROBLEMAS VELOCIDAD Y ACELERACIÓN"
   ]
  },
  {
   "cell_type": "markdown",
   "metadata": {},
   "source": [
    "### PASO 1: MATRIZ JACOBIANA \n",
    "\n",
    "Para resolver el problema velocidad, necesitamos otra vez la matriz jacobiana. El método de construcción aparece detallado en el notebook Problema_Posición_4B, por lo que para este caso copiaremos el código de los pasos realizados para poder conseguirla."
   ]
  },
  {
   "cell_type": "code",
   "execution_count": 1,
   "metadata": {},
   "outputs": [
    {
     "name": "stdout",
     "output_type": "stream",
     "text": [
      "BIELA-MANIVELA\n",
      "=============================\n",
      "Introduce longitud L1:1\n",
      "Introduce longitud L2:2\n",
      "Introduce angulo inicial theta:0.5\n",
      "Introduce coordenada en x del punto B:2\n",
      "Introduce coordenada en x del punto C:3\n",
      "Introduce coordenada en y del punto B:0\n",
      "Introduce coordenada en y del punto c: 0\n",
      "q: [[0.1]\n",
      " [0.2]\n",
      " [1. ]\n",
      " [0.2]\n",
      " [0.5]]\n"
     ]
    }
   ],
   "source": [
    "import numpy as np\n",
    "import math as math\n",
    "import array as arr\n",
    "import pprint  # para depurar\n",
    "import matplotlib.pyplot as plt  #Para graficas\n",
    "import matplotlib.animation as animation\n",
    "import scipy.integrate as integrate \n",
    "import os\n",
    "from time import sleep\n",
    "#%matplotlib inline (Para notebook)\n",
    "\n",
    "\n",
    "\n",
    "print ('BIELA-MANIVELA')\n",
    "print ('=============================')\n",
    "# Lectura de datos por teclado\n",
    "\n",
    "meca = {} # dictionary vacio, con propiedades de mecanismo\n",
    "\n",
    "meca[\"L1\"] = float (input ('Introduce longitud L1:'))\n",
    "meca[\"L2\"] = float (input ('Introduce longitud L2:'))\n",
    "meca[\"theta\"] = float (input ('Introduce angulo inicial theta:')) #En rad\n",
    "meca[\"XB\"] = float (input ('Introduce coordenada en x del punto B:'))\n",
    "meca[\"XC\"] = float (input ('Introduce coordenada en x del punto C:'))\n",
    "meca[\"XA\"] = 0\n",
    "meca[\"YA\"] = 0\n",
    "meca[\"YB\"] = float (input ('Introduce coordenada en y del punto B:'))\n",
    "meca[\"YC\"] = float (input ('Introduce coordenada en y del punto c: '))\n",
    "\n",
    "# Defino posicion inicial:\n",
    "q = np.array ([[0.1], [0.2], [1], [0.2], [meca[\"theta\"]]])\n",
    "print('q: ' + str(q))\n",
    "\n",
    "# JACOBIANO\n",
    "def jacob_Phiq(q,meca):\n",
    "    #Inicializa a cero la matriz jacobiana\n",
    "    Jacob = np.zeros((5,5))\n",
    "\n",
    "    #Extraer coordenadas\n",
    "\n",
    "    X1 = q[0]\n",
    "    Y1 = q[1]\n",
    "    X2 = q[2]\n",
    "    Y2 = q[3]\n",
    "    theta = q[4]\n",
    "\n",
    "    #Montar matriz\n",
    "\n",
    "    Jacob[0,0] = 2*X1\n",
    "    Jacob[0,1] = 2*Y1\n",
    "    Jacob[1,0] = -2*(X2-X1)\n",
    "    Jacob[1,1] = -2*(Y2-Y1)\n",
    "    Jacob[1,2] = 2*(X2-X1)\n",
    "    Jacob[1,3] = 2*(Y2-Y1)\n",
    "    Jacob[2,2] = meca[\"YB\"] - meca[\"YC\"]\n",
    "    Jacob[2,3] = meca[\"XC\"] - meca[\"XB\"]\n",
    "\n",
    "    if (abs(math.cos(theta)) < (math.sqrt(2)/2) ):\n",
    "        Jacob[3,4] = -meca[\"L1\"]*math.sin(theta)\n",
    "        Jacob[3,0] = 1\n",
    "    else:\n",
    "        Jacob[3,4] = meca[\"L1\"]*math.cos(theta)\n",
    "        Jacob[3,1] = 1\n",
    "\n",
    " \n",
    "    Jacob[4,4] = 1\n",
    "\n",
    "    return Jacob\n",
    "\n",
    "\n",
    "def Phi (q,meca):\n",
    "    #Inicializa a cero Phi\n",
    "    Phi = np.zeros((5,1))\n",
    "\n",
    "    #Extraer coordenadas\n",
    "    X1 = q[0]\n",
    "    Y1 = q[1]\n",
    "    X2 = q[2]\n",
    "    Y2 = q[3]\n",
    "    theta = q[4]\n",
    "\n",
    "    Phi[0] = X1**2 + Y1**2 - meca[\"L1\"]**2\n",
    "    Phi[1] = (X2-X1)**2 + (Y2-Y1)**2 -meca[\"L2\"]**2\n",
    "    Phi[2] = (meca[\"XC\"] - meca[\"XB\"])*(Y2-meca[\"YB\"]) - (meca[\"YC\"]-meca[\"YB\"])*(X2-meca[\"XB\"])\n",
    "\n",
    "\n",
    "    if (abs(math.cos(theta)) < (math.sqrt(2)/2) ):\n",
    "        Phi[3] = X1-meca[\"L1\"]*math.cos(theta)\n",
    "    else: \n",
    "        Phi[3] = Y1-meca[\"L1\"]*math.sin(theta)\n",
    "    \n",
    "    \n",
    "    \n",
    "    return Phi\n",
    "\n",
    "\n",
    "\n",
    "def resuelve_prob_posicion(q_init, meca):\n",
    "    #Inicializacion de variables\n",
    "    error = 1e10\n",
    "    tolerancia = 1e-10\n",
    "\n",
    "    #Inicializacion en cero de deltaQ, fi y q\n",
    "    deltaQ = np.zeros ((5,1))\n",
    "    q = q_init\n",
    "    i=0\n",
    "\n",
    "    # Iteraciones hasta conseguir que el error sea menor que la tolerancia\n",
    "\n",
    "    while (error > tolerancia and i<=100):\n",
    "        #print(\"q=\")\n",
    "        #pprint.pprint(q)\n",
    "\n",
    "\n",
    "        #Extraer las coordenadas\n",
    "        X1 = q[0]\n",
    "        Y1 = q[1]\n",
    "        X2 = q[2]\n",
    "        Y2 = q[3]\n",
    "        theta = q[4]\n",
    "       \n",
    "        fi=Phi(q,meca)\n",
    "      \n",
    "        J = jacob_Phiq(q,meca)\n",
    "\n",
    "        \n",
    "        deltaQ = np.linalg.solve(J,-fi)\n",
    "        q = q + deltaQ\n",
    "        error = np.linalg.norm(deltaQ)  # El error es el modulo del vector\n",
    "        i=i+1\n",
    "        \n",
    "    if (error > tolerancia):\n",
    "        raise Exception ('No se puede alcanzar la posición')\n",
    "        \n",
    "    return q\n",
    "\n",
    "q = resuelve_prob_posicion(q,meca)\n"
   ]
  },
  {
   "cell_type": "markdown",
   "metadata": {},
   "source": [
    "### PASO 2: PROBLEMA VELOCIDAD\n",
    "\n",
    "Consiste en determinar las velocidades de todas las variables del mecanismo una vez sabemos su posición $q$ y la velocidad de los grados de libertad. \n",
    "\n",
    "Partimos de la ecuación:\n",
    "\n",
    "$\\Phi_q  =0 $\n",
    "\n",
    "Derivando se obtiene:\n",
    "\n",
    "$\\Phi_q \\dot{q} + \\Phi_t = 0$\n",
    "\n",
    "Siendo $\\dot{q}$ el vector velocidad, $\\Phi_q$ el jacobiano y $\\Phi_t$ la derivada parcial de las ecuaciones de restricción respecto al tiempo. Para las ecuaciones de sólido rígido el valor de esta derivada es $0$. Solo tendría un valor no nulo la correspondiente al ángulo, que en ese caso tendría la velocidad que nosotros le indiquemos. \n",
    "\n",
    "De este modo la expresión quedaría:\n",
    "\n",
    "$\\Phi_q \\dot{q} = -\\Phi_t$\n",
    "\n",
    "Este sistema de ecuaciones tiene infinitas soluciones y por tanto hay que ampliar añadiendo un dato conocido de velocidad, lo que se hace añadiendo una fila a la matriz de coeficientes del lado izquierdo y un dato a la columna del lado derecho de la ecuación por cada grado de libertad.\n",
    "\n",
    "De esta forma llegamos a un sistema de ecuaciones lineal matricial de la forma:\n",
    "\n",
    "$\\mathbf{A} \\mathbf{x} = \\mathbf{b}$\n",
    "\n",
    "Habría que multiplicar en ambas partes de la igualdad por la $A$ invertida en el lado izquierdo, del mismo modo que se hizo en el problema de posición. De esta manera quedaría:\n",
    "\n",
    "\n",
    "\n",
    "$x = -A^{-1} b$"
   ]
  },
  {
   "cell_type": "code",
   "execution_count": 2,
   "metadata": {},
   "outputs": [
    {
     "data": {
      "text/plain": [
       "array([[ 0.47942554],\n",
       "       [-0.87758256],\n",
       "       [ 0.696111  ],\n",
       "       [ 0.        ],\n",
       "       [ 1.        ]])"
      ]
     },
     "execution_count": 2,
     "metadata": {},
     "output_type": "execute_result"
    }
   ],
   "source": [
    "#PASO 2\n",
    "\n",
    "def resuelve_prob_velocidad(q,meca):\n",
    "    \n",
    "    b = np.zeros ((5,1))\n",
    "    #Velocidad del gdl. En una vuelta completa del angulo se cumple angulo=2*Pi*t\n",
    "    b[4]=1\n",
    "    qp = np.linalg.solve(jacob_Phiq(q,meca),b)\n",
    "    #print (\"qp=\")\n",
    "    #pprint.pprint(qp)\n",
    " \n",
    "    return qp\n",
    "\n",
    "resuelve_prob_velocidad (q,meca)"
   ]
  },
  {
   "cell_type": "markdown",
   "metadata": {},
   "source": [
    "### PASO 3: PROBLEMA ACELERACIÓN\n",
    "\n",
    "El problema aceleración trata de determinar las aceleraciones de todas las variables del mecanismo, conociendo la posición$q$, la velocidad $\\dot{q}$ y las aceleraciones de los grados de libertad. \n",
    "\n",
    "Partimos la ecuación que se obtiene tras derivar la ecuación inicial para el problema de velocidad, es decir:\n",
    "\n",
    "$\\Phi_q \\dot{q} + \\Phi_t = 0$\n",
    "\n",
    "Se deriva por segunda vez:\n",
    "\n",
    "$\\dot{\\Phi}_q \\dot{q} + \\Phi_q \\ddot{q} + \\dot{\\Phi}_t = 0$\n",
    "\n",
    "Despejamos $\\Phi_q \\ddot{q}$:\n",
    "\n",
    "$\\Phi_q \\ddot{q} = -\\dot{\\Phi}_t - \\dot{\\Phi}_q  \\dot{q}$\n",
    "\n",
    "\n",
    "Siendo $\\Phi_q$ el jacobiano, $\\ddot{q}$ el vector aceleración, $\\dot{q}$ el vector velocidad, $\\dot{\\Phi}_q$ la derivada del jacobiano respecto al tiempo y $\\dot{\\Phi}_t$ es la derivada de las ecuaciones de restricción con respecto al tiempo, cuyo valor es nulo. Es decir, tendríamos:\n",
    "\n",
    "$\\Phi_q \\ddot{q} = - \\dot{\\Phi}_q  \\dot{q}$\n",
    "\n",
    "Del mismo modo que en el problema velocidad, llamando $b$ al conjunto formado por $\\dot{\\Phi}_q  \\dot{q}$  llegamos a un sistema de ecuaciones lineal matricial:\n",
    "\n",
    "$ \\mathbf{A} \\mathbf{x} = \\mathbf{b}$\n",
    "\n",
    "Y despejando la $x$:\n",
    "\n",
    "$\\mathbf{x} = \\mathbf{A}^{-1} \\mathbf{b}$\n",
    "\n",
    "\n",
    "El vector velocidad será:\n",
    "\n",
    "\\begin{equation}\n",
    "\\mathbf{q_p} = \n",
    "\\begin{bmatrix}\n",
    "\\dot{X}_1 \\\\\n",
    "\\dot{Y}_1 \\\\\n",
    "\\dot{X}_2 \\\\\n",
    "\\dot{Y}_2 \\\\\n",
    "\\dot{\\theta}\\\\\n",
    "\\end{bmatrix}\n",
    "\\end{equation}\n",
    "\n",
    "Por otro lado, para calcular la derivada del jacobiano solo tenemos en cuenta las filas que hacen referencia a las ecuaciones de las coordenadas independientes, ya que la última que añadimos para poder realizar los cálculos era adicional. Teniendo en cuenta esto, la derivada del jacobiano sería:\n",
    "\n",
    "1. $Si ~~ \\cos (θ) < \\frac{1}{\\sqrt{2}}$\n",
    "\n",
    "\\begin{equation}\n",
    "\\mathbf{\\dot{\\Phi}_q} = \n",
    "\\begin{bmatrix}\n",
    "2\\dot{X}_1 & 2\\dot{Y}_1 & 0 & 0 & 0  \\\\\n",
    "-2(\\dot{X}_2-\\dot{X}_1) & -2(\\dot{Y}_2-\\dot{Y}_1) & 2(\\dot{X}_2-\\dot{X}_1) & 2(\\dot{Y}_2-\\dot{Y}_1) & 0\\\\\n",
    "0 & 0 & \\dot{Y}_C-\\dot{Y}_B & \\dot{X}_B-\\dot{X}_C & 0  \\\\\n",
    "1 & 0 & 0 & 0 & \\dot{\\theta}L_1\\cos(\\theta)\\\n",
    "\\end{bmatrix}\n",
    "\\end{equation}\n",
    "\n",
    "\n",
    "2. $Si ~~ \\cos (θ) > \\frac{1}{\\sqrt{2}}$\n",
    "\n",
    "\\begin{equation}\n",
    "\\mathbf{\\dot{\\Phi}_q} = \n",
    "\\begin{bmatrix}\n",
    "2\\dot{X}_1 & 2\\dot{Y}_1 & 0 & 0 & 0  \\\\\n",
    "-2(\\dot{X}_2-\\dot{X}_1) & -2(\\dot{Y}_2-\\dot{Y}_1) & 2(\\dot{X}_2-\\dot{X}_1) & 2(\\dot{Y}_2-\\dot{Y}_1) & 0\\\\\n",
    "0 & 0 & \\dot{Y}_C-\\dot{Y}_B & \\dot{X}_B-\\dot{X}_C & 0  \\\\\n",
    "0 & 1 & 0 & 0 & \\dot{\\theta}L_1\\sin(theta)\\\\\n",
    "\\end{bmatrix}\n",
    "\\end{equation}\n",
    "\n",
    "\n",
    "\n",
    "Como ya tenemos $\\dot{\\Phi}_q$ y $\\dot{q}$, podemos calcular $b$. La última fila que añadimos es el valor de la aceleración angular, dato que sabemos de antemano. \n",
    "\n",
    "\n",
    "1. $Si ~~ \\cos (\\theta) < \\frac{1}{\\sqrt{2}}$\n",
    "\n",
    "\\begin{equation}\n",
    "\\mathbf{b} = \n",
    "\\begin{bmatrix}\n",
    "2\\dot{X}_1^2 + 2\\dot{Y}_1^2 \\\\\n",
    "-2\\dot{X}_1(\\dot{X}_2-\\dot{X}_1) & -2\\dot{Y}_1(\\dot{Y}_2-\\dot{Y}_1) & 2\\dot{X}_2(\\dot{X}_2-\\dot{X}_1) & 2\\dot{Y}_2(\\dot{Y}_2-\\dot{Y}_1) & 0\\\\\n",
    "2\\dot{X}_2^2 + 2\\dot{Y}_2^2  \\\\\n",
    "\\dot{\\theta}^2L_1\\cos(\\theta)\\\\\n",
    "1\\\\\n",
    "\\end{bmatrix}\n",
    "\\end{equation}\n",
    "\n",
    "2. $Si ~~ \\cos (\\theta) > \\frac{1}{\\sqrt{2}}$\n",
    "\n",
    "\\begin{equation}\n",
    "\\mathbf{b} = \n",
    "\\begin{bmatrix}\n",
    "2\\dot{X}_1^2 + 2\\dot{Y}_1^2 \\\\\n",
    "-2\\dot{X}_1(\\dot{X}_2-\\dot{X}_1) & -2\\dot{Y}_1(\\dot{Y}_2-\\dot{Y}_1) & 2\\dot{X}_2(\\dot{X}_2-\\dot{X}_1) & 2\\dot{Y}_2(\\dot{Y}_2-\\dot{Y}_1) & 0\\\\\n",
    "2\\dot{X}_2^2 + 2\\dot{Y}_2^2  \\\\\n",
    "\\dot{\\theta}^2L_1\\sin(\\theta)\\\\\n",
    "1\\\\\n",
    "\\end{bmatrix}\n",
    "\\end{equation}"
   ]
  },
  {
   "cell_type": "code",
   "execution_count": 3,
   "metadata": {},
   "outputs": [
    {
     "data": {
      "text/plain": [
       "array([[-1.3570081 ],\n",
       "       [ 0.39815702],\n",
       "       [-1.87613915],\n",
       "       [-0.        ],\n",
       "       [-1.        ]])"
      ]
     },
     "execution_count": 3,
     "metadata": {},
     "output_type": "execute_result"
    }
   ],
   "source": [
    "#PASO 3\n",
    "\n",
    "def resuelve_prob_aceleracion (q,meca):\n",
    "\n",
    "    b=np.zeros ((5,1))\n",
    "    qp = resuelve_prob_velocidad (q,meca)\n",
    "\n",
    "    #Extraer las posiciones\n",
    "    X1 = q[0]\n",
    "    Y1 = q[1]\n",
    "    X2 = q[2]\n",
    "    Y2 = q[3]\n",
    "    theta = q[4]\n",
    "    #Extraer las velocidades\n",
    "    X1q = qp[0]\n",
    "    Y1q = qp[1]\n",
    "    X2q = qp[2]\n",
    "    Y2q = qp[3]\n",
    "    thetaq = qp[4]\n",
    "    \n",
    "    b[0] = 2*(X1q)**2 + 2*(Y1q)**2\n",
    "    b[1] = -2*X1q*(X2q-X1q) - 2*Y1q*(Y2q-Y1q) + 2*X2q*(X2q-X1q) + 2*Y2q*(Y2q-Y1q)\n",
    "    if (abs(math.cos(theta)) < (math.sqrt(2)/2) ):\n",
    "        b[3] = thetaq**2 * (meca[\"L1\"] * math.cos(theta))\n",
    "    else: \n",
    "        b[3] =  thetaq**2 * (meca[\"L1\"] * math.sin(theta))\n",
    "    \n",
    "    b[4] = 1 #Aceleracion conocida \n",
    "    qpp = np.linalg.solve(-jacob_Phiq(q,meca),b)\n",
    "\n",
    "     \n",
    "    return qpp\n",
    "\n",
    "resuelve_prob_aceleracion(q, meca)"
   ]
  },
  {
   "cell_type": "markdown",
   "metadata": {},
   "source": [
    "### PASO 4: GRÁFICAS DE VELOCIDADES\n",
    "\n",
    "Vamos a representar por separado la gráfica de la velocidad en cada coordenada $(X_1, ~ Y_1, ~ X_2 ~ e ~ Y_2)$.\n"
   ]
  },
  {
   "cell_type": "code",
   "execution_count": 4,
   "metadata": {},
   "outputs": [
    {
     "name": "stdout",
     "output_type": "stream",
     "text": [
      "VX1=\n",
      "array([ 0.54630249,  0.54181733,  0.52843551,  0.50637675,  0.47600326,\n",
      "        0.43781377,  0.39243535,  0.78183279,  0.85514401,  0.91441372,\n",
      "        0.95866871,  0.98718231,  0.99948633,  0.99537874,  0.97492698,\n",
      "        0.93846687,  0.88659709,  0.82016934,  0.74027437, -0.41598184,\n",
      "       -0.45785141, -0.49220303, -0.51847265, -0.53622893, -0.5451803 ,\n",
      "       -0.54517979, -0.5362274 , -0.51847012, -0.49219955, -0.45784703,\n",
      "       -0.41597664, -0.74028425, -0.82017774, -0.88660388, -0.93847194,\n",
      "       -0.97493025, -0.99538015, -0.99948586, -0.98717996, -0.95866453,\n",
      "       -0.91440777, -0.85513639, -0.78182363,  0.39244094,  0.43781857,\n",
      "        0.47600719,  0.50637976,  0.52843754,  0.54181836,  0.54630249])\n"
     ]
    },
    {
     "data": {
      "image/png": "[encoded data removed]",
      "text/plain": [
       "<Figure size 432x288 with 1 Axes>"
      ]
     },
     "metadata": {
      "needs_background": "light"
     },
     "output_type": "display_data"
    }
   ],
   "source": [
    "#PASO 4: VELOCIDAD DE X1\n",
    "def grafica_velocidad(q,meca):\n",
    "    \n",
    "    th = np.linspace(0,2*3.1416,50)\n",
    "    #print (\"th=\")\n",
    "    #pprint.pprint(th)\n",
    "\n",
    "    VX1 = np.zeros((50,0))\n",
    "\n",
    "    \n",
    "    i=0\n",
    "    for t in th:\n",
    "\n",
    "        q[4] = t\n",
    "        \n",
    "        resuelve_prob_posicion (q,meca)\n",
    "        qp = resuelve_prob_velocidad (q,meca)\n",
    "\n",
    "        qp[4] = 1  #inicializar qp en 0 con qp[4] = 1 rad/s\n",
    "\n",
    "        resuelve_prob_velocidad(q,meca)\n",
    "\n",
    "\n",
    "        VX1 = np.append(VX1, qp[0])\n",
    "\n",
    "        i=i+1\n",
    "      \n",
    "    print (\"VX1=\")\n",
    "    pprint.pprint(VX1)\n",
    " \n",
    "    plt.plot(th,VX1)\n",
    "    plt.xlabel ('Angulo')\n",
    "    plt.ylabel ('Velocidad')\n",
    "    plt.title ('Velocidad de X1')\n",
    "\n",
    "    plt.show()\n",
    "    return \n",
    "\n",
    "grafica_velocidad (q,meca)"
   ]
  },
  {
   "cell_type": "code",
   "execution_count": 5,
   "metadata": {},
   "outputs": [
    {
     "name": "stdout",
     "output_type": "stream",
     "text": [
      "VY1=\n",
      "array([-1.        , -0.99178998, -0.96729471, -0.92691642, -0.87131812,\n",
      "       -0.80141273, -0.7183481 , -1.43113532, -1.5653306 , -1.67382308,\n",
      "       -1.7548313 , -1.8070251 , -1.82954746, -1.82202856, -1.78459186,\n",
      "       -1.71785208, -1.62290508, -1.5013099 , -1.35506314,  0.76144965,\n",
      "        0.83809138,  0.9009716 ,  0.94905783,  0.98156048,  0.99794585,\n",
      "        0.99794491,  0.98155767,  0.9490532 ,  0.90096523,  0.83808336,\n",
      "        0.76144013,  1.35508122,  1.50132529,  1.62291752,  1.71786137,\n",
      "        1.78459785,  1.82203114,  1.8295466 ,  1.8070208 ,  1.75482364,\n",
      "        1.67381219,  1.56531666,  1.43111856, -0.71835832, -0.80142151,\n",
      "       -0.87132533, -0.92692193, -0.96729844, -0.99179185, -1.        ])\n"
     ]
    },
    {
     "data": {
      "image/png": "[encoded data removed]",
      "text/plain": [
       "<Figure size 432x288 with 1 Axes>"
      ]
     },
     "metadata": {
      "needs_background": "light"
     },
     "output_type": "display_data"
    }
   ],
   "source": [
    "#PASO 4: VELOCIDAD DE Y1\n",
    "def grafica_velocidad(q,meca):\n",
    "    \n",
    "    th = np.linspace(0,2*3.1416,50)\n",
    "    #print (\"th=\")\n",
    "    #pprint.pprint(th)\n",
    "\n",
    "    VY1 = np.zeros((50,0))\n",
    "\n",
    "    \n",
    "    i=0\n",
    "    for t in th:\n",
    "\n",
    "        q[4] = t\n",
    "        \n",
    "        resuelve_prob_posicion (q,meca)\n",
    "        qp = resuelve_prob_velocidad (q,meca)\n",
    "\n",
    "        qp[4] = 1  #inicializar qp en 0 con qp[4] = 1 rad/s\n",
    "\n",
    "        resuelve_prob_velocidad(q,meca)\n",
    "\n",
    "\n",
    "        VY1 = np.append(VY1, qp[1])\n",
    "\n",
    "        i=i+1\n",
    "      \n",
    "    print (\"VY1=\")\n",
    "    pprint.pprint(VY1)\n",
    " \n",
    "    plt.plot(th,VY1)\n",
    "    plt.xlabel ('Angulo')\n",
    "    plt.ylabel ('Velocidad')\n",
    "    plt.title ('Velocidad de Y1')\n",
    "\n",
    "    plt.show()\n",
    "    return \n",
    "\n",
    "grafica_velocidad (q,meca)"
   ]
  },
  {
   "cell_type": "code",
   "execution_count": 6,
   "metadata": {},
   "outputs": [
    {
     "name": "stdout",
     "output_type": "stream",
     "text": [
      "VX2=\n",
      "array([ 0.79321425,  0.78670195,  0.76727195,  0.73524332,  0.69114195,\n",
      "        0.635692  ,  0.56980395,  1.13519694,  1.24164255,  1.32770033,\n",
      "        1.3919572 ,  1.43335807,  1.45122312,  1.44525903,  1.4155637 ,\n",
      "        1.36262476,  1.28731145,  1.19086042,  1.0748554 , -0.60399272,\n",
      "       -0.66478603, -0.71466352, -0.7528062 , -0.77858776, -0.79158488,\n",
      "       -0.79158413, -0.77858553, -0.75280252, -0.71465846, -0.66477967,\n",
      "       -0.60398516, -1.07486974, -1.19087262, -1.28732131, -1.36263213,\n",
      "       -1.41556845, -1.44526107, -1.45122244, -1.43335466, -1.39195113,\n",
      "       -1.32769169, -1.24163149, -1.13518364,  0.56981206,  0.63569897,\n",
      "        0.69114767,  0.73524769,  0.76727491,  0.78670344,  0.79321425])\n"
     ]
    },
    {
     "data": {
      "image/png": "[encoded data removed]",
      "text/plain": [
       "<Figure size 432x288 with 1 Axes>"
      ]
     },
     "metadata": {
      "needs_background": "light"
     },
     "output_type": "display_data"
    }
   ],
   "source": [
    "#PASO 4: VELOCIDAD DE X2\n",
    "def grafica_velocidad(q,meca):\n",
    "    \n",
    "    th = np.linspace(0,2*3.1416,50)\n",
    "    #print (\"th=\")\n",
    "    #pprint.pprint(th)\n",
    "\n",
    "    VX2 = np.zeros((50,0))\n",
    "\n",
    "    \n",
    "    i=0\n",
    "    for t in th:\n",
    "\n",
    "        q[4] = t\n",
    "        \n",
    "        resuelve_prob_posicion (q,meca)\n",
    "        qp = resuelve_prob_velocidad (q,meca)\n",
    "\n",
    "        qp[4] = 1  #inicializar qp en 0 con qp[4] = 1 rad/s\n",
    "\n",
    "        resuelve_prob_velocidad(q,meca)\n",
    "\n",
    "\n",
    "        VX2 = np.append(VX2, qp[2])\n",
    "\n",
    "        i=i+1\n",
    "      \n",
    "    print (\"VX2=\")\n",
    "    pprint.pprint(VX2)\n",
    " \n",
    "    plt.plot(th,VX2)\n",
    "    plt.xlabel ('Angulo')\n",
    "    plt.ylabel ('Velocidad')\n",
    "    plt.title ('Velocidad de X2')\n",
    "\n",
    "    plt.show()\n",
    "    return \n",
    "\n",
    "grafica_velocidad (q,meca)"
   ]
  },
  {
   "cell_type": "code",
   "execution_count": 7,
   "metadata": {},
   "outputs": [
    {
     "name": "stdout",
     "output_type": "stream",
     "text": [
      "VY2=\n",
      "array([0., 0., 0., 0., 0., 0., 0., 0., 0., 0., 0., 0., 0., 0., 0., 0., 0.,\n",
      "       0., 0., 0., 0., 0., 0., 0., 0., 0., 0., 0., 0., 0., 0., 0., 0., 0.,\n",
      "       0., 0., 0., 0., 0., 0., 0., 0., 0., 0., 0., 0., 0., 0., 0., 0.])\n"
     ]
    },
    {
     "data": {
      "image/png": "[encoded data removed]",
      "text/plain": [
       "<Figure size 432x288 with 1 Axes>"
      ]
     },
     "metadata": {
      "needs_background": "light"
     },
     "output_type": "display_data"
    }
   ],
   "source": [
    "#PASO 4: VELOCIDAD DE Y2\n",
    "def grafica_velocidad(q,meca):\n",
    "    \n",
    "    th = np.linspace(0,2*3.1416,50)\n",
    "    #print (\"th=\")\n",
    "    #pprint.pprint(th)\n",
    "\n",
    "    VY2 = np.zeros((50,0))\n",
    "\n",
    "    \n",
    "    i=0\n",
    "    for t in th:\n",
    "\n",
    "        q[4] = t\n",
    "        \n",
    "        resuelve_prob_posicion (q,meca)\n",
    "        qp = resuelve_prob_velocidad (q,meca)\n",
    "\n",
    "        qp[4] = 1  #inicializar qp en 0 con qp[4] = 1 rad/s\n",
    "\n",
    "        resuelve_prob_velocidad(q,meca)\n",
    "\n",
    "\n",
    "        VY2 = np.append(VY2, qp[3])\n",
    "\n",
    "        i=i+1\n",
    "      \n",
    "    print (\"VY2=\")\n",
    "    pprint.pprint(VY2)\n",
    " \n",
    "    plt.plot(th,VY2)\n",
    "    plt.xlabel ('Angulo')\n",
    "    plt.ylabel ('Velocidad')\n",
    "    plt.title ('Velocidad de Y2')\n",
    "\n",
    "    plt.show()\n",
    "    return \n",
    "\n",
    "grafica_velocidad (q,meca)"
   ]
  },
  {
   "cell_type": "markdown",
   "metadata": {},
   "source": [
    "### PASO 5: GRÁFICAS ACELERACIONES\n",
    "\n",
    "Haremos el mismo procedimiento que para la velocidad, representando en celdas separadas la aceleración de cada coordenada."
   ]
  },
  {
   "cell_type": "code",
   "execution_count": 8,
   "metadata": {},
   "outputs": [
    {
     "name": "stdout",
     "output_type": "stream",
     "text": [
      "AX1=\n",
      "array([-2.02587429, -1.92733445, -1.77423782, -1.57257669, -1.33120636,\n",
      "       -1.06133711, -0.77587608, -1.40532095, -1.37353452, -1.31919459,\n",
      "       -1.24319342, -1.14677895, -1.03153431, -0.89935183, -0.75240195,\n",
      "       -0.59309759, -0.42405454, -0.2480485 , -0.06796948, -0.08775572,\n",
      "       -0.28337129, -0.47181045, -0.6420526 , -0.78485401, -0.89332143,\n",
      "       -0.96332277, -0.99370874, -0.98633171, -0.94586151, -0.87941117,\n",
      "       -0.7959984 ,  1.41257826,  1.39228653,  1.3491334 ,  1.28382743,\n",
      "        1.19744095,  1.09139243,  0.96742319,  0.82756882,  0.67412573,\n",
      "        0.50961346,  0.33673331,  0.15832398, -1.53600526, -1.71485617,\n",
      "       -1.86738348, -1.98260689, -2.05138765, -2.06705257, -2.02586626])\n"
     ]
    },
    {
     "data": {
      "image/png": "[encoded data removed]",
      "text/plain": [
       "<Figure size 432x288 with 1 Axes>"
      ]
     },
     "metadata": {
      "needs_background": "light"
     },
     "output_type": "display_data"
    }
   ],
   "source": [
    "#PASO 5: ACELERACION DE X1\n",
    "\n",
    "def grafica_aceleracion(q,meca):\n",
    "    \n",
    "    th = np.linspace(0,2*3.1416,50)\n",
    " \n",
    "    \n",
    "    AX1 = np.zeros((50,0))\n",
    "\n",
    "    i=0\n",
    "    for t in th:\n",
    "\n",
    "        q[4] = t\n",
    "        \n",
    "        resuelve_prob_posicion (q,meca)\n",
    "        qpp = resuelve_prob_aceleracion(q,meca)\n",
    "\n",
    "        qpp[4] = 1  #inicializar qp en 0 con qpp[4] = 1 rad/s**2\n",
    "\n",
    "        resuelve_prob_aceleracion(q,meca)\n",
    "        \n",
    "        \n",
    "        AX1 = np.append(AX1, qpp[0])\n",
    "\n",
    "        i=i+1\n",
    "      \n",
    "    print (\"AX1=\")\n",
    "    pprint.pprint(AX1)\t\n",
    " \n",
    "    plt.plot(th,AX1)\n",
    "    plt.xlabel ('Angulo')\n",
    "    plt.ylabel ('Aceleracion')\n",
    "    plt.title ('Aceleracion (X1)')\t\n",
    "\n",
    "    plt.show()\n",
    "    return \n",
    "\n",
    "grafica_aceleracion (q,meca)\n"
   ]
  },
  {
   "cell_type": "code",
   "execution_count": 9,
   "metadata": {},
   "outputs": [
    {
     "name": "stdout",
     "output_type": "stream",
     "text": [
      "AY1=\n",
      "array([  1.        ,   0.86391252,   0.71363955,   0.55164858,\n",
      "         0.38059952,   0.20330099,   0.02266426,  -2.9746552 ,\n",
      "        -4.12189395,  -5.17313696,  -6.06449483,  -6.74447885,\n",
      "        -7.177257  ,  -7.34485574,  -7.24816602,  -6.90669032,\n",
      "        -6.35705064,  -5.65035843,  -4.84862244,  -1.40967371,\n",
      "        -1.38362125,  -1.33484967,  -1.26415978,  -1.17271233,\n",
      "        -1.06200889,  -0.93386721,  -0.79039139,  -0.63393729,\n",
      "        -0.46707392,  -0.29254117,  -0.11320488,  -7.55887962,\n",
      "        -8.65309669,  -9.60295876, -10.34246496, -10.81738736,\n",
      "       -10.98891416, -10.83631563, -10.35845619,  -9.57405125,\n",
      "        -8.52064893,  -7.2524    ,  -5.83675806,   1.41403161,\n",
      "         1.39952147,   1.36203112,   1.30217615,   1.22093939,\n",
      "         1.11965474,   0.99998531])\n"
     ]
    },
    {
     "data": {
      "image/png": "[encoded data removed]",
      "text/plain": [
       "<Figure size 432x288 with 1 Axes>"
      ]
     },
     "metadata": {
      "needs_background": "light"
     },
     "output_type": "display_data"
    }
   ],
   "source": [
    "#PASO 5: ACELERACION DE Y1\n",
    "\n",
    "def grafica_aceleracion(q,meca):\n",
    "    \n",
    "    th = np.linspace(0,2*3.1416,50)\n",
    " \n",
    "    \n",
    "    AY1 = np.zeros((50,0))\n",
    "\n",
    "    i=0\n",
    "    for t in th:\n",
    "\n",
    "        q[4] = t\n",
    "        \n",
    "        resuelve_prob_posicion (q,meca)\n",
    "        qpp = resuelve_prob_aceleracion(q,meca)\n",
    "\n",
    "        qpp[4] = 1  #inicializar qp en 0 con qpp[4] = 1 rad/s**2\n",
    "\n",
    "        resuelve_prob_aceleracion(q,meca)\n",
    "        \n",
    "        \n",
    "        AY1 = np.append(AY1, qpp[1])\n",
    "\n",
    "        i=i+1\n",
    "      \n",
    "    print (\"AY1=\")\n",
    "    pprint.pprint(AY1)\t\n",
    " \n",
    "    plt.plot(th,AY1)\n",
    "    plt.xlabel ('Angulo')\n",
    "    plt.ylabel ('Aceleracion')\n",
    "    plt.title ('Aceleracion (Y1)')\t\n",
    "\n",
    "    plt.show()\n",
    "    return \n",
    "\n",
    "grafica_aceleracion (q,meca)"
   ]
  },
  {
   "cell_type": "code",
   "execution_count": 10,
   "metadata": {},
   "outputs": [
    {
     "name": "stdout",
     "output_type": "stream",
     "text": [
      "AX2=\n",
      "array([-2.81920009, -2.67812333, -2.46170106, -2.17824997, -1.8400158 ,\n",
      "       -1.46247568, -1.06343491, -1.78998058, -1.69464682, -1.57276552,\n",
      "       -1.42844365, -1.26571522, -1.08836617, -0.89979934, -0.70294649,\n",
      "       -0.50023094, -0.29358067, -0.0844883 ,  0.12588911, -0.0565046 ,\n",
      "       -0.32553859, -0.58577186, -0.82207768, -1.02174613, -1.17527045,\n",
      "       -1.27691045, -1.32499739, -1.32196133, -1.27408068, -1.19097164,\n",
      "       -1.08485276,  2.27560445,  2.29723289,  2.28103812,  2.22500983,\n",
      "        2.12816748,  1.99070067,  1.81405768,  1.60097455,  1.35544094,\n",
      "        1.08260254,  0.78860364,  0.48037745, -2.16711708, -2.41136335,\n",
      "       -2.6185268 , -2.77359985, -2.86411313, -2.88098926, -2.81918844])\n"
     ]
    },
    {
     "data": {
      "image/png": "[encoded data removed]",
      "text/plain": [
       "<Figure size 432x288 with 1 Axes>"
      ]
     },
     "metadata": {
      "needs_background": "light"
     },
     "output_type": "display_data"
    }
   ],
   "source": [
    "#PASO 5: ACELERACION DE X2\n",
    "\n",
    "def grafica_aceleracion(q,meca):\n",
    "    \n",
    "    th = np.linspace(0,2*3.1416,50)\n",
    " \n",
    "    \n",
    "    AX2 = np.zeros((50,0))\n",
    "\n",
    "    i=0\n",
    "    for t in th:\n",
    "\n",
    "        q[4] = t\n",
    "        \n",
    "        resuelve_prob_posicion (q,meca)\n",
    "        qpp = resuelve_prob_aceleracion(q,meca)\n",
    "\n",
    "        qpp[4] = 1  #inicializar qp en 0 con qpp[4] = 1 rad/s**2\n",
    "\n",
    "        resuelve_prob_aceleracion(q,meca)\n",
    "        \n",
    "        \n",
    "        AX2 = np.append(AX2, qpp[2])\n",
    "\n",
    "        i=i+1\n",
    "      \n",
    "    print (\"AX2=\")\n",
    "    pprint.pprint(AX2)\t\n",
    " \n",
    "    plt.plot(th,AX2)\n",
    "    plt.xlabel ('Angulo')\n",
    "    plt.ylabel ('Aceleracion')\n",
    "    plt.title ('Aceleracion (X2)')\t\n",
    "\n",
    "    plt.show()\n",
    "    return \n",
    "\n",
    "grafica_aceleracion (q,meca)"
   ]
  },
  {
   "cell_type": "code",
   "execution_count": 11,
   "metadata": {},
   "outputs": [
    {
     "name": "stdout",
     "output_type": "stream",
     "text": [
      "AY2=\n",
      "array([-0., -0., -0., -0., -0., -0., -0., -0., -0., -0., -0., -0., -0.,\n",
      "       -0., -0., -0., -0., -0., -0., -0., -0., -0., -0., -0., -0., -0.,\n",
      "       -0., -0., -0., -0., -0., -0., -0., -0., -0., -0., -0., -0., -0.,\n",
      "       -0., -0., -0., -0., -0., -0., -0., -0., -0., -0., -0.])\n"
     ]
    },
    {
     "data": {
      "image/png": "[encoded data removed]",
      "text/plain": [
       "<Figure size 432x288 with 1 Axes>"
      ]
     },
     "metadata": {
      "needs_background": "light"
     },
     "output_type": "display_data"
    }
   ],
   "source": [
    "#PASO 5: ACELERACION DE Y2\n",
    "\n",
    "def grafica_aceleracion(q,meca):\n",
    "    \n",
    "    th = np.linspace(0,2*3.1416,50)\n",
    " \n",
    "    \n",
    "    AY2 = np.zeros((50,0))\n",
    "\n",
    "    i=0\n",
    "    for t in th:\n",
    "\n",
    "        q[4] = t\n",
    "        \n",
    "        resuelve_prob_posicion (q,meca)\n",
    "        qpp = resuelve_prob_aceleracion(q,meca)\n",
    "\n",
    "        qpp[4] = 1  #inicializar qp en 0 con qpp[4] = 1 rad/s**2\n",
    "\n",
    "        resuelve_prob_aceleracion(q,meca)\n",
    "        \n",
    "        \n",
    "        AY2 = np.append(AY2, qpp[3])\n",
    "\n",
    "        i=i+1\n",
    "      \n",
    "    print (\"AY2=\")\n",
    "    pprint.pprint(AY2)\t\n",
    " \n",
    "    plt.plot(th,AY2)\n",
    "    plt.xlabel ('Angulo')\n",
    "    plt.ylabel ('Aceleracion')\n",
    "    plt.title ('Aceleracion (Y2)')\t\n",
    "\n",
    "    plt.show()\n",
    "    return \n",
    "\n",
    "grafica_aceleracion (q,meca)"
   ]
  }
 ],
 "metadata": {
  "kernelspec": {
   "display_name": "Python 3",
   "language": "python",
   "name": "python3"
  },
  "language_info": {
   "codemirror_mode": {
    "name": "ipython",
    "version": 3
   },
   "file_extension": ".py",
   "mimetype": "text/x-python",
   "name": "python",
   "nbconvert_exporter": "python",
   "pygments_lexer": "ipython3",
   "version": "3.7.0"
  }
 },
 "nbformat": 4,
 "nbformat_minor": 2
}
