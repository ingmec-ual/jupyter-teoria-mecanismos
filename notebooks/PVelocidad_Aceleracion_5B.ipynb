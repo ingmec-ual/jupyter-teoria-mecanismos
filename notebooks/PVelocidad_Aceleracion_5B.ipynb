{
 "cells": [
  {
   "cell_type": "markdown",
   "metadata": {},
   "source": [
    "# MECANISMO CINCO BARRAS \n",
    "\n",
    "## PROBLEMAS VELOCIDAD Y ACELERACIÓN"
   ]
  },
  {
   "cell_type": "markdown",
   "metadata": {},
   "source": [
    "### PASO 1: MATRIZ JACOBIANA \n",
    "\n",
    "Para resolver el problema velocidad, necesitamos otra vez la matriz jacobiana. El método de construcción aparece detallado en el notebook Problema_Posición_5B, por lo que para este caso copiaremos el código de los pasos realizados para poder conseguirla."
   ]
  },
  {
   "cell_type": "code",
   "execution_count": 1,
   "metadata": {},
   "outputs": [
    {
     "name": "stdout",
     "output_type": "stream",
     "text": [
      "MECANISMO DE CUATRO BARRAS\n",
      "=============================\n",
      "Introduce longitud L1:1\n",
      "Introduce longitud L2:1\n",
      "Introduce longitud L3:1\n",
      "Introduce longitud L4: 1\n",
      "Introduce angulo inicial theta:1\n",
      "Introduce angulo inicial beta: 1\n",
      "Introduce coordenada en x del punto B:1\n",
      "q: [[0.1]\n",
      " [1. ]\n",
      " [1. ]\n",
      " [0.2]\n",
      " [2. ]\n",
      " [0.1]\n",
      " [1. ]\n",
      " [1. ]]\n",
      "Jacob=\n",
      "array([[ 1.08060461,  1.68294197,  0.        ,  0.        ,  0.        ,\n",
      "         0.        ,  0.        ,  0.        ],\n",
      "       [-1.        , -1.73205081,  1.        ,  1.73205081,  0.        ,\n",
      "         0.        ,  0.        ,  0.        ],\n",
      "       [ 0.        ,  0.        , -1.        ,  1.73205081,  1.        ,\n",
      "        -1.73205081,  0.        ,  0.        ],\n",
      "       [ 0.        ,  0.        ,  0.        ,  0.        ,  1.08060461,\n",
      "         1.68294197,  0.        ,  0.        ],\n",
      "       [ 1.        ,  0.        ,  0.        ,  0.        ,  0.        ,\n",
      "         0.        ,  0.84147098,  0.        ],\n",
      "       [ 0.        ,  0.        ,  0.        ,  0.        ,  1.        ,\n",
      "         0.        ,  0.        ,  0.84147098],\n",
      "       [ 0.        ,  0.        ,  0.        ,  0.        ,  0.        ,\n",
      "         0.        ,  1.        ,  0.        ],\n",
      "       [ 0.        ,  0.        ,  0.        ,  0.        ,  0.        ,\n",
      "         0.        ,  0.        ,  1.        ]])\n"
     ]
    }
   ],
   "source": [
    "import numpy as np\n",
    "import math as math\n",
    "import array as arr\n",
    "import pprint  # para depurar\n",
    "import matplotlib.pyplot as plt  #Para graficas\n",
    "import matplotlib.animation as animation\n",
    "import scipy.integrate as integrate \n",
    "import os\n",
    "from time import sleep\n",
    "#%matplotlib inline (Para notebook)\n",
    "\n",
    "\n",
    "\n",
    "print ('MECANISMO DE CUATRO BARRAS')\n",
    "print ('=============================')\n",
    "# Lectura de datos por teclado\n",
    "\n",
    "meca = {} # dictionary vacio, con propiedades de mecanismo\n",
    "\n",
    "meca[\"L1\"] = float (input ('Introduce longitud L1:'))\n",
    "meca[\"L2\"] = float (input ('Introduce longitud L2:'))\n",
    "meca[\"L3\"] = float (input ('Introduce longitud L3:'))\n",
    "meca[\"L4\"] = float (input ('Introduce longitud L4: '))\n",
    "meca[\"theta\"] = float (input ('Introduce angulo inicial theta:')) #En rad\n",
    "meca[\"beta\"] = float (input('Introduce angulo inicial beta: ')) #En rad\n",
    "meca[\"XB\"] = float (input ('Introduce coordenada en x del punto B:'))\n",
    "meca[\"XA\"] = 0\n",
    "meca[\"YA\"] = 0\n",
    "meca[\"YB\"] = 0\n",
    "\n",
    "# Defino posicion inicial:\n",
    "q = np.array ([[0.1], [meca[\"L1\"]], [1], [0.2], [2], [0.1], [meca[\"theta\"]], [meca[\"beta\"]]])\n",
    "print('q: ' + str(q))\n",
    "\n",
    "# JACOBIANO\n",
    "def jacob_Phiq(q,meca):\n",
    "    #Inicializa a cero la matriz jacobiana\n",
    "    Jacob = np.zeros((8,8))\n",
    "\n",
    "    #Extraer coordenadas\n",
    "\n",
    "    X1 = q[0]\n",
    "    Y1 = q[1]\n",
    "    X2 = q[2]\n",
    "    Y2 = q[3]\n",
    "    X3 = q[4]\n",
    "    Y3 = q[5]\n",
    "    theta = q[6]\n",
    "    beta = q[7]\n",
    "\n",
    "    #Montar matriz\n",
    "\n",
    "    Jacob[0,0] = 2*X1\n",
    "    Jacob[0,1] = 2*Y1\n",
    "    Jacob[1,0] = -2*(X2-X1)\n",
    "    Jacob[1,1] = -2*(Y2-Y1)\n",
    "    Jacob[1,2] = 2*(X2-X1)\n",
    "    Jacob[1,3] = 2*(Y2-Y1)\n",
    "    Jacob[2,2] = -2*(X3-X2)\n",
    "    Jacob[2,3] = -2*(Y3-Y2)\n",
    "    Jacob[2,4] = 2*(X3-X2)\n",
    "    Jacob[2,5] = 2*(Y3-Y2)\n",
    "    Jacob[3,4] = -2*(meca[\"XB\"]-X3)\n",
    "    Jacob[3,5] = -2*(meca[\"YB\"]-Y3)\n",
    "\n",
    "    if (abs(math.cos(theta)) < (math.sqrt(2)/2) ):\n",
    "        Jacob[4,6] = meca[\"L1\"]*math.sin(theta)\n",
    "        Jacob[4,0] = 1\n",
    "    else:\n",
    "        Jacob[4,6] = -meca[\"L1\"]*math.cos(theta)\n",
    "        Jacob[4,1] = 1\n",
    "\n",
    "\n",
    "    if ((math.cos(beta)) < (math.sqrt(2)/2) ):\n",
    "        Jacob[5,7] = meca[\"L4\"]*math.sin(beta)\n",
    "        Jacob[5,4] = 1\n",
    "    else:\n",
    "        Jacob[5,7] = -meca[\"L4\"]*math.cos(beta)\n",
    "        Jacob[5,5] = 1\n",
    "\n",
    "    Jacob[6,6] = 1\n",
    "    Jacob[7,7] = 1\n",
    "\n",
    "    return Jacob\n",
    "\n",
    "\n",
    "def Phi (q,meca):\n",
    "    #Inicializa a cero Phi\n",
    "    Phi = np.zeros((8,1))\n",
    "\n",
    "    #Extraer coordenadas\n",
    "    X1 = q[0]\n",
    "    Y1 = q[1]\n",
    "    X2 = q[2]\n",
    "    Y2 = q[3]\n",
    "    X3 = q[4]\n",
    "    Y3 = q[5]\n",
    "    theta = q[6]\n",
    "    beta = q[7]\n",
    "\t\n",
    "    Phi[0] = X1**2 + Y1**2 - meca[\"L1\"]**2\n",
    "    Phi[1] = (X2-X1)**2 + (Y2-Y1)**2 -meca[\"L2\"]**2\n",
    "    Phi[2] = (X3-X2)**2 + (Y3-Y2)**2 - meca[\"L3\"]**2\n",
    "    Phi[3] = (meca[\"XB\"] - X3)**2 + (meca[\"YB\"] - Y3)**2 - meca[\"L4\"]**2\n",
    "\n",
    "    if (abs(math.cos(theta)) < (math.sqrt(2)/2) ):\n",
    "        Phi[4] = X1-meca[\"L1\"]*math.cos(theta)\n",
    "    else: \n",
    "        Phi[4] = Y1-meca[\"L1\"]*math.sin(theta)\n",
    "\t\t\n",
    "    if (abs(math.cos(beta)) < (math.sqrt(2)/2) ):\n",
    "        Phi[5] = (X3-meca[\"XB\"])-meca[\"L4\"]*math.cos(beta)\n",
    "    else: \n",
    "        Phi[5] = Y3-meca[\"L4\"]*math.sin(beta)\n",
    "\t\t\n",
    "    return Phi\n",
    "\n",
    "\n",
    "\n",
    "def resuelve_prob_posicion(q_init, meca):\n",
    "    #Inicializacion de variables\n",
    "    error = 1e10\n",
    "    tolerancia = 1e-10\n",
    "\n",
    "    #Inicializacion en cero de deltaQ, fi y q\n",
    "    deltaQ = np.zeros ((8,1))\n",
    "    q = q_init\n",
    "    i=0\n",
    "\n",
    "    # Iteraciones hasta conseguir que el error sea menor que la tolerancia\n",
    "\n",
    "    while (error > tolerancia and i<=100):\n",
    "\n",
    "\n",
    "\n",
    "        #Extraer las coordenadas\n",
    "        X1 = q[0]\n",
    "        Y1 = q[1]\n",
    "        X2 = q[2]\n",
    "        Y2 = q[3]\n",
    "        X3 = q[4]\n",
    "        Y3 = q[5]\n",
    "        theta = q[6]\n",
    "        beta = q[7]\n",
    "       \n",
    "        fi=Phi(q,meca)\n",
    "\n",
    "        J = jacob_Phiq(q,meca)\n",
    "        \n",
    "        deltaQ = np.linalg.solve(J,-fi)\n",
    "        q = q + deltaQ\n",
    "        error = np.linalg.norm(deltaQ)  # El error es el modulo del vector\n",
    "        i=i+1\n",
    "\n",
    "    return q\n",
    "\n",
    "q = resuelve_prob_posicion (q,meca)\n",
    "J = jacob_Phiq(q,meca)\n",
    "print (\"Jacob=\")\n",
    "pprint.pprint(J)"
   ]
  },
  {
   "cell_type": "markdown",
   "metadata": {},
   "source": [
    "### PASO 2: PROBLEMA VELOCIDAD\n",
    "\n",
    "Consiste en determinar las velocidades de todas las variables del mecanismo una vez sabemos su posición $q$ y la velocidad de los grados de libertad. \n",
    "\n",
    "Partimos de la ecuación:\n",
    "\n",
    "#Фq · q_p = -Ф_p$\n",
    "\n",
    "Siendo $q_p$ el vector velocidad, $Фq$ el jacobiano y $Ф_p$ la derivada parcial de las ecuaciones de restricción respecto al tiempo. Para las ecuaciones de sólido rígido el valor de esta derivada es $0$. Solo tendría un valor no nulo la correspondiente al ángulo, que en ese caso tendría la velocidad que nosotros le indiquemos. \n",
    "\n",
    "En este caso vamos a tomar un valor de $1$. \n",
    "\n",
    "Por lo tanto, tendríamos:\n",
    "\n",
    "$q_p = Фq/Ф_p$"
   ]
  },
  {
   "cell_type": "code",
   "execution_count": 2,
   "metadata": {},
   "outputs": [
    {
     "data": {
      "text/plain": [
       "array([[-0.1682942 ],\n",
       "       [ 0.10806046],\n",
       "       [-0.1682942 ],\n",
       "       [ 0.10806046],\n",
       "       [-0.1682942 ],\n",
       "       [ 0.10806046],\n",
       "       [ 0.2       ],\n",
       "       [ 0.2       ]])"
      ]
     },
     "execution_count": 2,
     "metadata": {},
     "output_type": "execute_result"
    }
   ],
   "source": [
    "# PASO 2\n",
    "\n",
    "def resuelve_prob_velocidad(q,meca):\n",
    "    \n",
    "    b = np.zeros ((8,1))\n",
    "    #Velocidad del gdl.\n",
    "    b[6]=0.2\n",
    "    b[7] = 0.2\n",
    "    qp = np.linalg.solve(jacob_Phiq(q,meca),b)\n",
    " \n",
    "    return qp\n",
    "\t\n",
    "resuelve_prob_velocidad (q,meca)"
   ]
  },
  {
   "cell_type": "markdown",
   "metadata": {},
   "source": [
    "### PASO 3: PROBLEMA ACELERACIÓN\n",
    "\n",
    "El problema aceleración trata de determinar las aceleraciones de todas las variables del mecanismo, conociendo la posición$q$, la velocidad $q_p$ y las aceleraciones de los grados de libertad. \n",
    "\n",
    "La ecuación de la que partimos es:\n",
    "\n",
    "$Фq · q_pp = -∂_Фq · q_p$\n",
    "\n",
    "Siendo Фq el jacobiano, q_pp el vector aceleración, q_p el vector velocidad y ∂_Фq la derivada del jacobiano respecto al tiempo. \n",
    "\n",
    "Es decir, si llamamos &b& al conjunto $∂_Фq · q_p$ tendríamos como resultado:\n",
    "\n",
    "$q_pp = -Фq/b$\n",
    "\n",
    "El vector velocidad será:\n",
    "\n",
    "\\begin{equation}\n",
    "\\mathbf{q_p} = \n",
    "\\begin{bmatrix}\n",
    "X_1q \\\\\n",
    "Y_1q \\\\\n",
    "X_2q \\\\\n",
    "Y_2q \\\\\n",
    "X_3q \\\\\n",
    "Y_3q \\\\\n",
    "θ_q\\\\\n",
    "\\beta_q \\\\\n",
    "\\end{bmatrix}\n",
    "\\end{equation}\n",
    "\n",
    "Por otro lado, para calcular la derivada del jacobiano solo tenemos en cuenta las filas que hacen referencia a las ecuaciones de las coordenadas independientes, ya que la última que añadimos para poder realizar los cálculos era adicional. Teniendo en cuenta esto, la derivada del jacobiano sería:\n",
    "\n",
    "¡¡¡¡ COMPLETAR !!!!\n",
    "\n",
    "Como ya tenemos $∂_Фq$ y $q_p$, podemos calcular $b$. La última fila que añadimos es el valor de la aceleración angular, dato que sabemos de antemano. "
   ]
  },
  {
   "cell_type": "code",
   "execution_count": 3,
   "metadata": {},
   "outputs": [
    {
     "data": {
      "text/plain": [
       "array([[ 0.81985889],\n",
       "       [-0.57396115],\n",
       "       [ 0.75270628],\n",
       "       [-0.53114362],\n",
       "       [ 0.81985889],\n",
       "       [-0.47888954],\n",
       "       [-1.        ],\n",
       "       [-1.        ]])"
      ]
     },
     "execution_count": 3,
     "metadata": {},
     "output_type": "execute_result"
    }
   ],
   "source": [
    "#PASO 3\n",
    "\n",
    "def resuelve_prob_aceleracion (q,meca):\n",
    "\n",
    "    b=np.zeros ((8,1))\n",
    "    qp = resuelve_prob_velocidad (q,meca)\n",
    "\t\n",
    "\t#Extraer las posiciones\n",
    "    X1 = q[0]\n",
    "    Y1 = q[1]\n",
    "    X2 = q[2]\n",
    "    Y2 = q[3]\n",
    "    X3 = q[4]\n",
    "    Y3 = q[5]\n",
    "    theta = q[6]\n",
    "    beta = q[7]\n",
    "    #Extraer las velocidades\n",
    "    X1q = qp[0]\n",
    "    Y1q = qp[1]\n",
    "    X2q = qp[2]\n",
    "    Y2q = qp[3]\n",
    "    X3q = qp[4]\n",
    "    Y3q = qp[5]\n",
    "    thetaq = qp[6]\n",
    "    betaq = qp[7]\n",
    "    \n",
    "    b[0] = 2*(X1q)**2 + 2*(Y1q)**2\n",
    "    b[1] = -2*X1q*(X2q-X1q) - 2*Y1q*(Y2q-Y1q) + 2*X2q*(X2q*X1q) + 2*Y2q*(Y2q*Y1q)\n",
    "    b[2] = -2*X2q*(X3q-X2q) + 2*Y2q*Y3q + 2*X3q*(X3q-X2q) + 2*Y3q*(Y3q-Y2q)\n",
    "    b[3] = -2*X3q**2 - 2*Y3q**2\n",
    "    \n",
    "    if (abs(math.cos(theta)) < (math.sqrt(2)/2) ):\n",
    "        b[4] = thetaq**2 * (meca[\"L1\"] * math.cos(theta))\n",
    "    else: \n",
    "        b[4] =  thetaq**2 * (meca[\"L1\"] * math.sin(theta))\n",
    "    \n",
    "    if (abs(math.cos(beta)) < (math.sqrt(2)/2) ):\n",
    "        b[5] = betaq**2 * (meca[\"L4\"] * math.cos(beta))\n",
    "    else: \n",
    "        b[5] =  betaq**2 * (meca[\"L4\"] * math.sin(beta))\n",
    "\t\t\n",
    "    b[6] = 1 #Aceleracion conocida \n",
    "    b[7] = 1\n",
    "    qpp = np.linalg.solve(-jacob_Phiq(q,meca),b)\n",
    "\n",
    "     \n",
    "    return qpp\n",
    "\n",
    "resuelve_prob_aceleracion(q, meca)"
   ]
  },
  {
   "cell_type": "markdown",
   "metadata": {},
   "source": [
    "### PASO 4: GRÁFICAS DE VELOCIDADES\n",
    "\n",
    "Vamos a representar por separado la gráfica de la velocidad en cada coordenada $(X_1, ~ Y_1, ~ X_2, ~ Y_2, ~ X_3 ~ e ~ Y_3)$.\n"
   ]
  },
  {
   "cell_type": "code",
   "execution_count": 4,
   "metadata": {},
   "outputs": [
    {
     "name": "stdout",
     "output_type": "stream",
     "text": [
      "VX1=\n",
      "array([-0.31148154, -0.30892427, -0.30129445, -0.28871736, -0.27139951,\n",
      "       -0.24962527, -0.22375218, -0.15636656, -0.1710288 , -0.18288274,\n",
      "       -0.19173374, -0.19743646, -0.19989727, -0.19907575, -0.1949854 ,\n",
      "       -0.18769337, -0.17731942, -0.16403387, -0.14805487,  0.23717751,\n",
      "        0.26105   ,  0.28063603,  0.295614  ,  0.30573797,  0.31084172,\n",
      "        0.31084142,  0.3057371 ,  0.29561256,  0.28063404,  0.2610475 ,\n",
      "        0.23717455,  0.14805685,  0.16403555,  0.17732078,  0.18769439,\n",
      "        0.19498605,  0.19907603,  0.19989717,  0.19743599,  0.19173291,\n",
      "        0.18288155,  0.17102728,  0.15636473, -0.22375536, -0.24962801,\n",
      "       -0.27140176, -0.28871908, -0.30129561, -0.30892486, -0.31148154])\n"
     ]
    },
    {
     "data": {
      "image/png": "[encoded data removed]",
      "text/plain": [
       "<Figure size 432x288 with 1 Axes>"
      ]
     },
     "metadata": {
      "needs_background": "light"
     },
     "output_type": "display_data"
    }
   ],
   "source": [
    "#PASO 4: VELOCIDAD DE X1\n",
    "\n",
    "def grafica_velocidad(q,meca):\n",
    "    \n",
    "    th = np.linspace(0,2*3.1416,50)\n",
    "\n",
    "    VX1 = np.zeros((50,0))\n",
    "\n",
    "    \n",
    "    i=0\n",
    "    for t in th:\n",
    "\n",
    "        q[6] = t\n",
    "        q[7] = t\n",
    "        \n",
    "        resuelve_prob_posicion (q,meca)\n",
    "        qp = resuelve_prob_velocidad (q,meca)\n",
    "\n",
    "        qp[6] = 1  #inicializar qp en 0 con qp[4] = 1 rad/s\n",
    "        qp[7] = 1\n",
    "\n",
    "        resuelve_prob_velocidad(q,meca)\n",
    "    \n",
    "        VX1 = np.append(VX1, qp[0])\n",
    "\n",
    "        i=i+1\n",
    "      \n",
    "    print (\"VX1=\")\n",
    "    pprint.pprint(VX1)\n",
    " \n",
    "    plt.plot(th,VX1)\n",
    "    plt.xlabel ('Angulo')\n",
    "    plt.ylabel ('Velocidad')\n",
    "    plt.title ('Velocidad de X1')\n",
    "\n",
    "    plt.show()\n",
    "    return \n",
    "\n",
    "grafica_velocidad (q,meca)"
   ]
  },
  {
   "cell_type": "code",
   "execution_count": 5,
   "metadata": {},
   "outputs": [
    {
     "name": "stdout",
     "output_type": "stream",
     "text": [
      "VY1=\n",
      "array([ 0.2       ,  0.198358  ,  0.19345894,  0.18538328,  0.17426362,\n",
      "        0.16028255,  0.14366962,  0.10040181,  0.10981633,  0.11742766,\n",
      "        0.12311082,  0.12677249,  0.12835256,  0.12782507,  0.12519868,\n",
      "        0.12051653,  0.11385549,  0.10532494,  0.09506494, -0.15228993,\n",
      "       -0.16761828, -0.18019432, -0.18981157, -0.1963121 , -0.19958917,\n",
      "       -0.19958898, -0.19631153, -0.18981064, -0.18019305, -0.16761667,\n",
      "       -0.15228803, -0.09506621, -0.10532601, -0.11385636, -0.12051718,\n",
      "       -0.1251991 , -0.12782525, -0.1283525 , -0.12677219, -0.12311028,\n",
      "       -0.1174269 , -0.10981535, -0.10040064,  0.14367166,  0.1602843 ,\n",
      "        0.17426507,  0.18538439,  0.19345969,  0.19835837,  0.2       ])\n"
     ]
    },
    {
     "data": {
      "image/png": "[encoded data removed]",
      "text/plain": [
       "<Figure size 432x288 with 1 Axes>"
      ]
     },
     "metadata": {
      "needs_background": "light"
     },
     "output_type": "display_data"
    }
   ],
   "source": [
    "#PASO 4: VELOCIDAD DE Y1\n",
    "\n",
    "def grafica_velocidad(q,meca):\n",
    "    \n",
    "    th = np.linspace(0,2*3.1416,50)\n",
    "\n",
    "    VY1 = np.zeros((50,0))\n",
    "\n",
    "    \n",
    "    i=0\n",
    "    for t in th:\n",
    "\n",
    "        q[6] = t\n",
    "        q[7] = t\n",
    "        \n",
    "        resuelve_prob_posicion (q,meca)\n",
    "        qp = resuelve_prob_velocidad (q,meca)\n",
    "\n",
    "        qp[6] = 1  #inicializar qp en 0 con qp[4] = 1 rad/s\n",
    "        qp[7] = 1\n",
    "\n",
    "        resuelve_prob_velocidad(q,meca)\n",
    "    \n",
    "        VY1 = np.append(VY1, qp[1])\n",
    "\n",
    "        i=i+1\n",
    "      \n",
    "    print (\"VY1=\")\n",
    "    pprint.pprint(VY1)\n",
    " \n",
    "    plt.plot(th,VY1)\n",
    "    plt.xlabel ('Angulo')\n",
    "    plt.ylabel ('Velocidad')\n",
    "    plt.title ('Velocidad de Y1')\n",
    "\n",
    "    plt.show()\n",
    "    return \n",
    "\n",
    "grafica_velocidad (q,meca)"
   ]
  },
  {
   "cell_type": "code",
   "execution_count": 6,
   "metadata": {},
   "outputs": [
    {
     "name": "stdout",
     "output_type": "stream",
     "text": [
      "VX2=\n",
      "array([-0.31148154, -0.30892427, -0.30129445, -0.28871736, -0.27139951,\n",
      "       -0.24962527, -0.22375218, -0.15636656, -0.1710288 , -0.18288274,\n",
      "       -0.19173374, -0.19743646, -0.19989727, -0.19907575, -0.1949854 ,\n",
      "       -0.18769337, -0.17731942, -0.16403387, -0.14805487, -0.150212  ,\n",
      "       -0.12986007, -0.10737584, -0.08312849, -0.05751617, -0.03095943,\n",
      "       -0.00389433,  0.02323471,  0.04998224,  0.07590905,  0.10058944,\n",
      "        0.12361814,  0.14805685,  0.16403555,  0.17732078,  0.18769439,\n",
      "        0.19498605,  0.19907603,  0.19989717,  0.19743599,  0.19173291,\n",
      "        0.18288155,  0.17102728,  0.15636473, -0.22375536, -0.24962801,\n",
      "       -0.27140176, -0.28871908, -0.30129561, -0.30892486, -0.31148154])\n"
     ]
    },
    {
     "data": {
      "image/png": "[encoded data removed]",
      "text/plain": [
       "<Figure size 432x288 with 1 Axes>"
      ]
     },
     "metadata": {
      "needs_background": "light"
     },
     "output_type": "display_data"
    }
   ],
   "source": [
    "#PASO 4: VELOCIDAD DE X2\n",
    "\n",
    "def grafica_velocidad(q,meca):\n",
    "    \n",
    "    th = np.linspace(0,2*3.1416,50)\n",
    "\n",
    "    VX2 = np.zeros((50,0))\n",
    "\n",
    "    \n",
    "    i=0\n",
    "    for t in th:\n",
    "\n",
    "        q[6] = t\n",
    "        q[7] = t\n",
    "        \n",
    "        resuelve_prob_posicion (q,meca)\n",
    "        qp = resuelve_prob_velocidad (q,meca)\n",
    "\n",
    "        qp[6] = 1  #inicializar qp en 0 con qp[4] = 1 rad/s\n",
    "        qp[7] = 1\n",
    "\n",
    "        resuelve_prob_velocidad(q,meca)\n",
    "    \n",
    "        VX2 = np.append(VX2, qp[2])\n",
    "\n",
    "        i=i+1\n",
    "      \n",
    "    print (\"VX2=\")\n",
    "    pprint.pprint(VX2)\n",
    " \n",
    "    plt.plot(th,VX2)\n",
    "    plt.xlabel ('Angulo')\n",
    "    plt.ylabel ('Velocidad')\n",
    "    plt.title ('Velocidad de X2')\n",
    "\n",
    "    plt.show()\n",
    "    return \n",
    "\n",
    "grafica_velocidad (q,meca)"
   ]
  },
  {
   "cell_type": "code",
   "execution_count": 7,
   "metadata": {},
   "outputs": [
    {
     "name": "stdout",
     "output_type": "stream",
     "text": [
      "VY2=\n",
      "array([ 0.2       ,  0.198358  ,  0.19345894,  0.18538328,  0.17426362,\n",
      "        0.16028255,  0.14366962,  0.10040181,  0.10981633,  0.11742766,\n",
      "        0.12311082,  0.12677249,  0.12835256,  0.12782507,  0.12519868,\n",
      "        0.12051653,  0.11385549,  0.10532494,  0.09506494,  0.07136951,\n",
      "        0.05807376,  0.04382443,  0.02885551,  0.01341278, -0.00225019,\n",
      "       -0.01787621, -0.0332087 , -0.04799591, -0.06199502, -0.07497617,\n",
      "       -0.0867262 , -0.09506621, -0.10532601, -0.11385636, -0.12051718,\n",
      "       -0.1251991 , -0.12782525, -0.1283525 , -0.12677219, -0.12311028,\n",
      "       -0.1174269 , -0.10981535, -0.10040064,  0.14367166,  0.1602843 ,\n",
      "        0.17426507,  0.18538439,  0.19345969,  0.19835837,  0.2       ])\n"
     ]
    },
    {
     "data": {
      "image/png": "[encoded data removed]",
      "text/plain": [
       "<Figure size 432x288 with 1 Axes>"
      ]
     },
     "metadata": {
      "needs_background": "light"
     },
     "output_type": "display_data"
    }
   ],
   "source": [
    "#PASO 4: VELOCIDAD DE Y2\n",
    "\n",
    "def grafica_velocidad(q,meca):\n",
    "    \n",
    "    th = np.linspace(0,2*3.1416,50)\n",
    "\n",
    "    VY2 = np.zeros((50,0))\n",
    "\n",
    "    \n",
    "    i=0\n",
    "    for t in th:\n",
    "\n",
    "        q[6] = t\n",
    "        q[7] = t\n",
    "        \n",
    "        resuelve_prob_posicion (q,meca)\n",
    "        qp = resuelve_prob_velocidad (q,meca)\n",
    "\n",
    "        qp[6] = 1  #inicializar qp en 0 con qp[4] = 1 rad/s\n",
    "        qp[7] = 1\n",
    "\n",
    "        resuelve_prob_velocidad(q,meca)\n",
    "    \n",
    "        VY2 = np.append(VY2, qp[3])\n",
    "\n",
    "        i=i+1\n",
    "      \n",
    "    print (\"VY2=\")\n",
    "    pprint.pprint(VY2)\n",
    " \n",
    "    plt.plot(th,VY2)\n",
    "    plt.xlabel ('Angulo')\n",
    "    plt.ylabel ('Velocidad')\n",
    "    plt.title ('Velocidad de Y2')\n",
    "\n",
    "    plt.show()\n",
    "    return \n",
    "\n",
    "grafica_velocidad (q,meca)"
   ]
  },
  {
   "cell_type": "code",
   "execution_count": 8,
   "metadata": {},
   "outputs": [
    {
     "name": "stdout",
     "output_type": "stream",
     "text": [
      "VX3=\n",
      "array([-0.31148154, -0.30892427, -0.30129445, -0.28871736, -0.27139951,\n",
      "       -0.24962527, -0.22375218, -0.15636656, -0.1710288 , -0.18288274,\n",
      "       -0.19173374, -0.19743646, -0.19989727, -0.19907575, -0.1949854 ,\n",
      "       -0.18769337, -0.17731942, -0.16403387, -0.14805487, -0.12964481,\n",
      "       -0.10910598, -0.08677561, -0.06302039, -0.03823037, -0.01281261,\n",
      "        0.01281554,  0.03823326,  0.06302318,  0.08677826,  0.10910844,\n",
      "        0.12964705,  0.14805685,  0.16403555,  0.17732078,  0.18769439,\n",
      "        0.19498605,  0.19907603,  0.19989717,  0.19743599,  0.19173291,\n",
      "        0.18288155,  0.17102728,  0.15636473, -0.22375536, -0.24962801,\n",
      "       -0.27140176, -0.28871908, -0.30129561, -0.30892486, -0.31148154])\n"
     ]
    },
    {
     "data": {
      "image/png": "[encoded data removed]",
      "text/plain": [
       "<Figure size 432x288 with 1 Axes>"
      ]
     },
     "metadata": {
      "needs_background": "light"
     },
     "output_type": "display_data"
    }
   ],
   "source": [
    "#PASO 4: VELOCIDAD DE X3\n",
    "\n",
    "def grafica_velocidad(q,meca):\n",
    "    \n",
    "    th = np.linspace(0,2*3.1416,50)\n",
    "\n",
    "    VX3 = np.zeros((50,0))\n",
    "\n",
    "    \n",
    "    i=0\n",
    "    for t in th:\n",
    "\n",
    "        q[6] = t\n",
    "        q[7] = t\n",
    "        \n",
    "        resuelve_prob_posicion (q,meca)\n",
    "        qp = resuelve_prob_velocidad (q,meca)\n",
    "\n",
    "        qp[6] = 1  #inicializar qp en 0 con qp[4] = 1 rad/s\n",
    "        qp[7] = 1\n",
    "\n",
    "        resuelve_prob_velocidad(q,meca)\n",
    "    \n",
    "        VX3 = np.append(VX3, qp[4])\n",
    "\n",
    "        i=i+1\n",
    "      \n",
    "    print (\"VX3=\")\n",
    "    pprint.pprint(VX3)\n",
    " \n",
    "    plt.plot(th,VX3)\n",
    "    plt.xlabel ('Angulo')\n",
    "    plt.ylabel ('Velocidad')\n",
    "    plt.title ('Velocidad de X3')\n",
    "\n",
    "    plt.show()\n",
    "    return \n",
    "\n",
    "grafica_velocidad (q,meca)"
   ]
  },
  {
   "cell_type": "code",
   "execution_count": 9,
   "metadata": {},
   "outputs": [
    {
     "name": "stdout",
     "output_type": "stream",
     "text": [
      "VY3=\n",
      "array([ 0.2       ,  0.198358  ,  0.19345894,  0.18538328,  0.17426362,\n",
      "        0.16028255,  0.14366962,  0.10040181,  0.10981633,  0.11742766,\n",
      "        0.12311082,  0.12677249,  0.12835256,  0.12782507,  0.12519868,\n",
      "        0.12051653,  0.11385549,  0.10532494,  0.09506494,  0.08324398,\n",
      "        0.07005614,  0.05571798,  0.04046493,  0.02454744,  0.00822688,\n",
      "       -0.00822876, -0.02454929, -0.04046672, -0.05571968, -0.07005772,\n",
      "       -0.08324541, -0.09506621, -0.10532601, -0.11385636, -0.12051718,\n",
      "       -0.1251991 , -0.12782525, -0.1283525 , -0.12677219, -0.12311028,\n",
      "       -0.1174269 , -0.10981535, -0.10040064,  0.14367166,  0.1602843 ,\n",
      "        0.17426507,  0.18538439,  0.19345969,  0.19835837,  0.2       ])\n"
     ]
    },
    {
     "data": {
      "image/png": "[encoded data removed]",
      "text/plain": [
       "<Figure size 432x288 with 1 Axes>"
      ]
     },
     "metadata": {
      "needs_background": "light"
     },
     "output_type": "display_data"
    }
   ],
   "source": [
    "#PASO 4: VELOCIDAD DE Y3\n",
    "\n",
    "def grafica_velocidad(q,meca):\n",
    "    \n",
    "    th = np.linspace(0,2*3.1416,50)\n",
    "\n",
    "    VY3 = np.zeros((50,0))\n",
    "\n",
    "    \n",
    "    i=0\n",
    "    for t in th:\n",
    "\n",
    "        q[6] = t\n",
    "        q[7] = t\n",
    "        \n",
    "        resuelve_prob_posicion (q,meca)\n",
    "        qp = resuelve_prob_velocidad (q,meca)\n",
    "\n",
    "        qp[6] = 1  #inicializar qp en 0 con qp[4] = 1 rad/s\n",
    "        qp[7] = 1\n",
    "\n",
    "        resuelve_prob_velocidad(q,meca)\n",
    "    \n",
    "        VY3 = np.append(VY3, qp[5])\n",
    "\n",
    "        i=i+1\n",
    "      \n",
    "    print (\"VY3=\")\n",
    "    pprint.pprint(VY3)\n",
    " \n",
    "    plt.plot(th,VY3)\n",
    "    plt.xlabel ('Angulo')\n",
    "    plt.ylabel ('Velocidad')\n",
    "    plt.title ('Velocidad de Y3')\n",
    "\n",
    "    plt.show()\n",
    "    return \n",
    "\n",
    "grafica_velocidad (q,meca)"
   ]
  },
  {
   "cell_type": "markdown",
   "metadata": {},
   "source": [
    "### PASO 5: GRÁFICAS ACELERACIONES\n",
    "\n",
    "Haremos el mismo procedimiento que para la velocidad, representando en celdas separadas la aceleración de cada coordenada."
   ]
  },
  {
   "cell_type": "code",
   "execution_count": 10,
   "metadata": {},
   "outputs": [
    {
     "name": "stdout",
     "output_type": "stream",
     "text": [
      "AX1=\n",
      "array([ 1.30380756,  1.30313453,  1.28499075,  1.24907791,  1.19503548,\n",
      "        1.12250868,  1.03123565,  0.75689326,  0.83440839,  0.89822248,\n",
      "        0.94728772,  0.98079844,  0.99820441,  0.99921981,  0.98382798,\n",
      "        0.95228164,  0.90509879,  0.84305417,  0.76716656, -1.29254439,\n",
      "       -1.44939352, -1.58201102, -1.68686069, -1.76111567, -1.80277706,\n",
      "       -1.81075781, -1.78492691, -1.7261115 , -1.636057  , -1.51734739,\n",
      "       -1.37329051, -0.71339249, -0.79729339, -0.8681027 , -0.92465772,\n",
      "       -0.96602982, -0.99153966, -1.00076837, -0.99356441, -0.97004608,\n",
      "       -0.93059954, -0.87587251, -0.80676362,  0.94457143,  1.04799923,\n",
      "        1.13390441,  1.20232916,  1.25339205,  1.28720483,  1.30380848])\n"
     ]
    },
    {
     "data": {
      "image/png": "[encoded data removed]",
      "text/plain": [
       "<Figure size 432x288 with 1 Axes>"
      ]
     },
     "metadata": {
      "needs_background": "light"
     },
     "output_type": "display_data"
    }
   ],
   "source": [
    "#PASO 5: ACELERACION DE X1\n",
    "\n",
    "def grafica_aceleracion(q,meca):\n",
    "    \n",
    "    th = np.linspace(0,2*3.1416,50)\n",
    "    AX1 = np.zeros((50,0))\n",
    "\n",
    "    \n",
    "    i=0\n",
    "    for t in th:\n",
    "\n",
    "        q[6] = t\n",
    "        q[7] = t\n",
    "        \n",
    "        resuelve_prob_posicion (q,meca)\n",
    "        qpp = resuelve_prob_aceleracion(q,meca)\n",
    "\n",
    "        qpp[6] = 1  #inicializar qp en 0 con qpp[6] = 1 rad/s**2\n",
    "        qpp[7] = 1\n",
    "\n",
    "        resuelve_prob_aceleracion(q,meca)\n",
    "        \n",
    "        \n",
    "        AX1 = np.append(AX1, qpp[0])\n",
    "\n",
    "        i=i+1\n",
    "      \n",
    "    print (\"AX1=\")\n",
    "    pprint.pprint(AX1)\t\n",
    " \n",
    "    plt.plot(th,AX1)\n",
    "    plt.xlabel ('Angulo')\n",
    "    plt.ylabel ('Aceleracion')\n",
    "    plt.title ('Aceleracion (X1)')\t\n",
    "\n",
    "    plt.show()\n",
    "    return \n",
    "\n",
    "grafica_aceleracion (q,meca)\n"
   ]
  },
  {
   "cell_type": "code",
   "execution_count": 11,
   "metadata": {},
   "outputs": [
    {
     "name": "stdout",
     "output_type": "stream",
     "text": [
      "AY1=\n",
      "array([-1.        , -0.99690507, -0.97744092, -0.94192713, -0.89094686,\n",
      "       -0.82533719, -0.74617545, -0.52703208, -0.58486063, -0.63287628,\n",
      "       -0.66994567, -0.69518747, -0.70800474, -0.70810662, -0.69551838,\n",
      "       -0.67057927, -0.63392823, -0.58647841, -0.52938183,  0.73552069,\n",
      "        0.81627018,  0.88361648,  0.93645375,  0.9739144 ,  0.99538333,\n",
      "        1.00050802,  0.98920432,  0.96165783,  0.91832088,  0.85990505,\n",
      "        0.78736954,  0.42127322,  0.46677572,  0.50463055,  0.53458899,\n",
      "        0.55647048,  0.57014515,  0.57552099,  0.57253665,  0.56116074,\n",
      "        0.54139756,  0.51329898,  0.47698142, -0.69053139, -0.77749751,\n",
      "       -0.85169709, -0.91191176, -0.9571528 , -0.98667734, -1.00000059])\n"
     ]
    },
    {
     "data": {
      "image/png": "[encoded data removed]",
      "text/plain": [
       "<Figure size 432x288 with 1 Axes>"
      ]
     },
     "metadata": {
      "needs_background": "light"
     },
     "output_type": "display_data"
    }
   ],
   "source": [
    "#PASO 5: ACELERACION DE Y1\n",
    "\n",
    "def grafica_aceleracion(q,meca):\n",
    "    \n",
    "    th = np.linspace(0,2*3.1416,50)\n",
    "    \n",
    "    AY1 = np.zeros((50,0))\n",
    "\n",
    "    \n",
    "    i=0\n",
    "    for t in th:\n",
    "\n",
    "        q[6] = t\n",
    "        q[7] = t\n",
    "        \n",
    "        resuelve_prob_posicion (q,meca)\n",
    "        qpp = resuelve_prob_aceleracion(q,meca)\n",
    "\n",
    "        qpp[6] = 1  #inicializar qp en 0 con qpp[6] = 1 rad/s**2\n",
    "        qpp[7] = 1\n",
    "\n",
    "        resuelve_prob_aceleracion(q,meca)\n",
    "        \n",
    "        \n",
    "        AY1 = np.append(AY1, qpp[1])\n",
    "\n",
    "        i=i+1\n",
    "      \n",
    "    print (\"AY1=\")\n",
    "    pprint.pprint(AY1)\t\n",
    " \n",
    "    plt.plot(th,AY1)\n",
    "    plt.xlabel ('Angulo')\n",
    "    plt.ylabel ('Aceleracion')\n",
    "    plt.title ('Aceleracion (Y1)')\t\n",
    "\n",
    "    plt.show()\n",
    "    return \n",
    "\n",
    "grafica_aceleracion (q,meca)"
   ]
  },
  {
   "cell_type": "code",
   "execution_count": 12,
   "metadata": {},
   "outputs": [
    {
     "name": "stdout",
     "output_type": "stream",
     "text": [
      "AX2=\n",
      "array([ 1.6196279 ,  1.61361093,  1.57981095,  1.51902731,  1.43263399,\n",
      "        1.32251412,  1.19097705,  0.69870762,  0.76511454,  0.81928182,\n",
      "        0.86076039,  0.88921088,  0.90439186,  0.90615282,  0.8944318 ,\n",
      "        0.86925798,  0.83075924,  0.77917415,  0.71486829,  0.50029919,\n",
      "        0.37960811,  0.25454307,  0.1279381 ,  0.0023134 , -0.12018384,\n",
      "       -0.23781067, -0.34923274, -0.45350441, -0.55002792, -0.63849586,\n",
      "       -0.71882145, -0.77046485, -0.86766543, -0.95064234, -1.01740602,\n",
      "       -1.06632821, -1.09620903, -1.10632711, -1.09646929, -1.0669377 ,\n",
      "       -1.01853398, -0.95252175, -0.87057001,  1.1043175 ,  1.24800918,\n",
      "        1.37150697,  1.47228187,  1.54821459,  1.59768245,  1.61962881])\n"
     ]
    },
    {
     "data": {
      "image/png": "[encoded data removed]",
      "text/plain": [
       "<Figure size 432x288 with 1 Axes>"
      ]
     },
     "metadata": {
      "needs_background": "light"
     },
     "output_type": "display_data"
    }
   ],
   "source": [
    "#PASO 5: ACELERACION DE X2\n",
    "\n",
    "def grafica_aceleracion(q,meca):\n",
    "    \n",
    "    th = np.linspace(0,2*3.1416,50)\n",
    "    \n",
    "    AX2 = np.zeros((50,0))\n",
    "\n",
    "    \n",
    "    i=0\n",
    "    for t in th:\n",
    "\n",
    "        q[6] = t\n",
    "        q[7] = t\n",
    "        \n",
    "        resuelve_prob_posicion (q,meca)\n",
    "        qpp = resuelve_prob_aceleracion(q,meca)\n",
    "\n",
    "        qpp[6] = 1  #inicializar qp en 0 con qpp[6] = 1 rad/s**2\n",
    "        qpp[7] = 1\n",
    "\n",
    "        resuelve_prob_aceleracion(q,meca)\n",
    "        \n",
    "        \n",
    "        AX2 = np.append(AX2, qpp[2])\n",
    "\n",
    "        i=i+1\n",
    "      \n",
    "    print (\"AX2=\")\n",
    "    pprint.pprint(AX2)\t\n",
    " \n",
    "    plt.plot(th,AX2)\n",
    "    plt.xlabel ('Angulo')\n",
    "    plt.ylabel ('Aceleracion')\n",
    "    plt.title ('Aceleracion (X2)')\t\n",
    "\n",
    "    plt.show()\n",
    "    return \n",
    "\n",
    "grafica_aceleracion (q,meca)"
   ]
  },
  {
   "cell_type": "code",
   "execution_count": 13,
   "metadata": {},
   "outputs": [
    {
     "name": "stdout",
     "output_type": "stream",
     "text": [
      "AY2=\n",
      "array([-1.15668131, -1.15112783, -1.12443378, -1.07734919, -1.01115187,\n",
      "       -0.92760396, -0.8288913 , -0.49019256, -0.54060637, -0.58210663,\n",
      "       -0.61400476, -0.63577502, -0.64706031, -0.6476759 , -0.63761148,\n",
      "       -0.61703162, -0.5862747 , -0.54584994, -0.49643199, -0.45028614,\n",
      "       -0.40565119, -0.35240222, -0.29070571, -0.22111145, -0.14456742,\n",
      "       -0.06241147,  0.02365982,  0.11164333,  0.19930003,  0.28424049,\n",
      "        0.36402116,  0.45146843,  0.50365761,  0.54755115,  0.58252323,\n",
      "        0.60808373,  0.62387755,  0.62968364,  0.62541452,  0.6111169 ,\n",
      "        0.5869734 ,  0.5533051 ,  0.51057415, -0.77324952, -0.87976645,\n",
      "       -0.97190403, -1.04733537, -1.10414675, -1.14090066, -1.1566819 ])\n"
     ]
    },
    {
     "data": {
      "image/png": "[encoded data removed]",
      "text/plain": [
       "<Figure size 432x288 with 1 Axes>"
      ]
     },
     "metadata": {
      "needs_background": "light"
     },
     "output_type": "display_data"
    }
   ],
   "source": [
    "#PASO 5: ACELERACION DE Y2\n",
    "\n",
    "def grafica_aceleracion(q,meca):\n",
    "    \n",
    "    th = np.linspace(0,2*3.1416,50)\n",
    "    \n",
    "    AY2 = np.zeros((50,0))\n",
    "\n",
    "    \n",
    "    i=0\n",
    "    for t in th:\n",
    "\n",
    "        q[6] = t\n",
    "        q[7] = t\n",
    "        \n",
    "        resuelve_prob_posicion (q,meca)\n",
    "        qpp = resuelve_prob_aceleracion(q,meca)\n",
    "\n",
    "        qpp[6] = 1  #inicializar qp en 0 con qpp[6] = 1 rad/s**2\n",
    "        qpp[7] = 1\n",
    "\n",
    "        resuelve_prob_aceleracion(q,meca)\n",
    "        \n",
    "        \n",
    "        AY2 = np.append(AY2, qpp[3])\n",
    "\n",
    "        i=i+1\n",
    "      \n",
    "    print (\"AY2=\")\n",
    "    pprint.pprint(AY2)\t\n",
    " \n",
    "    plt.plot(th,AY2)\n",
    "    plt.xlabel ('Angulo')\n",
    "    plt.ylabel ('Aceleracion')\n",
    "    plt.title ('Aceleracion (Y2)')\t\n",
    "\n",
    "    plt.show()\n",
    "    return \n",
    "\n",
    "grafica_aceleracion (q,meca)"
   ]
  },
  {
   "cell_type": "code",
   "execution_count": 14,
   "metadata": {},
   "outputs": [
    {
     "name": "stdout",
     "output_type": "stream",
     "text": [
      "AX3=\n",
      "array([ 1.81100789,  1.80204079,  1.75955732,  1.68485127,  1.58009956,\n",
      "        1.44826436,  1.29296318,  0.75689326,  0.83440839,  0.89822248,\n",
      "        0.94728772,  0.98079844,  0.99820441,  0.99921981,  0.98382798,\n",
      "        0.95228164,  0.90509879,  0.84305417,  0.76716656,  0.62229509,\n",
      "        0.52370868,  0.41652294,  0.30249788,  0.18350578,  0.06150052,\n",
      "       -0.06151459, -0.18351963, -0.30251127, -0.41653565, -0.5237205 ,\n",
      "       -0.62230584, -0.71339249, -0.79729339, -0.8681027 , -0.92465772,\n",
      "       -0.96602982, -0.99153966, -1.00076837, -0.99356441, -0.97004608,\n",
      "       -0.93059954, -0.87587251, -0.80676362,  1.20630641,  1.37376205,\n",
      "        1.51897486,  1.6381077 ,  1.72796228,  1.78611298,  1.8110088 ])\n"
     ]
    },
    {
     "data": {
      "image/png": "[encoded data removed]",
      "text/plain": [
       "<Figure size 432x288 with 1 Axes>"
      ]
     },
     "metadata": {
      "needs_background": "light"
     },
     "output_type": "display_data"
    }
   ],
   "source": [
    "#PASO 5: ACELERACION DE X3\n",
    "\n",
    "def grafica_aceleracion(q,meca):\n",
    "    \n",
    "    th = np.linspace(0,2*3.1416,50)\n",
    "    \n",
    "    AX3 = np.zeros((50,0))\n",
    "\n",
    "    \n",
    "    i=0\n",
    "    for t in th:\n",
    "\n",
    "        q[6] = t\n",
    "        q[7] = t\n",
    "        \n",
    "        resuelve_prob_posicion (q,meca)\n",
    "        qpp = resuelve_prob_aceleracion(q,meca)\n",
    "\n",
    "        qpp[6] = 1  #inicializar qp en 0 con qpp[6] = 1 rad/s**2\n",
    "        qpp[7] = 1\n",
    "\n",
    "        resuelve_prob_aceleracion(q,meca)\n",
    "        \n",
    "        \n",
    "        AX3 = np.append(AX3, qpp[4])\n",
    "\n",
    "        i=i+1\n",
    "      \n",
    "    print (\"AX3=\")\n",
    "    pprint.pprint(AX3)\t\n",
    " \n",
    "    plt.plot(th,AX3)\n",
    "    plt.xlabel ('Angulo')\n",
    "    plt.ylabel ('Aceleracion')\n",
    "    plt.title ('Aceleracion (X3)')\t\n",
    "\n",
    "    plt.show()\n",
    "    return \n",
    "\n",
    "grafica_aceleracion (q,meca)"
   ]
  },
  {
   "cell_type": "code",
   "execution_count": 15,
   "metadata": {},
   "outputs": [
    {
     "name": "stdout",
     "output_type": "stream",
     "text": [
      "AY3=\n",
      "array([-1.        , -0.99690507, -0.97744092, -0.94192713, -0.89094686,\n",
      "       -0.82533719, -0.74617545, -0.44495908, -0.48667429, -0.52060776,\n",
      "       -0.54654723, -0.56433941, -0.57387463, -0.57507671, -0.56789898,\n",
      "       -0.55232674, -0.52838627, -0.49615931, -0.45580214, -0.37136175,\n",
      "       -0.31629021, -0.25480832, -0.18756597, -0.1153747 , -0.0392135 ,\n",
      "        0.03977371,  0.12028998,  0.20090652,  0.28009323,  0.35625724,\n",
      "        0.42778829,  0.49485488,  0.55709668,  0.61017412,  0.6528428 ,\n",
      "        0.68409075,  0.70317543,  0.70965097,  0.70338409,  0.6845581 ,\n",
      "        0.65366463,  0.61148357,  0.5590525 , -0.69053139, -0.77749751,\n",
      "       -0.85169709, -0.91191176, -0.9571528 , -0.98667734, -1.00000059])\n"
     ]
    },
    {
     "data": {
      "image/png": "[encoded data removed]",
      "text/plain": [
       "<Figure size 432x288 with 1 Axes>"
      ]
     },
     "metadata": {
      "needs_background": "light"
     },
     "output_type": "display_data"
    }
   ],
   "source": [
    "#PASO 5: ACELERACION DE Y3\n",
    "\n",
    "def grafica_aceleracion(q,meca):\n",
    "    \n",
    "    th = np.linspace(0,2*3.1416,50)\n",
    "    \n",
    "    AY3 = np.zeros((50,0))\n",
    "\n",
    "    \n",
    "    i=0\n",
    "    for t in th:\n",
    "\n",
    "        q[6] = t\n",
    "        q[7] = t\n",
    "        \n",
    "        resuelve_prob_posicion (q,meca)\n",
    "        qpp = resuelve_prob_aceleracion(q,meca)\n",
    "\n",
    "        qpp[6] = 1  #inicializar qp en 0 con qpp[6] = 1 rad/s**2\n",
    "        qpp[7] = 1\n",
    "\n",
    "        resuelve_prob_aceleracion(q,meca)\n",
    "        \n",
    "        \n",
    "        AY3 = np.append(AY3, qpp[5])\n",
    "\n",
    "        i=i+1\n",
    "      \n",
    "    print (\"AY3=\")\n",
    "    pprint.pprint(AY3)\t\n",
    " \n",
    "    plt.plot(th,AY3)\n",
    "    plt.xlabel ('Angulo')\n",
    "    plt.ylabel ('Aceleracion')\n",
    "    plt.title ('Aceleracion (Y3)')\t\n",
    "\n",
    "    plt.show()\n",
    "    return \n",
    "\n",
    "grafica_aceleracion (q,meca)"
   ]
  }
 ],
 "metadata": {
  "kernelspec": {
   "display_name": "Python 3",
   "language": "python",
   "name": "python3"
  },
  "language_info": {
   "codemirror_mode": {
    "name": "ipython",
    "version": 3
   },
   "file_extension": ".py",
   "mimetype": "text/x-python",
   "name": "python",
   "nbconvert_exporter": "python",
   "pygments_lexer": "ipython3",
   "version": "3.7.0"
  }
 },
 "nbformat": 4,
 "nbformat_minor": 2
}
