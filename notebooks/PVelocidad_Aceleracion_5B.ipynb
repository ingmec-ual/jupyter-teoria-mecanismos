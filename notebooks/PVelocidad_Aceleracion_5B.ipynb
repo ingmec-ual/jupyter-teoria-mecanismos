{
 "cells": [
  {
   "cell_type": "markdown",
   "metadata": {},
   "source": [
    "# MECANISMO CUATRO BARRAS \n",
    "\n",
    "## PROBLEMAS VELOCIDAD Y ACELERACIÓN"
   ]
  },
  {
   "cell_type": "markdown",
   "metadata": {},
   "source": [
    "### PASO 1: MATRIZ JACOBIANA \n",
    "\n",
    "Para resolver el problema velocidad, necesitamos otra vez la matriz jacobiana. El método de construcción aparece detallado en el notebook Problema_Posición_4B, por lo que para este caso copiaremos el código de los pasos realizados para poder conseguirla."
   ]
  },
  {
   "cell_type": "code",
   "execution_count": 1,
   "metadata": {},
   "outputs": [
    {
     "name": "stdout",
     "output_type": "stream",
     "text": [
      "MECANISMO DE CUATRO BARRAS\n",
      "=============================\n",
      "Introduce longitud L1:1\n",
      "Introduce longitud L2:1\n",
      "Introduce longitud L3:1\n",
      "Introduce longitud L4: 1\n",
      "Introduce angulo inicial theta:0.2\n",
      "Introduce angulo inicial beta: 1\n",
      "Introduce coordenada en x del punto B:5\n",
      "q: [[0.1]\n",
      " [1. ]\n",
      " [1. ]\n",
      " [0.2]\n",
      " [2. ]\n",
      " [0.1]\n",
      " [0.2]\n",
      " [1. ]]\n",
      "Jacob=\n",
      "array([[ 0.2       ,  2.        ,  0.        ,  0.        ,  0.        ,\n",
      "         0.        ,  0.        ,  0.        ],\n",
      "       [-1.8       ,  1.6       ,  1.8       , -1.6       ,  0.        ,\n",
      "         0.        ,  0.        ,  0.        ],\n",
      "       [ 0.        ,  0.        , -2.        ,  0.2       ,  2.        ,\n",
      "        -0.2       ,  0.        ,  0.        ],\n",
      "       [ 0.        ,  0.        ,  0.        ,  0.        , -6.        ,\n",
      "         0.2       ,  0.        ,  0.        ],\n",
      "       [ 0.        ,  1.        ,  0.        ,  0.        ,  0.        ,\n",
      "         0.        , -0.98006658,  0.        ],\n",
      "       [ 0.        ,  0.        ,  0.        ,  0.        ,  1.        ,\n",
      "         0.        ,  0.        ,  0.84147098],\n",
      "       [ 0.        ,  0.        ,  0.        ,  0.        ,  0.        ,\n",
      "         0.        ,  1.        ,  0.        ],\n",
      "       [ 0.        ,  0.        ,  0.        ,  0.        ,  0.        ,\n",
      "         0.        ,  0.        ,  1.        ]])\n"
     ]
    }
   ],
   "source": [
    "import numpy as np\n",
    "import math as math\n",
    "import array as arr\n",
    "import pprint  # para depurar\n",
    "import matplotlib.pyplot as plt  #Para graficas\n",
    "import matplotlib.animation as animation\n",
    "import scipy.integrate as integrate \n",
    "import os\n",
    "from time import sleep\n",
    "#%matplotlib inline (Para notebook)\n",
    "\n",
    "\n",
    "\n",
    "print ('MECANISMO DE CUATRO BARRAS')\n",
    "print ('=============================')\n",
    "# Lectura de datos por teclado\n",
    "\n",
    "meca = {} # dictionary vacio, con propiedades de mecanismo\n",
    "\n",
    "meca[\"L1\"] = float (input ('Introduce longitud L1:'))\n",
    "meca[\"L2\"] = float (input ('Introduce longitud L2:'))\n",
    "meca[\"L3\"] = float (input ('Introduce longitud L3:'))\n",
    "meca[\"L4\"] = float (input ('Introduce longitud L4: '))\n",
    "meca[\"theta\"] = float (input ('Introduce angulo inicial theta:')) #En rad\n",
    "meca[\"beta\"] = float (input('Introduce angulo inicial beta: ')) #En rad\n",
    "meca[\"XB\"] = float (input ('Introduce coordenada en x del punto B:'))\n",
    "meca[\"XA\"] = 0\n",
    "meca[\"YA\"] = 0\n",
    "meca[\"YB\"] = 0\n",
    "\n",
    "# Defino posicion inicial:\n",
    "q = np.array ([[0.1], [meca[\"L1\"]], [1], [0.2], [2], [0.1], [meca[\"theta\"]], [meca[\"beta\"]]])\n",
    "print('q: ' + str(q))\n",
    "\n",
    "# JACOBIANO\n",
    "def jacob_Phiq(q,meca):\n",
    "    #Inicializa a cero la matriz jacobiana\n",
    "    Jacob = np.zeros((8,8))\n",
    "\n",
    "    #Extraer coordenadas\n",
    "\n",
    "    X1 = q[0]\n",
    "    Y1 = q[1]\n",
    "    X2 = q[2]\n",
    "    Y2 = q[3]\n",
    "    X3 = q[4]\n",
    "    Y3 = q[5]\n",
    "    theta = q[6]\n",
    "    beta = q[7]\n",
    "\n",
    "    #Montar matriz\n",
    "\n",
    "    Jacob[0,0] = 2*X1\n",
    "    Jacob[0,1] = 2*Y1\n",
    "    Jacob[1,0] = -2*(X2-X1)\n",
    "    Jacob[1,1] = -2*(Y2-Y1)\n",
    "    Jacob[1,2] = 2*(X2-X1)\n",
    "    Jacob[1,3] = 2*(Y2-Y1)\n",
    "    Jacob[2,2] = -2*(X3-X2)\n",
    "    Jacob[2,3] = -2*(Y3-Y2)\n",
    "    Jacob[2,4] = 2*(X3-X2)\n",
    "    Jacob[2,5] = 2*(Y3-Y2)\n",
    "    Jacob[3,4] = -2*(meca[\"XB\"]-X3)\n",
    "    Jacob[3,5] = -2*(meca[\"YB\"]-Y3)\n",
    "\n",
    "    if (math.cos(theta) < (math.sqrt(2)/2) ):\n",
    "        Jacob[4,6] = meca[\"L1\"]*math.sin(theta)\n",
    "        Jacob[4,0] = 1\n",
    "    else:\n",
    "        Jacob[4,6] = -meca[\"L1\"]*math.cos(theta)\n",
    "        Jacob[4,1] = 1\n",
    "\n",
    "\n",
    "    if (math.cos(beta) < (math.sqrt(2)/2) ):\n",
    "        Jacob[5,7] = meca[\"L4\"]*math.sin(beta)\n",
    "        Jacob[5,4] = 1\n",
    "    else:\n",
    "        Jacob[5,7] = -meca[\"L4\"]*math.cos(beta)\n",
    "        Jacob[5,5] = 1\n",
    "\n",
    "    Jacob[6,6] = 1\n",
    "    Jacob[7,7] = 1\n",
    "\n",
    "    return Jacob\n",
    "\n",
    "\n",
    "def Phi (q,meca):\n",
    "    #Inicializa a cero Phi\n",
    "    Phi = np.zeros((8,1))\n",
    "\n",
    "    #Extraer coordenadas\n",
    "    X1 = q[0]\n",
    "    Y1 = q[1]\n",
    "    X2 = q[2]\n",
    "    Y2 = q[3]\n",
    "    X3 = q[4]\n",
    "    Y3 = q[5]\n",
    "    theta = q[6]\n",
    "    beta = q[7]\n",
    "\t\n",
    "    Phi[0] = X1**2 + Y1**2 - meca[\"L1\"]**2\n",
    "    Phi[1] = (X2-X1)**2 + (Y2-Y1)**2 -meca[\"L2\"]**2\n",
    "    Phi[2] = (X3-X2)**2 + (Y3-Y2)**2 - meca[\"L3\"]**2\n",
    "    Phi[3] = (meca[\"XB\"] - X3)**2 + (meca[\"YB\"] - Y3)**2 - meca[\"L4\"]**2\n",
    "\n",
    "    if (math.cos(theta) < (math.sqrt(2)/2) ):\n",
    "        Phi[4] = X1-meca[\"L1\"]*math.cos(theta)\n",
    "    else: \n",
    "        Phi[4] = Y1-meca[\"L1\"]*math.sin(theta)\n",
    "\t\t\n",
    "    if (math.cos(beta) < (math.sqrt(2)/2) ):\n",
    "        Phi[5] = (X3-meca[\"XB\"])-meca[\"L4\"]*math.cos(beta)\n",
    "    else: \n",
    "        Phi[5] = Y3-meca[\"L4\"]*math.sin(beta)\n",
    "\t\t\n",
    "    return Phi\n",
    "\n",
    "\n",
    "\n",
    "def resuelve_prob_posicion(q_init, meca):\n",
    "    #Inicializacion de variables\n",
    "    error = 1e10\n",
    "    tolerancia = 1e-10\n",
    "\n",
    "    #Inicializacion en cero de deltaQ, fi y q\n",
    "    deltaQ = np.zeros ((8,1))\n",
    "    q = q_init\n",
    "    i=0\n",
    "\n",
    "    # Iteraciones hasta conseguir que el error sea menor que la tolerancia\n",
    "\n",
    "    while (error > tolerancia and i<=100):\n",
    "\n",
    "\n",
    "\n",
    "        #Extraer las coordenadas\n",
    "        X1 = q[0]\n",
    "        Y1 = q[1]\n",
    "        X2 = q[2]\n",
    "        Y2 = q[3]\n",
    "        X3 = q[4]\n",
    "        Y3 = q[5]\n",
    "        theta = q[6]\n",
    "        beta = q[7]\n",
    "       \n",
    "        fi=Phi(q,meca)\n",
    "\n",
    "        J = jacob_Phiq(q,meca)\n",
    "        \n",
    "        deltaQ = np.linalg.solve(J,-fi)\n",
    "        q = q + deltaQ\n",
    "        error = np.linalg.norm(deltaQ)  # El error es el modulo del vector\n",
    "        i=i+1\n",
    "\n",
    "    return q\n",
    "\n",
    "\n",
    "J = jacob_Phiq(q,meca)\n",
    "print (\"Jacob=\")\n",
    "pprint.pprint(J)"
   ]
  },
  {
   "cell_type": "markdown",
   "metadata": {},
   "source": [
    "### PASO 2: PROBLEMA VELOCIDAD\n",
    "\n",
    "Consiste en determinar las velocidades de todas las variables del mecanismo una vez sabemos su posición $q$ y la velocidad de los grados de libertad. \n",
    "\n",
    "Partimos de la ecuación:\n",
    "\n",
    "#Фq · q_p = -Ф_p$\n",
    "\n",
    "Siendo $q_p$ el vector velocidad, $Фq$ el jacobiano y $Ф_p$ la derivada parcial de las ecuaciones de restricción respecto al tiempo. Para las ecuaciones de sólido rígido el valor de esta derivada es $0$. Solo tendría un valor no nulo la correspondiente al ángulo, que en ese caso tendría la velocidad que nosotros le indiquemos. \n",
    "\n",
    "En este caso vamos a tomar un valor de $1$. \n",
    "\n",
    "Por lo tanto, tendríamos:\n",
    "\n",
    "$q_p = Фq/Ф_p$"
   ]
  },
  {
   "cell_type": "code",
   "execution_count": 2,
   "metadata": {},
   "outputs": [
    {
     "data": {
      "text/plain": [
       "array([[-1.96013316],\n",
       "       [ 0.19601332],\n",
       "       [ 0.64980812],\n",
       "       [ 3.13219725],\n",
       "       [-0.1682942 ],\n",
       "       [-5.04882591],\n",
       "       [ 0.2       ],\n",
       "       [ 0.2       ]])"
      ]
     },
     "execution_count": 2,
     "metadata": {},
     "output_type": "execute_result"
    }
   ],
   "source": [
    "# PASO 2\n",
    "\n",
    "def resuelve_prob_velocidad(q,meca):\n",
    "    \n",
    "    b = np.zeros ((8,1))\n",
    "    #Velocidad del gdl.\n",
    "    b[6]=0.2\n",
    "    b[7] = 0.2\n",
    "    qp = np.linalg.solve(jacob_Phiq(q,meca),b)\n",
    " \n",
    "    return qp\n",
    "\t\n",
    "resuelve_prob_velocidad (q,meca)"
   ]
  },
  {
   "cell_type": "markdown",
   "metadata": {},
   "source": [
    "### PASO 3: PROBLEMA ACELERACIÓN\n",
    "\n",
    "El problema aceleración trata de determinar las aceleraciones de todas las variables del mecanismo, conociendo la posición$q$, la velocidad $q_p$ y las aceleraciones de los grados de libertad. \n",
    "\n",
    "La ecuación de la que partimos es:\n",
    "\n",
    "$Фq · q_pp = -∂_Фq · q_p$\n",
    "\n",
    "Siendo Фq el jacobiano, q_pp el vector aceleración, q_p el vector velocidad y ∂_Фq la derivada del jacobiano respecto al tiempo. \n",
    "\n",
    "Es decir, si llamamos &b& al conjunto $∂_Фq · q_p$ tendríamos como resultado:\n",
    "\n",
    "$q_pp = -Фq/b$\n",
    "\n",
    "El vector velocidad será:\n",
    "\n",
    "\\begin{equation}\n",
    "\\mathbf{q_p} = \n",
    "\\begin{bmatrix}\n",
    "X_1q \\\\\n",
    "Y_1q \\\\\n",
    "X_2q \\\\\n",
    "Y_2q \\\\\n",
    "X_3q \\\\\n",
    "Y_3q \\\\\n",
    "θ_q\\\\\n",
    "\\beta_q \\\\\n",
    "\\end{bmatrix}\n",
    "\\end{equation}\n",
    "\n",
    "Por otro lado, para calcular la derivada del jacobiano solo tenemos en cuenta las filas que hacen referencia a las ecuaciones de las coordenadas independientes, ya que la última que añadimos para poder realizar los cálculos era adicional. Teniendo en cuenta esto, la derivada del jacobiano sería:\n",
    "\n",
    "¡¡¡¡ COMPLETAR !!!!\n",
    "\n",
    "Como ya tenemos $∂_Фq$ y $q_p$, podemos calcular &b&. La última fila que añadimos es el valor de la aceleración angular, dato que sabemos de antemano. "
   ]
  },
  {
   "cell_type": "code",
   "execution_count": 3,
   "metadata": {},
   "outputs": [
    {
     "data": {
      "text/plain": [
       "array([[-28.92529857],\n",
       "       [ -0.98801335],\n",
       "       [  3.2236644 ],\n",
       "       [ 42.22413726],\n",
       "       [  0.81985889],\n",
       "       [279.78542672],\n",
       "       [ -1.        ],\n",
       "       [ -1.        ]])"
      ]
     },
     "execution_count": 3,
     "metadata": {},
     "output_type": "execute_result"
    }
   ],
   "source": [
    "def resuelve_prob_aceleracion (q,meca):\n",
    "\n",
    "    b=np.zeros ((8,1))\n",
    "    qp = resuelve_prob_velocidad (q,meca)\n",
    "\t\n",
    "\t#Extraer las posiciones\n",
    "    X1 = q[0]\n",
    "    Y1 = q[1]\n",
    "    X2 = q[2]\n",
    "    Y2 = q[3]\n",
    "    X3 = q[4]\n",
    "    Y3 = q[5]\n",
    "    theta = q[6]\n",
    "    beta = q[7]\n",
    "    #Extraer las velocidades\n",
    "    X1q = qp[0]\n",
    "    Y1q = qp[1]\n",
    "    X2q = qp[2]\n",
    "    Y2q = qp[3]\n",
    "    X3q = qp[4]\n",
    "    Y3q = qp[5]\n",
    "    thetaq = qp[6]\n",
    "    betaq = qp[7]\n",
    "    \n",
    "    b[0] = 2*(X1q)**2 + 2*(Y1q)**2\n",
    "    b[1] = -2*X1q*(X2q-X1q) - 2*Y1q*(Y2q-Y1q) + 2*X2q*(X2q*X1q) + 2*Y2q*(Y2q*Y1q)\n",
    "    b[2] = -2*X2q*(X3q-X2q) + 2*Y2q*Y3q + 2*X3q*(X3q-X2q) + 2*Y3q*(Y3q-Y2q)\n",
    "    b[3] = -2*X3q**2 - 2*Y3q**2\n",
    "    \n",
    "    if (math.cos(theta) < (math.sqrt(2)/2) ):\n",
    "        b[4] = thetaq**2 * (meca[\"L1\"] * math.cos(theta))\n",
    "    else: \n",
    "        b[4] =  thetaq**2 * (meca[\"L1\"] * math.sin(theta))\n",
    "    \n",
    "    if (math.cos(beta) < (math.sqrt(2)/2) ):\n",
    "        b[5] = betaq**2 * (meca[\"L4\"] * math.cos(beta))\n",
    "    else: \n",
    "        b[5] =  betaq**2 * (meca[\"L4\"] * math.sin(beta))\n",
    "\t\t\n",
    "    b[6] = 1 #Aceleracion conocida \n",
    "    b[7] = 1\n",
    "    qpp = np.linalg.solve(-jacob_Phiq(q,meca),b)\n",
    "\n",
    "     \n",
    "    return qpp\n",
    "\n",
    "resuelve_prob_aceleracion(q, meca)"
   ]
  },
  {
   "cell_type": "code",
   "execution_count": 4,
   "metadata": {},
   "outputs": [
    {
     "name": "stdout",
     "output_type": "stream",
     "text": [
      "VX1=\n",
      "array([-2.        , -1.98357995, -1.93458942, -1.85383284, -1.74263623,\n",
      "       -1.60282545, -1.4366962 , -0.15636656, -0.1710288 , -0.18288274,\n",
      "       -0.19173374, -0.19743646, -0.19989727, -0.19907575, -0.1949854 ,\n",
      "       -0.18769337, -0.17731942, -0.16403387, -0.14805487, -0.12964481,\n",
      "       -0.10910598, -0.08677561, -0.06302039, -0.03823037, -0.01281261,\n",
      "        0.01281554,  0.03823326,  0.06302318,  0.08677826,  0.10910844,\n",
      "        0.12964705,  0.14805685,  0.16403555,  0.17732078,  0.18769439,\n",
      "        0.19498605,  0.19907603,  0.19989717,  0.19743599,  0.19173291,\n",
      "        0.18288155,  0.17102728,  0.15636473, -1.43671664, -1.60284303,\n",
      "       -1.74265065, -1.85384387, -1.93459688, -1.98358371, -2.        ])\n"
     ]
    },
    {
     "data": {
      "image/png": "[encoded data removed]",
      "text/plain": [
       "<Figure size 432x288 with 1 Axes>"
      ]
     },
     "metadata": {
      "needs_background": "light"
     },
     "output_type": "display_data"
    }
   ],
   "source": [
    "#PASO 4: VELOCIDAD DE X1\n",
    "\n",
    "def grafica_velocidad(q,meca):\n",
    "    \n",
    "    th = np.linspace(0,2*3.1416,50)\n",
    "\n",
    "    VX1 = np.zeros((50,0))\n",
    "\n",
    "    \n",
    "    i=0\n",
    "    for t in th:\n",
    "\n",
    "        q[6] = t\n",
    "        q[7] = t\n",
    "        \n",
    "        resuelve_prob_posicion (q,meca)\n",
    "        qp = resuelve_prob_velocidad (q,meca)\n",
    "\n",
    "        qp[6] = 1  #inicializar qp en 0 con qp[4] = 1 rad/s\n",
    "        qp[7] = 1\n",
    "\n",
    "        resuelve_prob_velocidad(q,meca)\n",
    "    \n",
    "        VX1 = np.append(VX1, qp[0])\n",
    "\n",
    "        i=i+1\n",
    "      \n",
    "    print (\"VX1=\")\n",
    "    pprint.pprint(VX1)\n",
    " \n",
    "    plt.plot(th,VX1)\n",
    "    plt.xlabel ('Angulo')\n",
    "    plt.ylabel ('Velocidad')\n",
    "    plt.title ('Velocidad de X1')\n",
    "\n",
    "    plt.show()\n",
    "    return \n",
    "\n",
    "grafica_velocidad (q,meca)"
   ]
  },
  {
   "cell_type": "code",
   "execution_count": 7,
   "metadata": {},
   "outputs": [
    {
     "name": "stdout",
     "output_type": "stream",
     "text": [
      "VY1=\n",
      "array([ 0.2       ,  0.198358  ,  0.19345894,  0.18538328,  0.17426362,\n",
      "        0.16028255,  0.14366962,  0.01563666,  0.01710288,  0.01828827,\n",
      "        0.01917337,  0.01974365,  0.01998973,  0.01990757,  0.01949854,\n",
      "        0.01876934,  0.01773194,  0.01640339,  0.01480549,  0.01296448,\n",
      "        0.0109106 ,  0.00867756,  0.00630204,  0.00382304,  0.00128126,\n",
      "       -0.00128155, -0.00382333, -0.00630232, -0.00867783, -0.01091084,\n",
      "       -0.0129647 , -0.01480568, -0.01640355, -0.01773208, -0.01876944,\n",
      "       -0.0194986 , -0.0199076 , -0.01998972, -0.0197436 , -0.01917329,\n",
      "       -0.01828816, -0.01710273, -0.01563647,  0.14367166,  0.1602843 ,\n",
      "        0.17426507,  0.18538439,  0.19345969,  0.19835837,  0.2       ])\n"
     ]
    },
    {
     "data": {
      "image/png": "[encoded data removed]",
      "text/plain": [
       "<Figure size 432x288 with 1 Axes>"
      ]
     },
     "metadata": {
      "needs_background": "light"
     },
     "output_type": "display_data"
    }
   ],
   "source": [
    "#PASO 5: VELOCIDAD DE Y1\n",
    "\n",
    "def grafica_velocidad(q,meca):\n",
    "    \n",
    "    th = np.linspace(0,2*3.1416,50)\n",
    "\n",
    "    VY1 = np.zeros((50,0))\n",
    "\n",
    "    \n",
    "    i=0\n",
    "    for t in th:\n",
    "\n",
    "        q[6] = t\n",
    "        q[7] = t\n",
    "        \n",
    "        resuelve_prob_posicion (q,meca)\n",
    "        qp = resuelve_prob_velocidad (q,meca)\n",
    "\n",
    "        qp[6] = 1  #inicializar qp en 0 con qp[4] = 1 rad/s\n",
    "        qp[7] = 1\n",
    "\n",
    "        resuelve_prob_velocidad(q,meca)\n",
    "    \n",
    "        VY1 = np.append(VY1, qp[1])\n",
    "\n",
    "        i=i+1\n",
    "      \n",
    "    print (\"VY1=\")\n",
    "    pprint.pprint(VY1)\n",
    " \n",
    "    plt.plot(th,VY1)\n",
    "    plt.xlabel ('Angulo')\n",
    "    plt.ylabel ('Velocidad')\n",
    "    plt.title ('Velocidad de Y1')\n",
    "\n",
    "    plt.show()\n",
    "    return \n",
    "\n",
    "grafica_velocidad (q,meca)"
   ]
  },
  {
   "cell_type": "code",
   "execution_count": 10,
   "metadata": {},
   "outputs": [
    {
     "name": "stdout",
     "output_type": "stream",
     "text": [
      "VX2=\n",
      "array([ 0.26103286,  0.25888978,  0.25249571,  0.24195565,  0.22744266,\n",
      "        0.20919506,  0.18751246,  0.37395833,  0.40902381,  0.4373731 ,\n",
      "        0.45854069,  0.47217903,  0.47806417,  0.47609946,  0.46631719,\n",
      "        0.44887796,  0.42406813,  0.39229508,  0.35408053,  0.31005196,\n",
      "        0.26093232,  0.20752816,  0.15071637,  0.09142982,  0.03064198,\n",
      "       -0.030649  , -0.09143672, -0.15072304, -0.20753449, -0.26093821,\n",
      "       -0.31005731, -0.35408525, -0.3922991 , -0.42407138, -0.44888038,\n",
      "       -0.46631875, -0.47610014, -0.47806394, -0.47217791, -0.45853869,\n",
      "       -0.43737025, -0.40902017, -0.37395395,  0.18751513,  0.20919735,\n",
      "        0.22744455,  0.24195709,  0.25249668,  0.25889027,  0.26103286])\n"
     ]
    },
    {
     "data": {
      "image/png": "[encoded data removed]",
      "text/plain": [
       "<Figure size 432x288 with 1 Axes>"
      ]
     },
     "metadata": {
      "needs_background": "light"
     },
     "output_type": "display_data"
    }
   ],
   "source": [
    "#PASO 6: VELOCIDAD DE X2\n",
    "\n",
    "def grafica_velocidad(q,meca):\n",
    "    \n",
    "    th = np.linspace(0,2*3.1416,50)\n",
    "\n",
    "    VX2 = np.zeros((50,0))\n",
    "\n",
    "    \n",
    "    i=0\n",
    "    for t in th:\n",
    "\n",
    "        q[6] = t\n",
    "        q[7] = t\n",
    "        \n",
    "        resuelve_prob_posicion (q,meca)\n",
    "        qp = resuelve_prob_velocidad (q,meca)\n",
    "\n",
    "        qp[6] = 1  #inicializar qp en 0 con qp[4] = 1 rad/s\n",
    "        qp[7] = 1\n",
    "\n",
    "        resuelve_prob_velocidad(q,meca)\n",
    "    \n",
    "        VX2 = np.append(VX2, qp[2])\n",
    "\n",
    "        i=i+1\n",
    "      \n",
    "    print (\"VX2=\")\n",
    "    pprint.pprint(VX2)\n",
    " \n",
    "    plt.plot(th,VX2)\n",
    "    plt.xlabel ('Angulo')\n",
    "    plt.ylabel ('Velocidad')\n",
    "    plt.title ('Velocidad de X2')\n",
    "\n",
    "    plt.show()\n",
    "    return \n",
    "\n",
    "grafica_velocidad (q,meca)"
   ]
  },
  {
   "cell_type": "code",
   "execution_count": 11,
   "metadata": {},
   "outputs": [
    {
     "name": "stdout",
     "output_type": "stream",
     "text": [
      "VY2=\n",
      "array([ 2.74366197,  2.72113644,  2.65392971,  2.54314533,  2.39060238,\n",
      "        2.19880562,  1.97090436,  0.61225216,  0.66966207,  0.71607609,\n",
      "        0.75073211,  0.77306108,  0.78269634,  0.77947969,  0.76346394,\n",
      "        0.73491208,  0.69429293,  0.64227345,  0.57970782,  0.50762335,\n",
      "        0.42720368,  0.3397693 ,  0.2467559 ,  0.14969075,  0.05016768,\n",
      "       -0.05017916, -0.14970205, -0.24676682, -0.33977967, -0.42721332,\n",
      "       -0.50763211, -0.57971555, -0.64228004, -0.69429825, -0.73491606,\n",
      "       -0.7634665 , -0.77948079, -0.78269597, -0.77305924, -0.75072884,\n",
      "       -0.71607144, -0.6696561 , -0.61224498,  1.9709324 ,  2.19882973,\n",
      "        2.39062216,  2.54316046,  2.65393994,  2.72114159,  2.74366197])\n"
     ]
    },
    {
     "data": {
      "image/png": "[encoded data removed]",
      "text/plain": [
       "<Figure size 432x288 with 1 Axes>"
      ]
     },
     "metadata": {
      "needs_background": "light"
     },
     "output_type": "display_data"
    }
   ],
   "source": [
    "#PASO 7: VELOCIDAD DE Y2\n",
    "\n",
    "def grafica_velocidad(q,meca):\n",
    "    \n",
    "    th = np.linspace(0,2*3.1416,50)\n",
    "\n",
    "    VY2 = np.zeros((50,0))\n",
    "\n",
    "    \n",
    "    i=0\n",
    "    for t in th:\n",
    "\n",
    "        q[6] = t\n",
    "        q[7] = t\n",
    "        \n",
    "        resuelve_prob_posicion (q,meca)\n",
    "        qp = resuelve_prob_velocidad (q,meca)\n",
    "\n",
    "        qp[6] = 1  #inicializar qp en 0 con qp[4] = 1 rad/s\n",
    "        qp[7] = 1\n",
    "\n",
    "        resuelve_prob_velocidad(q,meca)\n",
    "    \n",
    "        VY2 = np.append(VY2, qp[3])\n",
    "\n",
    "        i=i+1\n",
    "      \n",
    "    print (\"VY2=\")\n",
    "    pprint.pprint(VY2)\n",
    " \n",
    "    plt.plot(th,VY2)\n",
    "    plt.xlabel ('Angulo')\n",
    "    plt.ylabel ('Velocidad')\n",
    "    plt.title ('Velocidad de Y2')\n",
    "\n",
    "    plt.show()\n",
    "    return \n",
    "\n",
    "grafica_velocidad (q,meca)"
   ]
  },
  {
   "cell_type": "code",
   "execution_count": 12,
   "metadata": {},
   "outputs": [
    {
     "name": "stdout",
     "output_type": "stream",
     "text": [
      "VX3=\n",
      "array([ 0.00666667,  0.00661193,  0.00644863,  0.00617944,  0.00580879,\n",
      "        0.00534275,  0.00478899, -0.15636656, -0.1710288 , -0.18288274,\n",
      "       -0.19173374, -0.19743646, -0.19989727, -0.19907575, -0.1949854 ,\n",
      "       -0.18769337, -0.17731942, -0.16403387, -0.14805487, -0.12964481,\n",
      "       -0.10910598, -0.08677561, -0.06302039, -0.03823037, -0.01281261,\n",
      "        0.01281554,  0.03823326,  0.06302318,  0.08677826,  0.10910844,\n",
      "        0.12964705,  0.14805685,  0.16403555,  0.17732078,  0.18769439,\n",
      "        0.19498605,  0.19907603,  0.19989717,  0.19743599,  0.19173291,\n",
      "        0.18288155,  0.17102728,  0.15636473,  0.00478906,  0.00534281,\n",
      "        0.00580884,  0.00617948,  0.00644866,  0.00661195,  0.00666667])\n"
     ]
    },
    {
     "data": {
      "image/png": "[encoded data removed]",
      "text/plain": [
       "<Figure size 432x288 with 1 Axes>"
      ]
     },
     "metadata": {
      "needs_background": "light"
     },
     "output_type": "display_data"
    }
   ],
   "source": [
    "#PASO 8: VELOCIDAD DE X3\n",
    "\n",
    "def grafica_velocidad(q,meca):\n",
    "    \n",
    "    th = np.linspace(0,2*3.1416,50)\n",
    "\n",
    "    VX3 = np.zeros((50,0))\n",
    "\n",
    "    \n",
    "    i=0\n",
    "    for t in th:\n",
    "\n",
    "        q[6] = t\n",
    "        q[7] = t\n",
    "        \n",
    "        resuelve_prob_posicion (q,meca)\n",
    "        qp = resuelve_prob_velocidad (q,meca)\n",
    "\n",
    "        qp[6] = 1  #inicializar qp en 0 con qp[4] = 1 rad/s\n",
    "        qp[7] = 1\n",
    "\n",
    "        resuelve_prob_velocidad(q,meca)\n",
    "    \n",
    "        VX3 = np.append(VX3, qp[4])\n",
    "\n",
    "        i=i+1\n",
    "      \n",
    "    print (\"VX3=\")\n",
    "    pprint.pprint(VX3)\n",
    " \n",
    "    plt.plot(th,VX3)\n",
    "    plt.xlabel ('Angulo')\n",
    "    plt.ylabel ('Velocidad')\n",
    "    plt.title ('Velocidad de X3')\n",
    "\n",
    "    plt.show()\n",
    "    return \n",
    "\n",
    "grafica_velocidad (q,meca)"
   ]
  },
  {
   "cell_type": "code",
   "execution_count": 13,
   "metadata": {},
   "outputs": [
    {
     "name": "stdout",
     "output_type": "stream",
     "text": [
      "VY3=\n",
      "array([ 0.2       ,  0.198358  ,  0.19345894,  0.18538328,  0.17426362,\n",
      "        0.16028255,  0.14366962, -4.69099675, -5.13086404, -5.48648229,\n",
      "       -5.75201224, -5.92309386, -5.99691799, -5.97227243, -5.84956187,\n",
      "       -5.63080121, -5.31958252, -4.92101603, -4.44164621, -3.88934434,\n",
      "       -3.27317925, -2.60326839, -1.89061174, -1.14691116, -0.38437823,\n",
      "        0.38446621,  1.14699769,  1.89069541,  2.60334782,  3.27325313,\n",
      "        3.88941147,  4.44170548,  4.92106647,  5.3196233 ,  5.63083166,\n",
      "        5.84958148,  5.9722809 ,  5.99691516,  5.92307979,  5.75198715,\n",
      "        5.48644661,  5.13081834,  4.69094178,  0.14367166,  0.1602843 ,\n",
      "        0.17426507,  0.18538439,  0.19345969,  0.19835837,  0.2       ])\n"
     ]
    },
    {
     "data": {
      "image/png": "[encoded data removed]",
      "text/plain": [
       "<Figure size 432x288 with 1 Axes>"
      ]
     },
     "metadata": {
      "needs_background": "light"
     },
     "output_type": "display_data"
    }
   ],
   "source": [
    "#PASO 9: VELOCIDAD DE Y3\n",
    "\n",
    "def grafica_velocidad(q,meca):\n",
    "    \n",
    "    th = np.linspace(0,2*3.1416,50)\n",
    "\n",
    "    VY3 = np.zeros((50,0))\n",
    "\n",
    "    \n",
    "    i=0\n",
    "    for t in th:\n",
    "\n",
    "        q[6] = t\n",
    "        q[7] = t\n",
    "        \n",
    "        resuelve_prob_posicion (q,meca)\n",
    "        qp = resuelve_prob_velocidad (q,meca)\n",
    "\n",
    "        qp[6] = 1  #inicializar qp en 0 con qp[4] = 1 rad/s\n",
    "        qp[7] = 1\n",
    "\n",
    "        resuelve_prob_velocidad(q,meca)\n",
    "    \n",
    "        VY3 = np.append(VY3, qp[5])\n",
    "\n",
    "        i=i+1\n",
    "      \n",
    "    print (\"VY3=\")\n",
    "    pprint.pprint(VY3)\n",
    " \n",
    "    plt.plot(th,VY3)\n",
    "    plt.xlabel ('Angulo')\n",
    "    plt.ylabel ('Velocidad')\n",
    "    plt.title ('Velocidad de Y3')\n",
    "\n",
    "    plt.show()\n",
    "    return \n",
    "\n",
    "grafica_velocidad (q,meca)"
   ]
  },
  {
   "cell_type": "code",
   "execution_count": 16,
   "metadata": {},
   "outputs": [
    {
     "name": "stdout",
     "output_type": "stream",
     "text": [
      "AX1=\n",
      "array([-3.04000000e+01, -2.97703024e+01, -2.80262168e+01, -2.52913603e+01,\n",
      "       -2.17620198e+01, -1.76940272e+01, -1.33856147e+01,  7.56893265e-01,\n",
      "        8.34408386e-01,  8.98222480e-01,  9.47287718e-01,  9.80798444e-01,\n",
      "        9.98204412e-01,  9.99219815e-01,  9.83827979e-01,  9.52281640e-01,\n",
      "        9.05098789e-01,  8.43054172e-01,  7.67166564e-01,  6.78682043e-01,\n",
      "        5.79053530e-01,  4.69916930e-01,  3.53064270e-01,  2.30414278e-01,\n",
      "        1.03980872e-01, -2.41599044e-02, -1.51903974e-01, -2.77153774e-01,\n",
      "       -3.97852695e-01, -5.12018855e-01, -6.17777640e-01, -7.13392486e-01,\n",
      "       -7.97293393e-01, -8.68102703e-01, -9.24657724e-01, -9.66029819e-01,\n",
      "       -9.91539658e-01, -1.00076837e+00, -9.93564411e-01, -9.70046078e-01,\n",
      "       -9.30599540e-01, -8.75872513e-01, -8.06763616e-01, -1.39426486e+01,\n",
      "       -1.81729931e+01, -2.21550251e+01, -2.55919269e+01, -2.82293892e+01,\n",
      "       -2.98727303e+01, -3.03999941e+01])\n"
     ]
    },
    {
     "data": {
      "image/png": "[encoded data removed]",
      "text/plain": [
       "<Figure size 432x288 with 1 Axes>"
      ]
     },
     "metadata": {
      "needs_background": "light"
     },
     "output_type": "display_data"
    }
   ],
   "source": [
    "#PASO 10: ACELERACION DE X1\n",
    "\n",
    "def grafica_aceleracion(q,meca):\n",
    "    \n",
    "    th = np.linspace(0,2*3.1416,50)\n",
    "    AX1 = np.zeros((50,0))\n",
    "\n",
    "    \n",
    "    i=0\n",
    "    for t in th:\n",
    "\n",
    "        q[6] = t\n",
    "        q[7] = t\n",
    "        \n",
    "        resuelve_prob_posicion (q,meca)\n",
    "        qpp = resuelve_prob_aceleracion(q,meca)\n",
    "\n",
    "        qpp[6] = 1  #inicializar qp en 0 con qpp[6] = 1 rad/s**2\n",
    "        qpp[7] = 1\n",
    "\n",
    "        resuelve_prob_aceleracion(q,meca)\n",
    "        \n",
    "        \n",
    "        AX1 = np.append(AX1, qpp[0])\n",
    "\n",
    "        i=i+1\n",
    "      \n",
    "    print (\"AX1=\")\n",
    "    pprint.pprint(AX1)\t\n",
    " \n",
    "    plt.plot(th,AX1)\n",
    "    plt.xlabel ('Angulo')\n",
    "    plt.ylabel ('Aceleracion')\n",
    "    plt.title ('Aceleracion (X1)')\t\n",
    "\n",
    "    plt.show()\n",
    "    return \n",
    "\n",
    "grafica_aceleracion (q,meca)\n"
   ]
  },
  {
   "cell_type": "code",
   "execution_count": 17,
   "metadata": {},
   "outputs": [
    {
     "name": "stdout",
     "output_type": "stream",
     "text": [
      "AY1=\n",
      "array([-1.        , -0.99690507, -0.97744092, -0.94192713, -0.89094686,\n",
      "       -0.82533719, -0.74617545, -0.10038433, -0.1129842 , -0.12360281,\n",
      "       -0.13185822, -0.13745081, -0.14017895, -0.13994945, -0.1367823 ,\n",
      "       -0.13080925, -0.12226648, -0.1114816 , -0.0988561 , -0.08484406,\n",
      "       -0.06992851, -0.054597  , -0.03931771, -0.0245176 , -0.01056389,\n",
      "        0.00225011,  0.013714  ,  0.02370374,  0.0321795 ,  0.03917819,\n",
      "        0.04480132,  0.04919921,  0.0525526 ,  0.05505319,  0.0568843 ,\n",
      "        0.05820323,  0.05912639,  0.05971837,  0.05998566,  0.05987549,\n",
      "        0.05927983,  0.05804442,  0.05598193, -0.69053139, -0.77749751,\n",
      "       -0.85169709, -0.91191176, -0.9571528 , -0.98667734, -1.00000059])\n"
     ]
    },
    {
     "data": {
      "image/png": "[encoded data removed]",
      "text/plain": [
       "<Figure size 432x288 with 1 Axes>"
      ]
     },
     "metadata": {
      "needs_background": "light"
     },
     "output_type": "display_data"
    }
   ],
   "source": [
    "#PASO 11: ACELERACION DE Y1\n",
    "\n",
    "def grafica_aceleracion(q,meca):\n",
    "    \n",
    "    th = np.linspace(0,2*3.1416,50)\n",
    "    \n",
    "    AY1 = np.zeros((50,0))\n",
    "\n",
    "    \n",
    "    i=0\n",
    "    for t in th:\n",
    "\n",
    "        q[6] = t\n",
    "        q[7] = t\n",
    "        \n",
    "        resuelve_prob_posicion (q,meca)\n",
    "        qpp = resuelve_prob_aceleracion(q,meca)\n",
    "\n",
    "        qpp[6] = 1  #inicializar qp en 0 con qpp[6] = 1 rad/s**2\n",
    "        qpp[7] = 1\n",
    "\n",
    "        resuelve_prob_aceleracion(q,meca)\n",
    "        \n",
    "        \n",
    "        AY1 = np.append(AY1, qpp[1])\n",
    "\n",
    "        i=i+1\n",
    "      \n",
    "    print (\"AY1=\")\n",
    "    pprint.pprint(AY1)\t\n",
    " \n",
    "    plt.plot(th,AY1)\n",
    "    plt.xlabel ('Angulo')\n",
    "    plt.ylabel ('Aceleracion')\n",
    "    plt.title ('Aceleracion (Y1)')\t\n",
    "\n",
    "    plt.show()\n",
    "    return \n",
    "\n",
    "grafica_aceleracion (q,meca)"
   ]
  },
  {
   "cell_type": "code",
   "execution_count": 18,
   "metadata": {},
   "outputs": [
    {
     "name": "stdout",
     "output_type": "stream",
     "text": [
      "AX2=\n",
      "array([ 4.67700826,  4.58166587,  4.31565144,  3.89824819,  3.35996425,\n",
      "        2.74032607,  2.08503383, -1.51547343, -1.64325437, -1.74557842,\n",
      "       -1.82320332, -1.87677618, -1.90670123, -1.91305217, -1.89553533,\n",
      "       -1.85350644, -1.78603997, -1.69204641, -1.57042939, -1.42027168,\n",
      "       -1.24103657, -1.0327699 , -0.79628719, -0.53333076, -0.24668302,\n",
      "        0.05977536,  0.38107077,  0.71120978,  1.04332011,  1.36985505,\n",
      "        1.68285235,  1.97423494,  2.23613734,  2.46123952,  2.64308883,\n",
      "        2.77639101,  2.85725259,  2.88335986,  2.85408364,  2.77050307,\n",
      "        2.63534749,  2.45285987,  2.22859067,  2.15774655,  2.80284953,\n",
      "        3.41126755,  3.9374851 ,  4.34217453,  4.59503739,  4.6770075 ])\n"
     ]
    },
    {
     "data": {
      "image/png": "[encoded data removed]",
      "text/plain": [
       "<Figure size 432x288 with 1 Axes>"
      ]
     },
     "metadata": {
      "needs_background": "light"
     },
     "output_type": "display_data"
    }
   ],
   "source": [
    "#PASO 12: ACELERACION DE X2\n",
    "\n",
    "def grafica_aceleracion(q,meca):\n",
    "    \n",
    "    th = np.linspace(0,2*3.1416,50)\n",
    "    \n",
    "    AX2 = np.zeros((50,0))\n",
    "\n",
    "    \n",
    "    i=0\n",
    "    for t in th:\n",
    "\n",
    "        q[6] = t\n",
    "        q[7] = t\n",
    "        \n",
    "        resuelve_prob_posicion (q,meca)\n",
    "        qpp = resuelve_prob_aceleracion(q,meca)\n",
    "\n",
    "        qpp[6] = 1  #inicializar qp en 0 con qpp[6] = 1 rad/s**2\n",
    "        qpp[7] = 1\n",
    "\n",
    "        resuelve_prob_aceleracion(q,meca)\n",
    "        \n",
    "        \n",
    "        AX2 = np.append(AX2, qpp[2])\n",
    "\n",
    "        i=i+1\n",
    "      \n",
    "    print (\"AX2=\")\n",
    "    pprint.pprint(AX2)\t\n",
    " \n",
    "    plt.plot(th,AX2)\n",
    "    plt.xlabel ('Angulo')\n",
    "    plt.ylabel ('Aceleracion')\n",
    "    plt.title ('Aceleracion (X2)')\t\n",
    "\n",
    "    plt.show()\n",
    "    return \n",
    "\n",
    "grafica_aceleracion (q,meca)"
   ]
  },
  {
   "cell_type": "code",
   "execution_count": 20,
   "metadata": {},
   "outputs": [
    {
     "name": "stdout",
     "output_type": "stream",
     "text": [
      "AY2=\n",
      "array([45.18987583, 44.25345396, 41.65012504, 37.56964051, 32.31212256,\n",
      "       26.2663035 , 19.88147937, -2.58480887, -2.8164778 , -3.00404663,\n",
      "       -3.14722896, -3.2458304 , -3.29965188, -3.30842949, -3.2718117 ,\n",
      "       -3.18937418, -3.06067198, -2.88532852, -2.6631598 , -2.39433066,\n",
      "       -2.07953731, -1.72020738, -1.31870484, -0.87852404, -0.40445411,\n",
      "        0.09730624,  0.619103  ,  1.15186703,  1.68525195,  2.20787471,\n",
      "        2.70765501,  3.17224104,  3.58949973,  3.94804244,  4.23775124,\n",
      "        4.45026896,  4.57941675,  4.62150737,  4.57553007,  4.44319267,\n",
      "        4.22881768,  3.93910134,  3.58275467, 20.64568916, 26.92341829,\n",
      "       32.8513106 , 37.98201046, 41.92887471, 44.39398424, 45.18986775])\n"
     ]
    },
    {
     "data": {
      "image/png": "[encoded data removed]",
      "text/plain": [
       "<Figure size 432x288 with 1 Axes>"
      ]
     },
     "metadata": {
      "needs_background": "light"
     },
     "output_type": "display_data"
    }
   ],
   "source": [
    "#PASO 13: ACELERACION DE Y2\n",
    "\n",
    "def grafica_aceleracion(q,meca):\n",
    "    \n",
    "    th = np.linspace(0,2*3.1416,50)\n",
    "    \n",
    "    AY2 = np.zeros((50,0))\n",
    "\n",
    "    \n",
    "    i=0\n",
    "    for t in th:\n",
    "\n",
    "        q[6] = t\n",
    "        q[7] = t\n",
    "        \n",
    "        resuelve_prob_posicion (q,meca)\n",
    "        qpp = resuelve_prob_aceleracion(q,meca)\n",
    "\n",
    "        qpp[6] = 1  #inicializar qp en 0 con qpp[6] = 1 rad/s**2\n",
    "        qpp[7] = 1\n",
    "\n",
    "        resuelve_prob_aceleracion(q,meca)\n",
    "        \n",
    "        \n",
    "        AY2 = np.append(AY2, qpp[3])\n",
    "\n",
    "        i=i+1\n",
    "      \n",
    "    print (\"AY2=\")\n",
    "    pprint.pprint(AY2)\t\n",
    " \n",
    "    plt.plot(th,AY2)\n",
    "    plt.xlabel ('Angulo')\n",
    "    plt.ylabel ('Aceleracion')\n",
    "    plt.title ('Aceleracion (Y2)')\t\n",
    "\n",
    "    plt.show()\n",
    "    return \n",
    "\n",
    "grafica_aceleracion (q,meca)"
   ]
  },
  {
   "cell_type": "code",
   "execution_count": 21,
   "metadata": {},
   "outputs": [
    {
     "name": "stdout",
     "output_type": "stream",
     "text": [
      "AX3=\n",
      "array([-0.04668148, -0.04636004, -0.04507068, -0.04286595, -0.03983208,\n",
      "       -0.03608425, -0.03176048,  0.75689326,  0.83440839,  0.89822248,\n",
      "        0.94728772,  0.98079844,  0.99820441,  0.99921981,  0.98382798,\n",
      "        0.95228164,  0.90509879,  0.84305417,  0.76716656,  0.67868204,\n",
      "        0.57905353,  0.46991693,  0.35306427,  0.23041428,  0.10398087,\n",
      "       -0.0241599 , -0.15190397, -0.27715377, -0.39785269, -0.51201885,\n",
      "       -0.61777764, -0.71339249, -0.79729339, -0.8681027 , -0.92465772,\n",
      "       -0.96602982, -0.99153966, -1.00076837, -0.99356441, -0.97004608,\n",
      "       -0.93059954, -0.87587251, -0.80676362, -0.02990587, -0.03448978,\n",
      "       -0.03852392, -0.04186558, -0.04439451, -0.04601916, -0.0466815 ])\n"
     ]
    },
    {
     "data": {
      "image/png": "[encoded data removed]",
      "text/plain": [
       "<Figure size 432x288 with 1 Axes>"
      ]
     },
     "metadata": {
      "needs_background": "light"
     },
     "output_type": "display_data"
    }
   ],
   "source": [
    "#PASO 14: ACELERACION DE X3\n",
    "\n",
    "def grafica_aceleracion(q,meca):\n",
    "    \n",
    "    th = np.linspace(0,2*3.1416,50)\n",
    "    \n",
    "    AX3 = np.zeros((50,0))\n",
    "\n",
    "    \n",
    "    i=0\n",
    "    for t in th:\n",
    "\n",
    "        q[6] = t\n",
    "        q[7] = t\n",
    "        \n",
    "        resuelve_prob_posicion (q,meca)\n",
    "        qpp = resuelve_prob_aceleracion(q,meca)\n",
    "\n",
    "        qpp[6] = 1  #inicializar qp en 0 con qpp[6] = 1 rad/s**2\n",
    "        qpp[7] = 1\n",
    "\n",
    "        resuelve_prob_aceleracion(q,meca)\n",
    "        \n",
    "        \n",
    "        AX3 = np.append(AX3, qpp[4])\n",
    "\n",
    "        i=i+1\n",
    "      \n",
    "    print (\"AX3=\")\n",
    "    pprint.pprint(AX3)\t\n",
    " \n",
    "    plt.plot(th,AX3)\n",
    "    plt.xlabel ('Angulo')\n",
    "    plt.ylabel ('Aceleracion')\n",
    "    plt.title ('Aceleracion (X3)')\t\n",
    "\n",
    "    plt.show()\n",
    "    return \n",
    "\n",
    "grafica_aceleracion (q,meca)"
   ]
  },
  {
   "cell_type": "code",
   "execution_count": 22,
   "metadata": {},
   "outputs": [
    {
     "name": "stdout",
     "output_type": "stream",
     "text": [
      "AY3=\n",
      "array([ -1.        ,  -0.99690507,  -0.97744092,  -0.94192713,\n",
      "        -0.89094686,  -0.82533719,  -0.74617545, 243.00580774,\n",
      "       288.58241797, 328.29601483, 359.64269757, 380.64417352,\n",
      "       389.97597522, 387.05328598, 372.06877292, 345.9799601 ,\n",
      "       310.44696768, 267.72468386, 220.51640996, 171.79853326,\n",
      "       124.62767112,  81.94287131,  46.37577147,  20.08109595,\n",
      "         4.59853404,   0.75498788,   8.61353552,  27.47239732,\n",
      "        55.91392261,  91.90034167, 132.90997018, 176.10490929,\n",
      "       218.51922638, 257.25526597, 289.67521174, 313.57533648,\n",
      "       327.33151399, 330.00645253, 321.41161924, 302.11979491,\n",
      "       273.42743419, 237.26929618, 196.09093878,  -0.69053139,\n",
      "        -0.77749751,  -0.85169709,  -0.91191176,  -0.9571528 ,\n",
      "        -0.98667734,  -1.00000059])\n"
     ]
    },
    {
     "data": {
      "image/png": "[encoded data removed]",
      "text/plain": [
       "<Figure size 432x288 with 1 Axes>"
      ]
     },
     "metadata": {
      "needs_background": "light"
     },
     "output_type": "display_data"
    }
   ],
   "source": [
    "#PASO 15: ACELERACION DE Y3\n",
    "\n",
    "def grafica_aceleracion(q,meca):\n",
    "    \n",
    "    th = np.linspace(0,2*3.1416,50)\n",
    "    \n",
    "    AY3 = np.zeros((50,0))\n",
    "\n",
    "    \n",
    "    i=0\n",
    "    for t in th:\n",
    "\n",
    "        q[6] = t\n",
    "        q[7] = t\n",
    "        \n",
    "        resuelve_prob_posicion (q,meca)\n",
    "        qpp = resuelve_prob_aceleracion(q,meca)\n",
    "\n",
    "        qpp[6] = 1  #inicializar qp en 0 con qpp[6] = 1 rad/s**2\n",
    "        qpp[7] = 1\n",
    "\n",
    "        resuelve_prob_aceleracion(q,meca)\n",
    "        \n",
    "        \n",
    "        AY3 = np.append(AY3, qpp[5])\n",
    "\n",
    "        i=i+1\n",
    "      \n",
    "    print (\"AY3=\")\n",
    "    pprint.pprint(AY3)\t\n",
    " \n",
    "    plt.plot(th,AY3)\n",
    "    plt.xlabel ('Angulo')\n",
    "    plt.ylabel ('Aceleracion')\n",
    "    plt.title ('Aceleracion (Y3)')\t\n",
    "\n",
    "    plt.show()\n",
    "    return \n",
    "\n",
    "grafica_aceleracion (q,meca)"
   ]
  }
 ],
 "metadata": {
  "kernelspec": {
   "display_name": "Python 3",
   "language": "python",
   "name": "python3"
  },
  "language_info": {
   "codemirror_mode": {
    "name": "ipython",
    "version": 3
   },
   "file_extension": ".py",
   "mimetype": "text/x-python",
   "name": "python",
   "nbconvert_exporter": "python",
   "pygments_lexer": "ipython3",
   "version": "3.7.0"
  }
 },
 "nbformat": 4,
 "nbformat_minor": 2
}
